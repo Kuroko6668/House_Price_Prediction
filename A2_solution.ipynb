{
 "cells": [
  {
   "cell_type": "markdown",
   "metadata": {},
   "source": [
    "\n",
    "**Note: This notebook will take 3-4 minutes to run through from start to finish. The majority of this execution time is spent in section 5 where the random forest model is optimised**\n",
    "\n",
    "## Introduction\n",
    "- This notebook will apply the cleaned dataset from Task1 and use it to create 3 different models for residential property price prediction.\n",
    "- Each model will be a supervised learning model and the output will be an integer. \n",
    "- For each house a number of features will be given (independent variables) and the target, house price, will be predicted.\n",
    "\n",
    "This homework will be broken down into 4 main parts:\n",
    "1. We will review the dataset from homework one and decide on which features to use to build our model\n",
    "2. We will create a Linear Regression model and analyse\n",
    "3. We will create a Decision Tree model and analyse\n",
    "4. We will create a Random Forest model and analyse\n",
    "5. We will then try to optimized each model  "
   ]
  },
  {
   "cell_type": "code",
   "execution_count": 584,
   "metadata": {},
   "outputs": [],
   "source": [
    "from matplotlib.backends.backend_pdf import PdfPages\n",
    "from sklearn.datasets import load_boston\n",
    "from tqdm import tqdm\n",
    "from math import radians, cos, sin, asin, sqrt\n",
    "# hide ipykernel warnings \n",
    "import warnings\n",
    "import pandas as pd\n",
    "from sklearn.ensemble import RandomForestRegressor\n",
    "import numpy as np\n",
    "import statsmodels.api as sm\n",
    "import seaborn as sns\n",
    "import matplotlib.pyplot as plt\n",
    "import matplotlib.patches as mpatches\n",
    "from sklearn.tree import DecisionTreeRegressor\n",
    "from patsy import dmatrices\n",
    "\n",
    "from sklearn.linear_model import LinearRegression\n",
    "from sklearn.linear_model import LogisticRegression\n",
    "from sklearn.tree import DecisionTreeClassifier\n",
    "from sklearn.ensemble import RandomForestClassifier\n",
    "from sklearn.model_selection import train_test_split\n",
    "from sklearn.metrics import auc\n",
    "from sklearn import metrics\n",
    "from sklearn.model_selection import cross_validate\n",
    "from sklearn.model_selection import cross_val_score\n",
    "from sklearn.tree import export_graphviz\n",
    "from sklearn.metrics import precision_recall_curve\n",
    "\n",
    "from sklearn.metrics import mean_squared_error, r2_score\n",
    "\n",
    "import graphviz\n",
    "from graphviz import Source\n",
    "\n",
    "warnings.filterwarnings('ignore')"
   ]
  },
  {
   "cell_type": "markdown",
   "metadata": {},
   "source": [
    "The original dataset has been cleaned (Task1) and is now imported as a starting point for this work. \n",
    "1. The accompanying data quality report from Task1 can be found attached as PDF as a background to this cleaned dataset;\n",
    "2. A summary of this plan can be seen in the table below;\n",
    "3. In addition a number of extra features were added (to to better capture the problem domain) that were not in the original dataset.\n",
    "    - Postal_Code_Known : a new binary feature which states whether the Property Size is known or not\n",
    "    - Size_Known : whether Size of the house is know or not\n",
    "    - In_Dublin : whether the Postal Code is in dublin or not\n",
    "    - PercentSatisfactoryTrades: Measure the Percentage of satisfactory trades\n",
    "    - Year: categorical feature which states the year of this sale"
   ]
  },
  {
   "cell_type": "markdown",
   "metadata": {},
   "source": [
    "| Feature                 | Data Quality Issue         | Handling Strategy         |\n",
    "|-------------------------|----------------------      |------------------------   |\n",
    "|Date of Sale (dd/mm/yyyy)(datetime64[ns])          |  Some dates failed logical integrity tests.  |    Drop rows of failing instances|\n",
    "Address      | Some dates failed logical integrity tests. |  Drop rows of failing instances.|\n",
    "Address      | High cardinality (9983) |  Keep as is |\n",
    "Postal Code\t (category)             |   Missing Values (81.34%)            | Fill the missing values with 'No_value'. |       \n",
    "County (category)                 | None | Do Nothing | \n",
    "Price (€) (continuous)             | Outliers   | Drop rows of outliers | \n",
    "Not Full Market Price (category)                | None | Do Nothing |\n",
    "VAT Exclusive (category)              | None | Do Nothing |\n",
    "Description of Property (category)             | None | Do Nothing |\n",
    "Property Size Descriptio(category)             | Missing Values (89.64%) | Fill the missing values with 'No_value'. \n",
    "Property Size Descriptio(category)             | Contain overlapping values | Replace greater than 125 sq metres with greater than or equal to 125 sq metres"
   ]
  },
  {
   "cell_type": "markdown",
   "metadata": {},
   "source": [
    "##  1.1 Review, prepare and split the dataset into two datasets: 70% training and 30% test\n",
    "Here we will import cleaned dataset"
   ]
  },
  {
   "cell_type": "code",
   "execution_count": 585,
   "metadata": {},
   "outputs": [
    {
     "data": {
      "text/html": [
       "<div>\n",
       "<style scoped>\n",
       "    .dataframe tbody tr th:only-of-type {\n",
       "        vertical-align: middle;\n",
       "    }\n",
       "\n",
       "    .dataframe tbody tr th {\n",
       "        vertical-align: top;\n",
       "    }\n",
       "\n",
       "    .dataframe thead th {\n",
       "        text-align: right;\n",
       "    }\n",
       "</style>\n",
       "<table border=\"1\" class=\"dataframe\">\n",
       "  <thead>\n",
       "    <tr style=\"text-align: right;\">\n",
       "      <th></th>\n",
       "      <th>Date of Sale (dd/mm/yyyy)</th>\n",
       "      <th>Address</th>\n",
       "      <th>Postal Code</th>\n",
       "      <th>County</th>\n",
       "      <th>Price (€)</th>\n",
       "      <th>Not Full Market Price</th>\n",
       "      <th>VAT Exclusive</th>\n",
       "      <th>Description of Property</th>\n",
       "      <th>Property Size Description</th>\n",
       "      <th>Size_Known</th>\n",
       "      <th>Postal_Code_Known</th>\n",
       "      <th>In_Dublin</th>\n",
       "      <th>Year</th>\n",
       "    </tr>\n",
       "  </thead>\n",
       "  <tbody>\n",
       "    <tr>\n",
       "      <th>0</th>\n",
       "      <td>2018-09-13</td>\n",
       "      <td>15 ARDKEALE, MOUNT OVAL VILLAGE, ROCHESTOWN</td>\n",
       "      <td>No_value</td>\n",
       "      <td>Cork</td>\n",
       "      <td>250000.0</td>\n",
       "      <td>No</td>\n",
       "      <td>No</td>\n",
       "      <td>Second-Hand Dwelling house /Apartment</td>\n",
       "      <td>No_value</td>\n",
       "      <td>0</td>\n",
       "      <td>No</td>\n",
       "      <td>0</td>\n",
       "      <td>2018</td>\n",
       "    </tr>\n",
       "    <tr>\n",
       "      <th>1</th>\n",
       "      <td>2016-09-26</td>\n",
       "      <td>APT.6 - THE MILLSTREAM, THE LINKS, PORTMARNOCK</td>\n",
       "      <td>Dublin 13</td>\n",
       "      <td>Dublin</td>\n",
       "      <td>249000.0</td>\n",
       "      <td>No</td>\n",
       "      <td>No</td>\n",
       "      <td>Second-Hand Dwelling house /Apartment</td>\n",
       "      <td>No_value</td>\n",
       "      <td>0</td>\n",
       "      <td>Yes</td>\n",
       "      <td>1</td>\n",
       "      <td>2016</td>\n",
       "    </tr>\n",
       "    <tr>\n",
       "      <th>2</th>\n",
       "      <td>2016-04-05</td>\n",
       "      <td>7 THE ORCHARD, DUNCARBERY, TULLAGHAN</td>\n",
       "      <td>No_value</td>\n",
       "      <td>Leitrim</td>\n",
       "      <td>50000.0</td>\n",
       "      <td>No</td>\n",
       "      <td>No</td>\n",
       "      <td>Second-Hand Dwelling house /Apartment</td>\n",
       "      <td>No_value</td>\n",
       "      <td>0</td>\n",
       "      <td>No</td>\n",
       "      <td>0</td>\n",
       "      <td>2016</td>\n",
       "    </tr>\n",
       "    <tr>\n",
       "      <th>3</th>\n",
       "      <td>2016-11-15</td>\n",
       "      <td>ROSE COTTAGE, NEW ST, KILKENNY</td>\n",
       "      <td>No_value</td>\n",
       "      <td>Kilkenny</td>\n",
       "      <td>112500.0</td>\n",
       "      <td>Yes</td>\n",
       "      <td>No</td>\n",
       "      <td>Second-Hand Dwelling house /Apartment</td>\n",
       "      <td>No_value</td>\n",
       "      <td>0</td>\n",
       "      <td>No</td>\n",
       "      <td>0</td>\n",
       "      <td>2016</td>\n",
       "    </tr>\n",
       "    <tr>\n",
       "      <th>4</th>\n",
       "      <td>2016-12-05</td>\n",
       "      <td>16 HARDWICK STREET, CORK, COUNTY CORK</td>\n",
       "      <td>No_value</td>\n",
       "      <td>Cork</td>\n",
       "      <td>262000.0</td>\n",
       "      <td>No</td>\n",
       "      <td>No</td>\n",
       "      <td>Second-Hand Dwelling house /Apartment</td>\n",
       "      <td>No_value</td>\n",
       "      <td>0</td>\n",
       "      <td>No</td>\n",
       "      <td>0</td>\n",
       "      <td>2016</td>\n",
       "    </tr>\n",
       "  </tbody>\n",
       "</table>\n",
       "</div>"
      ],
      "text/plain": [
       "  Date of Sale (dd/mm/yyyy)                                         Address  \\\n",
       "0                2018-09-13     15 ARDKEALE, MOUNT OVAL VILLAGE, ROCHESTOWN   \n",
       "1                2016-09-26  APT.6 - THE MILLSTREAM, THE LINKS, PORTMARNOCK   \n",
       "2                2016-04-05            7 THE ORCHARD, DUNCARBERY, TULLAGHAN   \n",
       "3                2016-11-15                  ROSE COTTAGE, NEW ST, KILKENNY   \n",
       "4                2016-12-05           16 HARDWICK STREET, CORK, COUNTY CORK   \n",
       "\n",
       "  Postal Code    County  Price (€) Not Full Market Price VAT Exclusive  \\\n",
       "0    No_value      Cork   250000.0                    No            No   \n",
       "1   Dublin 13    Dublin   249000.0                    No            No   \n",
       "2    No_value   Leitrim    50000.0                    No            No   \n",
       "3    No_value  Kilkenny   112500.0                   Yes            No   \n",
       "4    No_value      Cork   262000.0                    No            No   \n",
       "\n",
       "                 Description of Property Property Size Description  \\\n",
       "0  Second-Hand Dwelling house /Apartment                  No_value   \n",
       "1  Second-Hand Dwelling house /Apartment                  No_value   \n",
       "2  Second-Hand Dwelling house /Apartment                  No_value   \n",
       "3  Second-Hand Dwelling house /Apartment                  No_value   \n",
       "4  Second-Hand Dwelling house /Apartment                  No_value   \n",
       "\n",
       "   Size_Known Postal_Code_Known  In_Dublin  Year  \n",
       "0           0                No          0  2018  \n",
       "1           0               Yes          1  2016  \n",
       "2           0                No          0  2016  \n",
       "3           0                No          0  2016  \n",
       "4           0                No          0  2016  "
      ]
     },
     "execution_count": 585,
     "metadata": {},
     "output_type": "execute_result"
    }
   ],
   "source": [
    "# read in the cleaned csv\n",
    "df = pd.read_csv(\"ppr_21200542_cleaned_new_features.csv\", keep_default_na=True, delimiter=',', skipinitialspace=True)\n",
    "df.head(5)"
   ]
  },
  {
   "cell_type": "markdown",
   "metadata": {},
   "source": [
    "After importing the cleaned csv, as a reminder we will check the shape, inspect the datatypes and check for any remaining null values"
   ]
  },
  {
   "cell_type": "code",
   "execution_count": 586,
   "metadata": {},
   "outputs": [
    {
     "data": {
      "text/plain": [
       "(9415, 13)"
      ]
     },
     "execution_count": 586,
     "metadata": {},
     "output_type": "execute_result"
    }
   ],
   "source": [
    "df.shape"
   ]
  },
  {
   "cell_type": "code",
   "execution_count": 587,
   "metadata": {},
   "outputs": [
    {
     "data": {
      "text/plain": [
       "Date of Sale (dd/mm/yyyy)     object\n",
       "Address                       object\n",
       "Postal Code                   object\n",
       "County                        object\n",
       "Price (€)                    float64\n",
       "Not Full Market Price         object\n",
       "VAT Exclusive                 object\n",
       "Description of Property       object\n",
       "Property Size Description     object\n",
       "Size_Known                     int64\n",
       "Postal_Code_Known             object\n",
       "In_Dublin                      int64\n",
       "Year                           int64\n",
       "dtype: object"
      ]
     },
     "execution_count": 587,
     "metadata": {},
     "output_type": "execute_result"
    }
   ],
   "source": [
    "df.dtypes"
   ]
  },
  {
   "cell_type": "code",
   "execution_count": 588,
   "metadata": {},
   "outputs": [
    {
     "data": {
      "text/plain": [
       "Date of Sale (dd/mm/yyyy)    0\n",
       "Address                      0\n",
       "Postal Code                  0\n",
       "County                       0\n",
       "Price (€)                    0\n",
       "Not Full Market Price        0\n",
       "VAT Exclusive                0\n",
       "Description of Property      0\n",
       "Property Size Description    0\n",
       "Size_Known                   0\n",
       "Postal_Code_Known            0\n",
       "In_Dublin                    0\n",
       "Year                         0\n",
       "dtype: int64"
      ]
     },
     "execution_count": 588,
     "metadata": {},
     "output_type": "execute_result"
    }
   ],
   "source": [
    "df.isna().sum()"
   ]
  },
  {
   "cell_type": "markdown",
   "metadata": {},
   "source": [
    "#### Convert datatypes for plotting later\n",
    "We will now review the datatypes and convert if needed. This will help avoid plotting errors later in the notebook\n",
    "- Categorical features \"Postal_Code_Known\" & \"VAT Exclusive\" & \"Not Full Market Price\" are boolean False/True values. These will be converted to \"int64\" with value of 0,1\n",
    "- Categorical features \"Address\", \"Postal Code\" ,\"Description of Property\", \"Property Size Description\" & \"County\" have reverted back to type \"object\". We will convert these features back to their Categorical types.\n",
    "- Date feature \"Date of Sale (dd/mm/yyyy)\" have reverted back to type \"object\". We will convert this features back to their datetime64 types."
   ]
  },
  {
   "cell_type": "code",
   "execution_count": 589,
   "metadata": {},
   "outputs": [],
   "source": [
    "#convert object to category\n",
    "df['Address'] = df['Address'].astype('category')\n",
    "df['Postal Code'] = df['Postal Code'].astype('category')\n",
    "df['County'] = df['County'].astype('category')\n",
    "df['Description of Property'] = df['Description of Property'].astype('category')\n",
    "df['Property Size Description'] = df['Property Size Description'].astype('category')\n",
    "# convert Postal_Code_Known to 0,1\n",
    "df['Postal_Code_Known'] = df['Postal_Code_Known'].map({'Yes': 1, \"No\": 0})\n",
    "# convert Not Full Market Price to 0,1\n",
    "df['Not Full Market Price'] = df['Not Full Market Price'].map({'Yes': 1, \"No\": 0})\n",
    "# convert VAT Exclusive to 0,1\n",
    "df['VAT Exclusive'] = df['VAT Exclusive'].map({'Yes': 1, \"No\": 0})\n",
    "# convert date features to datetime types\n",
    "df['Date of Sale (dd/mm/yyyy)'] = df['Date of Sale (dd/mm/yyyy)'].astype('datetime64')\n"
   ]
  },
  {
   "cell_type": "code",
   "execution_count": 590,
   "metadata": {},
   "outputs": [
    {
     "data": {
      "text/html": [
       "<div>\n",
       "<style scoped>\n",
       "    .dataframe tbody tr th:only-of-type {\n",
       "        vertical-align: middle;\n",
       "    }\n",
       "\n",
       "    .dataframe tbody tr th {\n",
       "        vertical-align: top;\n",
       "    }\n",
       "\n",
       "    .dataframe thead th {\n",
       "        text-align: right;\n",
       "    }\n",
       "</style>\n",
       "<table border=\"1\" class=\"dataframe\">\n",
       "  <thead>\n",
       "    <tr style=\"text-align: right;\">\n",
       "      <th></th>\n",
       "      <th>Date of Sale (dd/mm/yyyy)</th>\n",
       "      <th>Address</th>\n",
       "      <th>Postal Code</th>\n",
       "      <th>County</th>\n",
       "      <th>Price (€)</th>\n",
       "      <th>Not Full Market Price</th>\n",
       "      <th>VAT Exclusive</th>\n",
       "      <th>Description of Property</th>\n",
       "      <th>Property Size Description</th>\n",
       "      <th>Size_Known</th>\n",
       "      <th>Postal_Code_Known</th>\n",
       "      <th>In_Dublin</th>\n",
       "      <th>Year</th>\n",
       "    </tr>\n",
       "  </thead>\n",
       "  <tbody>\n",
       "    <tr>\n",
       "      <th>9410</th>\n",
       "      <td>2013-08-30</td>\n",
       "      <td>49 MOYNE ROAD, THURLES</td>\n",
       "      <td>No_value</td>\n",
       "      <td>Tipperary</td>\n",
       "      <td>110000.0</td>\n",
       "      <td>0</td>\n",
       "      <td>0</td>\n",
       "      <td>Second-Hand Dwelling house /Apartment</td>\n",
       "      <td>No_value</td>\n",
       "      <td>0</td>\n",
       "      <td>0</td>\n",
       "      <td>0</td>\n",
       "      <td>2013</td>\n",
       "    </tr>\n",
       "    <tr>\n",
       "      <th>9411</th>\n",
       "      <td>2010-08-10</td>\n",
       "      <td>16 The Drive, Castletown, Celbridge</td>\n",
       "      <td>No_value</td>\n",
       "      <td>Kildare</td>\n",
       "      <td>362500.0</td>\n",
       "      <td>0</td>\n",
       "      <td>0</td>\n",
       "      <td>Second-Hand Dwelling house /Apartment</td>\n",
       "      <td>No_value</td>\n",
       "      <td>0</td>\n",
       "      <td>0</td>\n",
       "      <td>0</td>\n",
       "      <td>2010</td>\n",
       "    </tr>\n",
       "    <tr>\n",
       "      <th>9412</th>\n",
       "      <td>2016-07-28</td>\n",
       "      <td>10 BEARU MHOR, COIS BHEARA, ATHY</td>\n",
       "      <td>No_value</td>\n",
       "      <td>Kildare</td>\n",
       "      <td>195000.0</td>\n",
       "      <td>0</td>\n",
       "      <td>0</td>\n",
       "      <td>Second-Hand Dwelling house /Apartment</td>\n",
       "      <td>No_value</td>\n",
       "      <td>0</td>\n",
       "      <td>0</td>\n",
       "      <td>0</td>\n",
       "      <td>2016</td>\n",
       "    </tr>\n",
       "    <tr>\n",
       "      <th>9413</th>\n",
       "      <td>2018-02-23</td>\n",
       "      <td>MILTOWN LODGE, JOHNSWELL RD, KILKENNY</td>\n",
       "      <td>No_value</td>\n",
       "      <td>Kilkenny</td>\n",
       "      <td>325000.0</td>\n",
       "      <td>0</td>\n",
       "      <td>0</td>\n",
       "      <td>Second-Hand Dwelling house /Apartment</td>\n",
       "      <td>No_value</td>\n",
       "      <td>0</td>\n",
       "      <td>0</td>\n",
       "      <td>0</td>\n",
       "      <td>2018</td>\n",
       "    </tr>\n",
       "    <tr>\n",
       "      <th>9414</th>\n",
       "      <td>2010-02-12</td>\n",
       "      <td>38 Beech House, Carrickmines Green, Glenamuck ...</td>\n",
       "      <td>No_value</td>\n",
       "      <td>Dublin</td>\n",
       "      <td>168675.0</td>\n",
       "      <td>0</td>\n",
       "      <td>1</td>\n",
       "      <td>New Dwelling house /Apartment</td>\n",
       "      <td>greater than or equal to 38 sq metres and less...</td>\n",
       "      <td>1</td>\n",
       "      <td>0</td>\n",
       "      <td>1</td>\n",
       "      <td>2010</td>\n",
       "    </tr>\n",
       "  </tbody>\n",
       "</table>\n",
       "</div>"
      ],
      "text/plain": [
       "     Date of Sale (dd/mm/yyyy)  \\\n",
       "9410                2013-08-30   \n",
       "9411                2010-08-10   \n",
       "9412                2016-07-28   \n",
       "9413                2018-02-23   \n",
       "9414                2010-02-12   \n",
       "\n",
       "                                                Address Postal Code  \\\n",
       "9410                             49 MOYNE ROAD, THURLES    No_value   \n",
       "9411                16 The Drive, Castletown, Celbridge    No_value   \n",
       "9412                   10 BEARU MHOR, COIS BHEARA, ATHY    No_value   \n",
       "9413              MILTOWN LODGE, JOHNSWELL RD, KILKENNY    No_value   \n",
       "9414  38 Beech House, Carrickmines Green, Glenamuck ...    No_value   \n",
       "\n",
       "         County  Price (€)  Not Full Market Price  VAT Exclusive  \\\n",
       "9410  Tipperary   110000.0                      0              0   \n",
       "9411    Kildare   362500.0                      0              0   \n",
       "9412    Kildare   195000.0                      0              0   \n",
       "9413   Kilkenny   325000.0                      0              0   \n",
       "9414     Dublin   168675.0                      0              1   \n",
       "\n",
       "                    Description of Property  \\\n",
       "9410  Second-Hand Dwelling house /Apartment   \n",
       "9411  Second-Hand Dwelling house /Apartment   \n",
       "9412  Second-Hand Dwelling house /Apartment   \n",
       "9413  Second-Hand Dwelling house /Apartment   \n",
       "9414          New Dwelling house /Apartment   \n",
       "\n",
       "                              Property Size Description  Size_Known  \\\n",
       "9410                                           No_value           0   \n",
       "9411                                           No_value           0   \n",
       "9412                                           No_value           0   \n",
       "9413                                           No_value           0   \n",
       "9414  greater than or equal to 38 sq metres and less...           1   \n",
       "\n",
       "      Postal_Code_Known  In_Dublin  Year  \n",
       "9410                  0          0  2013  \n",
       "9411                  0          0  2010  \n",
       "9412                  0          0  2016  \n",
       "9413                  0          0  2018  \n",
       "9414                  0          1  2010  "
      ]
     },
     "execution_count": 590,
     "metadata": {},
     "output_type": "execute_result"
    }
   ],
   "source": [
    "df.tail(5)"
   ]
  },
  {
   "cell_type": "markdown",
   "metadata": {},
   "source": [
    "Show correlation with the target for each new feature"
   ]
  },
  {
   "cell_type": "code",
   "execution_count": 591,
   "metadata": {},
   "outputs": [
    {
     "data": {
      "text/html": [
       "<div>\n",
       "<style scoped>\n",
       "    .dataframe tbody tr th:only-of-type {\n",
       "        vertical-align: middle;\n",
       "    }\n",
       "\n",
       "    .dataframe tbody tr th {\n",
       "        vertical-align: top;\n",
       "    }\n",
       "\n",
       "    .dataframe thead th {\n",
       "        text-align: right;\n",
       "    }\n",
       "</style>\n",
       "<table border=\"1\" class=\"dataframe\">\n",
       "  <thead>\n",
       "    <tr style=\"text-align: right;\">\n",
       "      <th></th>\n",
       "      <th>Size_Known</th>\n",
       "      <th>Postal_Code_Known</th>\n",
       "      <th>In_Dublin</th>\n",
       "      <th>Year</th>\n",
       "      <th>Price (€)</th>\n",
       "    </tr>\n",
       "  </thead>\n",
       "  <tbody>\n",
       "    <tr>\n",
       "      <th>Size_Known</th>\n",
       "      <td>1.000000</td>\n",
       "      <td>-0.034707</td>\n",
       "      <td>0.030241</td>\n",
       "      <td>-0.188442</td>\n",
       "      <td>0.021212</td>\n",
       "    </tr>\n",
       "    <tr>\n",
       "      <th>Postal_Code_Known</th>\n",
       "      <td>-0.034707</td>\n",
       "      <td>1.000000</td>\n",
       "      <td>0.711294</td>\n",
       "      <td>0.051686</td>\n",
       "      <td>0.312158</td>\n",
       "    </tr>\n",
       "    <tr>\n",
       "      <th>In_Dublin</th>\n",
       "      <td>0.030241</td>\n",
       "      <td>0.711294</td>\n",
       "      <td>1.000000</td>\n",
       "      <td>-0.053169</td>\n",
       "      <td>0.423086</td>\n",
       "    </tr>\n",
       "    <tr>\n",
       "      <th>Year</th>\n",
       "      <td>-0.188442</td>\n",
       "      <td>0.051686</td>\n",
       "      <td>-0.053169</td>\n",
       "      <td>1.000000</td>\n",
       "      <td>0.208504</td>\n",
       "    </tr>\n",
       "    <tr>\n",
       "      <th>Price (€)</th>\n",
       "      <td>0.021212</td>\n",
       "      <td>0.312158</td>\n",
       "      <td>0.423086</td>\n",
       "      <td>0.208504</td>\n",
       "      <td>1.000000</td>\n",
       "    </tr>\n",
       "  </tbody>\n",
       "</table>\n",
       "</div>"
      ],
      "text/plain": [
       "                   Size_Known  Postal_Code_Known  In_Dublin      Year  \\\n",
       "Size_Known           1.000000          -0.034707   0.030241 -0.188442   \n",
       "Postal_Code_Known   -0.034707           1.000000   0.711294  0.051686   \n",
       "In_Dublin            0.030241           0.711294   1.000000 -0.053169   \n",
       "Year                -0.188442           0.051686  -0.053169  1.000000   \n",
       "Price (€)            0.021212           0.312158   0.423086  0.208504   \n",
       "\n",
       "                   Price (€)  \n",
       "Size_Known          0.021212  \n",
       "Postal_Code_Known   0.312158  \n",
       "In_Dublin           0.423086  \n",
       "Year                0.208504  \n",
       "Price (€)           1.000000  "
      ]
     },
     "execution_count": 591,
     "metadata": {},
     "output_type": "execute_result"
    }
   ],
   "source": [
    "NetFractionInstallBurden_corr = df[['Size_Known','Postal_Code_Known','In_Dublin', 'Year', 'Price (€)']].corr()\n",
    "NetFractionInstallBurden_corr"
   ]
  },
  {
   "cell_type": "markdown",
   "metadata": {},
   "source": [
    "Reviewing the correlations above:\n",
    "- Size_Known (0.021212) - Closest to original\n",
    "\n",
    "Based on this evaluation we will drop 'Size_Known' and keep the other options"
   ]
  },
  {
   "cell_type": "code",
   "execution_count": 592,
   "metadata": {},
   "outputs": [],
   "source": [
    "df = df.drop(['Size_Known'],1)"
   ]
  },
  {
   "cell_type": "markdown",
   "metadata": {},
   "source": [
    "The shape resulting, data types and null values can now be seen below"
   ]
  },
  {
   "cell_type": "code",
   "execution_count": 593,
   "metadata": {},
   "outputs": [
    {
     "data": {
      "text/plain": [
       "(9415, 12)"
      ]
     },
     "execution_count": 593,
     "metadata": {},
     "output_type": "execute_result"
    }
   ],
   "source": [
    "df.shape"
   ]
  },
  {
   "cell_type": "code",
   "execution_count": 594,
   "metadata": {},
   "outputs": [
    {
     "data": {
      "text/plain": [
       "Date of Sale (dd/mm/yyyy)    datetime64[ns]\n",
       "Address                            category\n",
       "Postal Code                        category\n",
       "County                             category\n",
       "Price (€)                           float64\n",
       "Not Full Market Price                 int64\n",
       "VAT Exclusive                         int64\n",
       "Description of Property            category\n",
       "Property Size Description          category\n",
       "Postal_Code_Known                     int64\n",
       "In_Dublin                             int64\n",
       "Year                                  int64\n",
       "dtype: object"
      ]
     },
     "execution_count": 594,
     "metadata": {},
     "output_type": "execute_result"
    }
   ],
   "source": [
    "df.dtypes"
   ]
  },
  {
   "cell_type": "code",
   "execution_count": 595,
   "metadata": {},
   "outputs": [
    {
     "data": {
      "text/plain": [
       "Date of Sale (dd/mm/yyyy)    0\n",
       "Address                      0\n",
       "Postal Code                  0\n",
       "County                       0\n",
       "Price (€)                    0\n",
       "Not Full Market Price        0\n",
       "VAT Exclusive                0\n",
       "Description of Property      0\n",
       "Property Size Description    0\n",
       "Postal_Code_Known            0\n",
       "In_Dublin                    0\n",
       "Year                         0\n",
       "dtype: int64"
      ]
     },
     "execution_count": 595,
     "metadata": {},
     "output_type": "execute_result"
    }
   ],
   "source": [
    "df.isna().sum()"
   ]
  },
  {
   "cell_type": "markdown",
   "metadata": {},
   "source": [
    "##### We will now shuffle the dataframe before splitting the dataset\n",
    "- This step is strictly not necessary as performing train/test split will also shuffle the dataframe"
   ]
  },
  {
   "cell_type": "code",
   "execution_count": 596,
   "metadata": {},
   "outputs": [
    {
     "data": {
      "text/html": [
       "<div>\n",
       "<style scoped>\n",
       "    .dataframe tbody tr th:only-of-type {\n",
       "        vertical-align: middle;\n",
       "    }\n",
       "\n",
       "    .dataframe tbody tr th {\n",
       "        vertical-align: top;\n",
       "    }\n",
       "\n",
       "    .dataframe thead th {\n",
       "        text-align: right;\n",
       "    }\n",
       "</style>\n",
       "<table border=\"1\" class=\"dataframe\">\n",
       "  <thead>\n",
       "    <tr style=\"text-align: right;\">\n",
       "      <th></th>\n",
       "      <th>Date of Sale (dd/mm/yyyy)</th>\n",
       "      <th>Address</th>\n",
       "      <th>Postal Code</th>\n",
       "      <th>County</th>\n",
       "      <th>Price (€)</th>\n",
       "      <th>Not Full Market Price</th>\n",
       "      <th>VAT Exclusive</th>\n",
       "      <th>Description of Property</th>\n",
       "      <th>Property Size Description</th>\n",
       "      <th>Postal_Code_Known</th>\n",
       "      <th>In_Dublin</th>\n",
       "      <th>Year</th>\n",
       "    </tr>\n",
       "  </thead>\n",
       "  <tbody>\n",
       "    <tr>\n",
       "      <th>0</th>\n",
       "      <td>2018-09-13</td>\n",
       "      <td>15 ARDKEALE, MOUNT OVAL VILLAGE, ROCHESTOWN</td>\n",
       "      <td>No_value</td>\n",
       "      <td>Cork</td>\n",
       "      <td>250000.0</td>\n",
       "      <td>0</td>\n",
       "      <td>0</td>\n",
       "      <td>Second-Hand Dwelling house /Apartment</td>\n",
       "      <td>No_value</td>\n",
       "      <td>0</td>\n",
       "      <td>0</td>\n",
       "      <td>2018</td>\n",
       "    </tr>\n",
       "    <tr>\n",
       "      <th>1</th>\n",
       "      <td>2016-09-26</td>\n",
       "      <td>APT.6 - THE MILLSTREAM, THE LINKS, PORTMARNOCK</td>\n",
       "      <td>Dublin 13</td>\n",
       "      <td>Dublin</td>\n",
       "      <td>249000.0</td>\n",
       "      <td>0</td>\n",
       "      <td>0</td>\n",
       "      <td>Second-Hand Dwelling house /Apartment</td>\n",
       "      <td>No_value</td>\n",
       "      <td>1</td>\n",
       "      <td>1</td>\n",
       "      <td>2016</td>\n",
       "    </tr>\n",
       "    <tr>\n",
       "      <th>2</th>\n",
       "      <td>2016-04-05</td>\n",
       "      <td>7 THE ORCHARD, DUNCARBERY, TULLAGHAN</td>\n",
       "      <td>No_value</td>\n",
       "      <td>Leitrim</td>\n",
       "      <td>50000.0</td>\n",
       "      <td>0</td>\n",
       "      <td>0</td>\n",
       "      <td>Second-Hand Dwelling house /Apartment</td>\n",
       "      <td>No_value</td>\n",
       "      <td>0</td>\n",
       "      <td>0</td>\n",
       "      <td>2016</td>\n",
       "    </tr>\n",
       "    <tr>\n",
       "      <th>3</th>\n",
       "      <td>2016-11-15</td>\n",
       "      <td>ROSE COTTAGE, NEW ST, KILKENNY</td>\n",
       "      <td>No_value</td>\n",
       "      <td>Kilkenny</td>\n",
       "      <td>112500.0</td>\n",
       "      <td>1</td>\n",
       "      <td>0</td>\n",
       "      <td>Second-Hand Dwelling house /Apartment</td>\n",
       "      <td>No_value</td>\n",
       "      <td>0</td>\n",
       "      <td>0</td>\n",
       "      <td>2016</td>\n",
       "    </tr>\n",
       "    <tr>\n",
       "      <th>4</th>\n",
       "      <td>2016-12-05</td>\n",
       "      <td>16 HARDWICK STREET, CORK, COUNTY CORK</td>\n",
       "      <td>No_value</td>\n",
       "      <td>Cork</td>\n",
       "      <td>262000.0</td>\n",
       "      <td>0</td>\n",
       "      <td>0</td>\n",
       "      <td>Second-Hand Dwelling house /Apartment</td>\n",
       "      <td>No_value</td>\n",
       "      <td>0</td>\n",
       "      <td>0</td>\n",
       "      <td>2016</td>\n",
       "    </tr>\n",
       "  </tbody>\n",
       "</table>\n",
       "</div>"
      ],
      "text/plain": [
       "  Date of Sale (dd/mm/yyyy)                                         Address  \\\n",
       "0                2018-09-13     15 ARDKEALE, MOUNT OVAL VILLAGE, ROCHESTOWN   \n",
       "1                2016-09-26  APT.6 - THE MILLSTREAM, THE LINKS, PORTMARNOCK   \n",
       "2                2016-04-05            7 THE ORCHARD, DUNCARBERY, TULLAGHAN   \n",
       "3                2016-11-15                  ROSE COTTAGE, NEW ST, KILKENNY   \n",
       "4                2016-12-05           16 HARDWICK STREET, CORK, COUNTY CORK   \n",
       "\n",
       "  Postal Code    County  Price (€)  Not Full Market Price  VAT Exclusive  \\\n",
       "0    No_value      Cork   250000.0                      0              0   \n",
       "1   Dublin 13    Dublin   249000.0                      0              0   \n",
       "2    No_value   Leitrim    50000.0                      0              0   \n",
       "3    No_value  Kilkenny   112500.0                      1              0   \n",
       "4    No_value      Cork   262000.0                      0              0   \n",
       "\n",
       "                 Description of Property Property Size Description  \\\n",
       "0  Second-Hand Dwelling house /Apartment                  No_value   \n",
       "1  Second-Hand Dwelling house /Apartment                  No_value   \n",
       "2  Second-Hand Dwelling house /Apartment                  No_value   \n",
       "3  Second-Hand Dwelling house /Apartment                  No_value   \n",
       "4  Second-Hand Dwelling house /Apartment                  No_value   \n",
       "\n",
       "   Postal_Code_Known  In_Dublin  Year  \n",
       "0                  0          0  2018  \n",
       "1                  1          1  2016  \n",
       "2                  0          0  2016  \n",
       "3                  0          0  2016  \n",
       "4                  0          0  2016  "
      ]
     },
     "execution_count": 596,
     "metadata": {},
     "output_type": "execute_result"
    }
   ],
   "source": [
    "# randomly generate sequence based on dataframe index and set to be new index\n",
    "df.set_index(np.random.permutation(df.index))\n",
    "# sort the resulting random index\n",
    "df.sort_index(inplace=True)\n",
    "df.head(5)"
   ]
  },
  {
   "cell_type": "markdown",
   "metadata": {},
   "source": [
    "##### The dataset will now be split into two datasets: 70% training and 30% test\n",
    "- First we will set the target feature \"y\" to be \"Price (€)\"\n",
    "- Then we will set \"X\" to be the remaining features in the dataframe i.e. we drop \"Price (€)\" from the dataframe"
   ]
  },
  {
   "cell_type": "code",
   "execution_count": 597,
   "metadata": {},
   "outputs": [],
   "source": [
    "y = pd.DataFrame(df[\"Price (€)\"])\n",
    "X = df.drop([\"Price (€)\"],1)"
   ]
  },
  {
   "cell_type": "markdown",
   "metadata": {},
   "source": [
    "##### The data set can now be split\n",
    "- The train test split will randomly split the dataset as per the test size\n",
    "- We will set the random state=1 to allow the random shuffle to be repeated within this notebook only"
   ]
  },
  {
   "cell_type": "code",
   "execution_count": 598,
   "metadata": {},
   "outputs": [
    {
     "name": "stdout",
     "output_type": "stream",
     "text": [
      "original range is:  9415\n",
      "training range (70%):\t rows 0 to 6590\n",
      "test range (30%): \t rows 6590 to 9415\n"
     ]
    }
   ],
   "source": [
    "# Split the dataset into two datasets: 70% training and 30% test\n",
    "X_train, X_test, y_train, y_test = train_test_split(X, y, test_size=0.3,random_state=1)\n",
    "\n",
    "print(\"original range is: \",df.shape[0])\n",
    "print(\"training range (70%):\\t rows 0 to\", round(X_train.shape[0]))\n",
    "print(\"test range (30%): \\t rows\", round(X_train.shape[0]), \"to\", round(X_train.shape[0]) + X_test.shape[0])"
   ]
  },
  {
   "cell_type": "markdown",
   "metadata": {},
   "source": [
    "The dataset is now ready for plotting"
   ]
  },
  {
   "cell_type": "markdown",
   "metadata": {},
   "source": [
    "## 1.2 On the training set we will now carry out a series of plots comparing all features to help make decisions on what features to keep for the model \n",
    "\n",
    "- All plots will be using the training subset of dataset: X_train, y_train\n",
    "\n",
    "### 1.2.1 Plot the correlations between all the continuous features. "
   ]
  },
  {
   "cell_type": "code",
   "execution_count": 599,
   "metadata": {},
   "outputs": [
    {
     "data": {
      "text/plain": [
       "(array([0.5, 1.5, 2.5, 3.5, 4.5]),\n",
       " [Text(0.5, 0, 'Not Full Market Price'),\n",
       "  Text(1.5, 0, 'VAT Exclusive'),\n",
       "  Text(2.5, 0, 'Postal_Code_Known'),\n",
       "  Text(3.5, 0, 'In_Dublin'),\n",
       "  Text(4.5, 0, 'Year')])"
      ]
     },
     "execution_count": 599,
     "metadata": {},
     "output_type": "execute_result"
    },
    {
     "data": {
      "image/png": "[encoded data removed]",
      "text/plain": [
       "<Figure size 1440x1440 with 2 Axes>"
      ]
     },
     "metadata": {},
     "output_type": "display_data"
    }
   ],
   "source": [
    "# Correlation matrix using code found on https://stanford.edu/~mwaskom/software/seaborn/examples/many_pairwise_correlations.html\n",
    "sns.set(style=\"white\")\n",
    "continuous_columns = df.select_dtypes(['int64']).columns\n",
    "df[continuous_columns].dtypes\n",
    "# Calculate correlation of all pairs of continuous features\n",
    "corr = X_train[continuous_columns].corr()\n",
    "\n",
    "# Generate a mask for the upper triangle\n",
    "mask = np.zeros_like(corr, dtype=np.bool)\n",
    "mask[np.triu_indices_from(mask)] = True\n",
    "\n",
    "# Set up the matplotlib figure\n",
    "f, ax = plt.subplots(figsize=(20, 20))\n",
    "\n",
    "# Generate a custom colormap - blue and red\n",
    "cmap = sns.diverging_palette(220, 10, as_cmap=True)\n",
    "\n",
    "# Draw the heatmap with the mask and correct aspect ratio\n",
    "sns.heatmap(corr, annot=True, mask=mask, cmap=cmap, vmax=1, vmin=-1,\n",
    "            square=True, xticklabels=True, yticklabels=True,\n",
    "            linewidths=.5, cbar_kws={\"shrink\": .5}, ax=ax)\n",
    "plt.yticks(rotation = 0)\n",
    "plt.xticks(rotation = 90)"
   ]
  },
  {
   "cell_type": "markdown",
   "metadata": {},
   "source": [
    "#### Interpretation of the results\n",
    "- Strong correlations -  We can see clearly from the above heat map that there are a number of features that have string correlations\n",
    "    - 'In_Dublin' and 'Postal_Code_Known' (0.71) - This is to be expected as most post codes are \"dublin xx\", We only need to keep one of these features.\n",
    "- Weak correlations - We can see a number of features with no apparent correlation to any other features\n",
    "    - 'Not Full Market Price' - we will check this feature against the target later and if no strong correlation we can remove then\n",
    "    - 'VAT Exclusive' - we will check this feature against the target later and if no strong correlation we can remove then\n",
    "    - 'Year' - we will check this feature against the target later and if no strong correlation we can remove then\n",
    "\n",
    "**Current status : Drop In_Dublin**\n",
    "- We will label this as low_information_gain features"
   ]
  },
  {
   "cell_type": "code",
   "execution_count": 600,
   "metadata": {},
   "outputs": [],
   "source": [
    "low_information_gain = ['In_Dublin']"
   ]
  },
  {
   "cell_type": "markdown",
   "metadata": {},
   "source": [
    "### 1.2.2 Plot interaction between continuous features and target feature\n",
    "- Here we will loop over each continuous feature and make a scatter plot against the target 'Price'\n",
    "- We will discuss what we observe from these plots, e.g. which continuous features seem to be better at predicting the target feature\n",
    "- We will choose a subset of continuous features we find promising (if any) and justify our choice.\n"
   ]
  },
  {
   "cell_type": "code",
   "execution_count": 601,
   "metadata": {},
   "outputs": [
    {
     "name": "stderr",
     "output_type": "stream",
     "text": [
      "*c* argument looks like a single numeric RGB or RGBA sequence, which should be avoided as value-mapping will have precedence in case its length matches with *x* & *y*.  Please use the *color* keyword-argument or provide a 2D array with a single row if you intend to specify the same RGB or RGBA value for all points.\n",
      "*c* argument looks like a single numeric RGB or RGBA sequence, which should be avoided as value-mapping will have precedence in case its length matches with *x* & *y*.  Please use the *color* keyword-argument or provide a 2D array with a single row if you intend to specify the same RGB or RGBA value for all points.\n",
      "*c* argument looks like a single numeric RGB or RGBA sequence, which should be avoided as value-mapping will have precedence in case its length matches with *x* & *y*.  Please use the *color* keyword-argument or provide a 2D array with a single row if you intend to specify the same RGB or RGBA value for all points.\n",
      "*c* argument looks like a single numeric RGB or RGBA sequence, which should be avoided as value-mapping will have precedence in case its length matches with *x* & *y*.  Please use the *color* keyword-argument or provide a 2D array with a single row if you intend to specify the same RGB or RGBA value for all points.\n",
      "*c* argument looks like a single numeric RGB or RGBA sequence, which should be avoided as value-mapping will have precedence in case its length matches with *x* & *y*.  Please use the *color* keyword-argument or provide a 2D array with a single row if you intend to specify the same RGB or RGBA value for all points.\n"
     ]
    },
    {
     "data": {
      "text/html": [
       "<div>\n",
       "<style scoped>\n",
       "    .dataframe tbody tr th:only-of-type {\n",
       "        vertical-align: middle;\n",
       "    }\n",
       "\n",
       "    .dataframe tbody tr th {\n",
       "        vertical-align: top;\n",
       "    }\n",
       "\n",
       "    .dataframe thead th {\n",
       "        text-align: right;\n",
       "    }\n",
       "</style>\n",
       "<table border=\"1\" class=\"dataframe\">\n",
       "  <thead>\n",
       "    <tr style=\"text-align: right;\">\n",
       "      <th></th>\n",
       "      <th>Price (€)</th>\n",
       "    </tr>\n",
       "  </thead>\n",
       "  <tbody>\n",
       "    <tr>\n",
       "      <th>In_Dublin</th>\n",
       "      <td>0.419089</td>\n",
       "    </tr>\n",
       "    <tr>\n",
       "      <th>Postal_Code_Known</th>\n",
       "      <td>0.314132</td>\n",
       "    </tr>\n",
       "    <tr>\n",
       "      <th>Year</th>\n",
       "      <td>0.209885</td>\n",
       "    </tr>\n",
       "    <tr>\n",
       "      <th>VAT Exclusive</th>\n",
       "      <td>0.138129</td>\n",
       "    </tr>\n",
       "    <tr>\n",
       "      <th>Not Full Market Price</th>\n",
       "      <td>-0.138639</td>\n",
       "    </tr>\n",
       "  </tbody>\n",
       "</table>\n",
       "</div>"
      ],
      "text/plain": [
       "                       Price (€)\n",
       "In_Dublin               0.419089\n",
       "Postal_Code_Known       0.314132\n",
       "Year                    0.209885\n",
       "VAT Exclusive           0.138129\n",
       "Not Full Market Price  -0.138639"
      ]
     },
     "execution_count": 601,
     "metadata": {},
     "output_type": "execute_result"
    },
    {
     "data": {
      "image/png": "[encoded data removed]",
      "text/plain": [
       "<Figure size 432x288 with 1 Axes>"
      ]
     },
     "metadata": {},
     "output_type": "display_data"
    },
    {
     "data": {
      "image/png": "[encoded data removed]",
      "text/plain": [
       "<Figure size 432x288 with 1 Axes>"
      ]
     },
     "metadata": {},
     "output_type": "display_data"
    },
    {
     "data": {
      "image/png": "[encoded data removed]",
      "text/plain": [
       "<Figure size 432x288 with 1 Axes>"
      ]
     },
     "metadata": {},
     "output_type": "display_data"
    },
    {
     "data": {
      "image/png": "[encoded data removed]",
      "text/plain": [
       "<Figure size 432x288 with 1 Axes>"
      ]
     },
     "metadata": {},
     "output_type": "display_data"
    },
    {
     "data": {
      "image/png": "[encoded data removed]",
      "text/plain": [
       "<Figure size 432x288 with 1 Axes>"
      ]
     },
     "metadata": {},
     "output_type": "display_data"
    }
   ],
   "source": [
    "# dict to hold correlation values \n",
    "corr_dict = {}\n",
    "\n",
    "# plot pairwise interaction between all continuous features and target\n",
    "for column in X_train[continuous_columns]:\n",
    "    # create temp df to merge column and target\n",
    "    df_temp = pd.concat([X_train[column], y_train], axis=1)\n",
    "    # store correlation in variable\n",
    "    correlation = df_temp[[column, \"Price (€)\"]].corr().values[0,1]\n",
    "    # plot the column and tartget feature\n",
    "    df_temp.plot(kind='scatter', x=column, y=\"Price (€)\", label=\"%.3f\" % correlation)\n",
    "    # add correlation to dict\n",
    "    corr_dict[column] = correlation\n",
    "\n",
    "# dataframe holding sorted correlation values to aid in interpreting results\n",
    "corr_df = pd.DataFrame.from_dict(corr_dict, orient='index', columns=['Price (€)']).sort_values('Price (€)', ascending=False)\n",
    "corr_df"
   ]
  },
  {
   "cell_type": "markdown",
   "metadata": {},
   "source": [
    "#### 1.2.3 Interpretation of the results\n",
    "- Observing the plots, visually there are no clearly defined correlations and this is probably to be expected with a complex problem like this. There are many interactions to take into account.\n",
    "- Reviewing the sorted correlation dataframe we get a better overview of all the correlations. \n",
    "- We will breakdown the correlation values into 3 bins for purposes of interpretation taking only their absolute value into account\n",
    "- Note: The bounds for each bin are arbitrary and for the purpose of splitting up the features only. \n",
    "\n",
    "| Low correlation | Medium correlation | High correlation |\n",
    "|-----------------|--------------------|------------------|\n",
    "| x <= 0.15       | 0.15 < x < 0.25    | x >= 0.25        |\n",
    "| 2 features     | 1  features        | 3 features       |\n",
    "| 33%             | 17%                | 50%              |\n",
    "\n",
    "\n",
    "- The strongest correlations are \"In_Dublin\" and \"Postal_Code_Known\".\n",
    "    - Postal_Code_Known makes sense here as it assumed to be a price factor applied to the house price based on their location\n",
    "    - In_Dublin makes sense here as it assumed to be a price factor applied to the house price based on their location\n",
    "- I will decide to keep the features that fall into the medium and high correlation bins. The low correlations values will likely have little effect on the outcome and make the model more complicated.\n",
    "- The impact of this decision will be evaluated in part 5.\n"
   ]
  },
  {
   "cell_type": "markdown",
   "metadata": {},
   "source": [
    "List of low correlation features"
   ]
  },
  {
   "cell_type": "code",
   "execution_count": 602,
   "metadata": {},
   "outputs": [
    {
     "data": {
      "text/plain": [
       "['Not Full Market Price', 'VAT Exclusive']"
      ]
     },
     "execution_count": 602,
     "metadata": {},
     "output_type": "execute_result"
    }
   ],
   "source": [
    "# generate list of features for low correlation bin\n",
    "low_correlation_features = []\n",
    "for key, value in corr_dict.items():\n",
    "    if value < 0.15 and value > -0.15:\n",
    "        low_correlation_features.append(key)\n",
    "low_correlation_features"
   ]
  },
  {
   "cell_type": "markdown",
   "metadata": {},
   "source": [
    "List of high correlation features"
   ]
  },
  {
   "cell_type": "code",
   "execution_count": 603,
   "metadata": {},
   "outputs": [
    {
     "data": {
      "text/plain": [
       "['Postal_Code_Known', 'In_Dublin']"
      ]
     },
     "execution_count": 603,
     "metadata": {},
     "output_type": "execute_result"
    }
   ],
   "source": [
    "# generate list of features for high correlation bin\n",
    "high_correlation_features = []\n",
    "for key, value in corr_dict.items():\n",
    "    if value > 0.25 or value < -0.25:\n",
    "        high_correlation_features.append(key)\n",
    "high_correlation_features"
   ]
  },
  {
   "cell_type": "markdown",
   "metadata": {},
   "source": [
    "### 1.2.3 Plot interaction between categorical features and target feature\n",
    "- Here we will plot a pairwise interaction between each categorical feature against the target feature. \n",
    "- We will discuss what we observe from these plots, e.g., which categorical features seem to be better at predicting the target feature...\n",
    "- We will choose a subset of categorical features we find promising (if any) and justify our choice.\n",
    "\n",
    "Here we have 5 categorical features\n",
    "- Address, Postal Code, County, Description of Property, Property Size Description\n",
    "- A stacked bar plot for each categorical feature which have regular cardinalities will be created."
   ]
  },
  {
   "cell_type": "markdown",
   "metadata": {},
   "source": [
    "##### Create stacked bar plots for all categorical features which have regular cardinalities"
   ]
  },
  {
   "cell_type": "code",
   "execution_count": 604,
   "metadata": {},
   "outputs": [
    {
     "name": "stdout",
     "output_type": "stream",
     "text": [
      "Feature                              Unique Values\n",
      "-------                              --------------- \n",
      "\n",
      "Postal Code                          23\n",
      "County                               26\n",
      "Description of Property              2\n",
      "Property Size Description            4\n"
     ]
    },
    {
     "data": {
      "text/plain": [
       "<AxesSubplot:title={'center':'Price (€)'}, xlabel='[Property Size Description]'>"
      ]
     },
     "execution_count": 604,
     "metadata": {},
     "output_type": "execute_result"
    },
    {
     "data": {
      "image/png": "[encoded data removed]",
      "text/plain": [
       "<Figure size 864x720 with 1 Axes>"
      ]
     },
     "metadata": {},
     "output_type": "display_data"
    },
    {
     "data": {
      "image/png": "[encoded data removed]",
      "text/plain": [
       "<Figure size 864x720 with 1 Axes>"
      ]
     },
     "metadata": {},
     "output_type": "display_data"
    },
    {
     "data": {
      "image/png": "[encoded data removed]",
      "text/plain": [
       "<Figure size 864x720 with 1 Axes>"
      ]
     },
     "metadata": {},
     "output_type": "display_data"
    },
    {
     "data": {
      "image/png": "[encoded data removed]",
      "text/plain": [
       "<Figure size 864x720 with 1 Axes>"
      ]
     },
     "metadata": {},
     "output_type": "display_data"
    }
   ],
   "source": [
    "# Select columns containing categorical data\n",
    "categorical_with_low_cardinality = ['Postal Code', 'County', \n",
    "                             'Description of Property', 'Property Size Description']\n",
    "\n",
    "# we will create temp dataframe for these plots, mergeing X_train and y_train\n",
    "df_temp= pd.concat([X_train, y_train], axis=1)\n",
    "\n",
    "print('{0:35}  {1}'.format(\"Feature\", \"Unique Values\"))\n",
    "print('{0:35}  {1}'.format(\"-------\", \"--------------- \\n\"))\n",
    "for c in categorical_with_low_cardinality:\n",
    "    print('{0:35}  {1}'.format(c, str(len(df_temp[c].unique()))))\n",
    "\n",
    "#plot bar plots for all features\n",
    "flierprops = dict(marker='o', markerfacecolor='green', markersize=6,\n",
    "                  linestyle='none')\n",
    "df_temp.boxplot(column=['Price (€)'], by=['Postal Code'], flierprops=flierprops, figsize=(12,10), rot=45)\n",
    "\n",
    "flierprops = dict(marker='o', markerfacecolor='green', markersize=6,\n",
    "                  linestyle='none')\n",
    "df_temp.boxplot(column=['Price (€)'], by=['County'], flierprops=flierprops, figsize=(12,10), rot=45)\n",
    "\n",
    "flierprops = dict(marker='o', markerfacecolor='green', markersize=6,\n",
    "                  linestyle='none')\n",
    "df_temp.boxplot(column=['Price (€)'], by=['Description of Property'], flierprops=flierprops, figsize=(12,10), rot=45)\n",
    "\n",
    "\n",
    "flierprops = dict(marker='o', markerfacecolor='green', markersize=6,\n",
    "                  linestyle='none')\n",
    "df_temp.boxplot(column=['Price (€)'], by=['Property Size Description'], flierprops=flierprops, figsize=(12,10), rot=45)\n",
    "\n",
    "\n"
   ]
  },
  {
   "cell_type": "markdown",
   "metadata": {},
   "source": [
    "#### Interpretation of the results\n",
    "##### Price (€) vs Postal Code\n",
    "- The graphs show that this feature still seems like a strong predictor. It is likely the price outcome will capture this data sufficiently.\n",
    "##### Price (€) vs County\n",
    "- The graphs show that this feature still seems like a strong predictor. It is likely the price outcome will capture this data sufficiently.\n",
    "##### Price (€) vs Description of Property\n",
    "- The graphs show that this feature still seems like a strong predictor. It is likely the price outcome will capture this data sufficiently.\n",
    "##### Price (€) vs Property Size Description\n",
    "- The graphs show that this feature still seems like a strong predictor. It is likely the price outcome will capture this data sufficiently.\n",
    "\n",
    "**All 4 categorical features will be kept for now but it is expected that County and Postal Code will have the greater effect**"
   ]
  },
  {
   "cell_type": "markdown",
   "metadata": {},
   "source": [
    "##### Further cleaning steps\n",
    "Upon reivew of homework 1, we will now perform some additional cleaning and analysis steps which need to be carried out before proceeding with the steps involved in homework 2. These are:\n",
    "- Address High cardinality \n",
    "- DateTime features"
   ]
  },
  {
   "cell_type": "markdown",
   "metadata": {},
   "source": [
    "The first step in our further cleaning is to drop the feature 'AnimalID'as this is only needed for reference purposes and is not helpful in predictive modelling."
   ]
  },
  {
   "cell_type": "code",
   "execution_count": 605,
   "metadata": {},
   "outputs": [
    {
     "data": {
      "text/plain": [
       "['Address']"
      ]
     },
     "execution_count": 605,
     "metadata": {},
     "output_type": "execute_result"
    }
   ],
   "source": [
    "high_cardinality_features = [\"Address\"]\n",
    "high_cardinality_features"
   ]
  },
  {
   "cell_type": "markdown",
   "metadata": {},
   "source": [
    "#### Date features\n",
    "Next, for the datetime features Date of Sale (dd/mm/yyyy) some data integrity issues were dealt with in homework 1. Furthermore, in homework 1, some analysis was done of the month, day and hours of intake in a temporary dataframe, however, it was not deemed necessary at the time to split these features into categorical features representing the year, month and day. Before proceeding with predictive modelling we will now carry out this step. This step will make it easier to work with the high cardinality of the datetime features and it will convert them to a format which is easier to plots against the price outcome.\n",
    "\n",
    "We begin this step by converting the feature Date of Sale (dd/mm/yyyy) into year, month and day features and drop the feature Date of Sale (dd/mm/yyyy)."
   ]
  },
  {
   "cell_type": "code",
   "execution_count": 606,
   "metadata": {},
   "outputs": [],
   "source": [
    "df['Month']=df['Date of Sale (dd/mm/yyyy)'].dt.month\n",
    "df['Day']=df['Date of Sale (dd/mm/yyyy)'].dt.day_name()\n",
    "datetime_feature = [\"Date of Sale (dd/mm/yyyy)\"]"
   ]
  },
  {
   "cell_type": "markdown",
   "metadata": {},
   "source": [
    "### 1.2.4 Summary & Drop Features\n",
    "\n",
    "1. From Continuous vs Continuous plots (1.2.1) we identified the following to be dropped"
   ]
  },
  {
   "cell_type": "code",
   "execution_count": 607,
   "metadata": {},
   "outputs": [
    {
     "data": {
      "text/plain": [
       "['In_Dublin']"
      ]
     },
     "execution_count": 607,
     "metadata": {},
     "output_type": "execute_result"
    }
   ],
   "source": [
    "low_information_gain"
   ]
  },
  {
   "cell_type": "markdown",
   "metadata": {},
   "source": [
    "2. From Continuous vs Target plots (1.2.2) we identified the following to be dropped"
   ]
  },
  {
   "cell_type": "code",
   "execution_count": 608,
   "metadata": {},
   "outputs": [
    {
     "data": {
      "text/plain": [
       "['Not Full Market Price', 'VAT Exclusive']"
      ]
     },
     "execution_count": 608,
     "metadata": {},
     "output_type": "execute_result"
    }
   ],
   "source": [
    "low_correlation_features"
   ]
  },
  {
   "cell_type": "markdown",
   "metadata": {},
   "source": [
    "3. From Categorical vs Target (1.2.3) we identified the following to be dropped\n",
    "    - None"
   ]
  },
  {
   "cell_type": "markdown",
   "metadata": {},
   "source": [
    "We will now drop these features\n",
    "- Before dropping we will duplicate the original dataframe, df, and label it df_rev1\n",
    "- We will drop features from this copy only (df_rev1)\n",
    "- This will allow us to revert to the original dataset later if we decide to compare the performance of the reduced dataset (df_rev1) with the original dataset (df)"
   ]
  },
  {
   "cell_type": "code",
   "execution_count": 609,
   "metadata": {},
   "outputs": [
    {
     "name": "stdout",
     "output_type": "stream",
     "text": [
      "\n",
      "Remaining columns: Index(['Postal Code', 'County', 'Price (€)', 'Description of Property',\n",
      "       'Property Size Description', 'Postal_Code_Known', 'Year', 'Month',\n",
      "       'Day'],\n",
      "      dtype='object')\n",
      "\n",
      "New shape: (9415, 9)\n"
     ]
    }
   ],
   "source": [
    "# drop all low correlation features\n",
    "low_value_features = list(set(low_information_gain + low_correlation_features + high_cardinality_features + datetime_feature))\n",
    "# before dropping make copy of original\n",
    "df_rev1 = df.copy()\n",
    "# drop low value features\n",
    "df_rev1.drop(low_value_features, 1, inplace=True)\n",
    "print('\\nRemaining columns:', df_rev1.columns)\n",
    "print('\\nNew shape:', df_rev1.shape)"
   ]
  },
  {
   "cell_type": "markdown",
   "metadata": {},
   "source": [
    "## 1.3 Prepare dataset for modeling\n",
    "Now we have picked our descriptive features for the whole dataset, a number of additional steps will need to be taken to prepare the dataset for modeling \n",
    "- We will now convert the categorical variables into dummies variable to allow modeling\n",
    "- We will then remove the redundant dummies which contain no additional information\n",
    "- We will then set up the train test split again based on the dataset with the dummies included"
   ]
  },
  {
   "cell_type": "code",
   "execution_count": 610,
   "metadata": {},
   "outputs": [
    {
     "data": {
      "text/plain": [
       "Price (€)               float64\n",
       "Postal_Code_Known         int64\n",
       "Year                      int64\n",
       "Month                     int64\n",
       "Postal Code_Dublin 1      uint8\n",
       "                         ...   \n",
       "Day_Saturday              uint8\n",
       "Day_Sunday                uint8\n",
       "Day_Thursday              uint8\n",
       "Day_Tuesday               uint8\n",
       "Day_Wednesday             uint8\n",
       "Length: 66, dtype: object"
      ]
     },
     "execution_count": 610,
     "metadata": {},
     "output_type": "execute_result"
    }
   ],
   "source": [
    "df_rev1 = pd.get_dummies(df_rev1)\n",
    "df_rev1.dtypes"
   ]
  },
  {
   "cell_type": "markdown",
   "metadata": {},
   "source": [
    "#### Continuous columns are:"
   ]
  },
  {
   "cell_type": "code",
   "execution_count": 611,
   "metadata": {},
   "outputs": [
    {
     "data": {
      "text/plain": [
       "['Postal_Code_Known', 'Year', 'Month']"
      ]
     },
     "execution_count": 611,
     "metadata": {},
     "output_type": "execute_result"
    }
   ],
   "source": [
    "continuous_columns = df_rev1.select_dtypes(include=['int64']).columns.tolist()\n",
    "continuous_columns"
   ]
  },
  {
   "cell_type": "markdown",
   "metadata": {},
   "source": [
    "#### Categorical columns are:"
   ]
  },
  {
   "cell_type": "code",
   "execution_count": 612,
   "metadata": {},
   "outputs": [
    {
     "data": {
      "text/plain": [
       "['Postal Code_Dublin 1',\n",
       " 'Postal Code_Dublin 10',\n",
       " 'Postal Code_Dublin 11',\n",
       " 'Postal Code_Dublin 12',\n",
       " 'Postal Code_Dublin 13',\n",
       " 'Postal Code_Dublin 14',\n",
       " 'Postal Code_Dublin 15',\n",
       " 'Postal Code_Dublin 16',\n",
       " 'Postal Code_Dublin 17',\n",
       " 'Postal Code_Dublin 18',\n",
       " 'Postal Code_Dublin 2',\n",
       " 'Postal Code_Dublin 20',\n",
       " 'Postal Code_Dublin 22',\n",
       " 'Postal Code_Dublin 24',\n",
       " 'Postal Code_Dublin 3',\n",
       " 'Postal Code_Dublin 4',\n",
       " 'Postal Code_Dublin 5',\n",
       " 'Postal Code_Dublin 6',\n",
       " 'Postal Code_Dublin 6w',\n",
       " 'Postal Code_Dublin 7',\n",
       " 'Postal Code_Dublin 8',\n",
       " 'Postal Code_Dublin 9',\n",
       " 'Postal Code_No_value',\n",
       " 'County_Carlow',\n",
       " 'County_Cavan',\n",
       " 'County_Clare',\n",
       " 'County_Cork',\n",
       " 'County_Donegal',\n",
       " 'County_Dublin',\n",
       " 'County_Galway',\n",
       " 'County_Kerry',\n",
       " 'County_Kildare',\n",
       " 'County_Kilkenny',\n",
       " 'County_Laois',\n",
       " 'County_Leitrim',\n",
       " 'County_Limerick',\n",
       " 'County_Longford',\n",
       " 'County_Louth',\n",
       " 'County_Mayo',\n",
       " 'County_Meath',\n",
       " 'County_Monaghan',\n",
       " 'County_Offaly',\n",
       " 'County_Roscommon',\n",
       " 'County_Sligo',\n",
       " 'County_Tipperary',\n",
       " 'County_Waterford',\n",
       " 'County_Westmeath',\n",
       " 'County_Wexford',\n",
       " 'County_Wicklow',\n",
       " 'Description of Property_New Dwelling house /Apartment',\n",
       " 'Description of Property_Second-Hand Dwelling house /Apartment',\n",
       " 'Property Size Description_No_value',\n",
       " 'Property Size Description_greater than or equal to 125 sq metres',\n",
       " 'Property Size Description_greater than or equal to 38 sq metres and less than 125 sq metres',\n",
       " 'Property Size Description_less than 38 sq metres',\n",
       " 'Day_Friday',\n",
       " 'Day_Monday',\n",
       " 'Day_Saturday',\n",
       " 'Day_Sunday',\n",
       " 'Day_Thursday',\n",
       " 'Day_Tuesday',\n",
       " 'Day_Wednesday']"
      ]
     },
     "execution_count": 612,
     "metadata": {},
     "output_type": "execute_result"
    }
   ],
   "source": [
    "categorical_columns = df_rev1.select_dtypes(include=['uint8']).columns.tolist()\n",
    "categorical_columns"
   ]
  },
  {
   "cell_type": "markdown",
   "metadata": {},
   "source": [
    "#### Total features are:"
   ]
  },
  {
   "cell_type": "code",
   "execution_count": 613,
   "metadata": {},
   "outputs": [
    {
     "data": {
      "text/plain": [
       "['Postal_Code_Known',\n",
       " 'Year',\n",
       " 'Month',\n",
       " 'Postal Code_Dublin 1',\n",
       " 'Postal Code_Dublin 10',\n",
       " 'Postal Code_Dublin 11',\n",
       " 'Postal Code_Dublin 12',\n",
       " 'Postal Code_Dublin 13',\n",
       " 'Postal Code_Dublin 14',\n",
       " 'Postal Code_Dublin 15',\n",
       " 'Postal Code_Dublin 16',\n",
       " 'Postal Code_Dublin 17',\n",
       " 'Postal Code_Dublin 18',\n",
       " 'Postal Code_Dublin 2',\n",
       " 'Postal Code_Dublin 20',\n",
       " 'Postal Code_Dublin 22',\n",
       " 'Postal Code_Dublin 24',\n",
       " 'Postal Code_Dublin 3',\n",
       " 'Postal Code_Dublin 4',\n",
       " 'Postal Code_Dublin 5',\n",
       " 'Postal Code_Dublin 6',\n",
       " 'Postal Code_Dublin 6w',\n",
       " 'Postal Code_Dublin 7',\n",
       " 'Postal Code_Dublin 8',\n",
       " 'Postal Code_Dublin 9',\n",
       " 'Postal Code_No_value',\n",
       " 'County_Carlow',\n",
       " 'County_Cavan',\n",
       " 'County_Clare',\n",
       " 'County_Cork',\n",
       " 'County_Donegal',\n",
       " 'County_Dublin',\n",
       " 'County_Galway',\n",
       " 'County_Kerry',\n",
       " 'County_Kildare',\n",
       " 'County_Kilkenny',\n",
       " 'County_Laois',\n",
       " 'County_Leitrim',\n",
       " 'County_Limerick',\n",
       " 'County_Longford',\n",
       " 'County_Louth',\n",
       " 'County_Mayo',\n",
       " 'County_Meath',\n",
       " 'County_Monaghan',\n",
       " 'County_Offaly',\n",
       " 'County_Roscommon',\n",
       " 'County_Sligo',\n",
       " 'County_Tipperary',\n",
       " 'County_Waterford',\n",
       " 'County_Westmeath',\n",
       " 'County_Wexford',\n",
       " 'County_Wicklow',\n",
       " 'Description of Property_New Dwelling house /Apartment',\n",
       " 'Description of Property_Second-Hand Dwelling house /Apartment',\n",
       " 'Property Size Description_No_value',\n",
       " 'Property Size Description_greater than or equal to 125 sq metres',\n",
       " 'Property Size Description_greater than or equal to 38 sq metres and less than 125 sq metres',\n",
       " 'Property Size Description_less than 38 sq metres',\n",
       " 'Day_Friday',\n",
       " 'Day_Monday',\n",
       " 'Day_Saturday',\n",
       " 'Day_Sunday',\n",
       " 'Day_Thursday',\n",
       " 'Day_Tuesday',\n",
       " 'Day_Wednesday']"
      ]
     },
     "execution_count": 613,
     "metadata": {},
     "output_type": "execute_result"
    }
   ],
   "source": [
    "features = continuous_columns + categorical_columns\n",
    "features"
   ]
  },
  {
   "cell_type": "markdown",
   "metadata": {},
   "source": [
    "### Setting up the train/test split\n",
    "- This is based on the dataset with dummy values\n",
    "- The Target is stored in dataframe \"y\"\n",
    "- The remaining features are stored in dataframe \"X\"\n",
    "- Both are split into training and test subsets"
   ]
  },
  {
   "cell_type": "code",
   "execution_count": 614,
   "metadata": {},
   "outputs": [
    {
     "name": "stdout",
     "output_type": "stream",
     "text": [
      "original range is:  9415\n",
      "training range (70%):\t rows 0 to 6590\n",
      "test range (30%): \t rows 6590 to 9415\n"
     ]
    }
   ],
   "source": [
    "# y is the target\n",
    "y = df_rev1[\"Price (€)\"]\n",
    "# X is everything else\n",
    "X = df_rev1.drop([\"Price (€)\"],1)\n",
    "# Split the dataset into two datasets: 70% training and 30% test\n",
    "X_train, X_test, y_train, y_test = train_test_split(X, y, random_state=1,  test_size=0.3)\n",
    "\n",
    "print(\"original range is: \",df_rev1.shape[0])\n",
    "print(\"training range (70%):\\t rows 0 to\", round(X_train.shape[0]))\n",
    "print(\"test range (30%): \\t rows\", round(X_train.shape[0]), \"to\", round(X_train.shape[0]) + X_test.shape[0])"
   ]
  },
  {
   "cell_type": "code",
   "execution_count": 615,
   "metadata": {},
   "outputs": [
    {
     "name": "stdout",
     "output_type": "stream",
     "text": [
      "\n",
      "Descriptive features in X:\n",
      "       Postal_Code_Known  Year  Month  Postal Code_Dublin 1  \\\n",
      "9248                  1  2014      8                     0   \n",
      "1477                  0  2015      7                     0   \n",
      "8162                  1  2015     11                     0   \n",
      "2608                  0  2013      4                     0   \n",
      "6414                  0  2018      9                     0   \n",
      "\n",
      "      Postal Code_Dublin 10  Postal Code_Dublin 11  Postal Code_Dublin 12  \\\n",
      "9248                      0                      0                      0   \n",
      "1477                      0                      0                      0   \n",
      "8162                      0                      0                      0   \n",
      "2608                      0                      0                      0   \n",
      "6414                      0                      0                      0   \n",
      "\n",
      "      Postal Code_Dublin 13  Postal Code_Dublin 14  Postal Code_Dublin 15  \\\n",
      "9248                      0                      0                      0   \n",
      "1477                      0                      0                      0   \n",
      "8162                      0                      0                      0   \n",
      "2608                      0                      0                      0   \n",
      "6414                      0                      0                      0   \n",
      "\n",
      "      ...  Property Size Description_greater than or equal to 125 sq metres  \\\n",
      "9248  ...                                                  0                  \n",
      "1477  ...                                                  0                  \n",
      "8162  ...                                                  0                  \n",
      "2608  ...                                                  0                  \n",
      "6414  ...                                                  0                  \n",
      "\n",
      "      Property Size Description_greater than or equal to 38 sq metres and less than 125 sq metres  \\\n",
      "9248                                                  0                                             \n",
      "1477                                                  0                                             \n",
      "8162                                                  0                                             \n",
      "2608                                                  0                                             \n",
      "6414                                                  0                                             \n",
      "\n",
      "      Property Size Description_less than 38 sq metres  Day_Friday  \\\n",
      "9248                                                 0           1   \n",
      "1477                                                 0           1   \n",
      "8162                                                 0           0   \n",
      "2608                                                 0           0   \n",
      "6414                                                 0           0   \n",
      "\n",
      "      Day_Monday  Day_Saturday  Day_Sunday  Day_Thursday  Day_Tuesday  \\\n",
      "9248           0             0           0             0            0   \n",
      "1477           0             0           0             0            0   \n",
      "8162           1             0           0             0            0   \n",
      "2608           0             0           0             1            0   \n",
      "6414           0             0           0             0            1   \n",
      "\n",
      "      Day_Wednesday  \n",
      "9248              0  \n",
      "1477              0  \n",
      "8162              0  \n",
      "2608              0  \n",
      "6414              0  \n",
      "\n",
      "[5 rows x 65 columns]\n",
      "\n",
      "Target feature in y:\n",
      " 9248     83000.0\n",
      "1477    235000.0\n",
      "8162    312000.0\n",
      "2608    170000.0\n",
      "6414    400000.0\n",
      "Name: Price (€), dtype: float64\n"
     ]
    }
   ],
   "source": [
    "print(\"\\nDescriptive features in X:\\n\", X_train.head(5))\n",
    "print(\"\\nTarget feature in y:\\n\", y_train.head(5))"
   ]
  },
  {
   "cell_type": "markdown",
   "metadata": {},
   "source": [
    "#### Reset the indexes of the training and test splits\n",
    "- We can see from the X_train printout below that the indexes are no longer consecutive\n",
    "- This is the same for y_train, X_test, y_test\n",
    "- This will need to be dealt with next as it will effect merging of dataframes in the coming sections"
   ]
  },
  {
   "cell_type": "code",
   "execution_count": 616,
   "metadata": {},
   "outputs": [
    {
     "data": {
      "text/html": [
       "<div>\n",
       "<style scoped>\n",
       "    .dataframe tbody tr th:only-of-type {\n",
       "        vertical-align: middle;\n",
       "    }\n",
       "\n",
       "    .dataframe tbody tr th {\n",
       "        vertical-align: top;\n",
       "    }\n",
       "\n",
       "    .dataframe thead th {\n",
       "        text-align: right;\n",
       "    }\n",
       "</style>\n",
       "<table border=\"1\" class=\"dataframe\">\n",
       "  <thead>\n",
       "    <tr style=\"text-align: right;\">\n",
       "      <th></th>\n",
       "      <th>Postal_Code_Known</th>\n",
       "      <th>Year</th>\n",
       "      <th>Month</th>\n",
       "      <th>Postal Code_Dublin 1</th>\n",
       "      <th>Postal Code_Dublin 10</th>\n",
       "      <th>Postal Code_Dublin 11</th>\n",
       "      <th>Postal Code_Dublin 12</th>\n",
       "      <th>Postal Code_Dublin 13</th>\n",
       "      <th>Postal Code_Dublin 14</th>\n",
       "      <th>Postal Code_Dublin 15</th>\n",
       "      <th>...</th>\n",
       "      <th>Property Size Description_greater than or equal to 125 sq metres</th>\n",
       "      <th>Property Size Description_greater than or equal to 38 sq metres and less than 125 sq metres</th>\n",
       "      <th>Property Size Description_less than 38 sq metres</th>\n",
       "      <th>Day_Friday</th>\n",
       "      <th>Day_Monday</th>\n",
       "      <th>Day_Saturday</th>\n",
       "      <th>Day_Sunday</th>\n",
       "      <th>Day_Thursday</th>\n",
       "      <th>Day_Tuesday</th>\n",
       "      <th>Day_Wednesday</th>\n",
       "    </tr>\n",
       "  </thead>\n",
       "  <tbody>\n",
       "    <tr>\n",
       "      <th>9248</th>\n",
       "      <td>1</td>\n",
       "      <td>2014</td>\n",
       "      <td>8</td>\n",
       "      <td>0</td>\n",
       "      <td>0</td>\n",
       "      <td>0</td>\n",
       "      <td>0</td>\n",
       "      <td>0</td>\n",
       "      <td>0</td>\n",
       "      <td>0</td>\n",
       "      <td>...</td>\n",
       "      <td>0</td>\n",
       "      <td>0</td>\n",
       "      <td>0</td>\n",
       "      <td>1</td>\n",
       "      <td>0</td>\n",
       "      <td>0</td>\n",
       "      <td>0</td>\n",
       "      <td>0</td>\n",
       "      <td>0</td>\n",
       "      <td>0</td>\n",
       "    </tr>\n",
       "    <tr>\n",
       "      <th>1477</th>\n",
       "      <td>0</td>\n",
       "      <td>2015</td>\n",
       "      <td>7</td>\n",
       "      <td>0</td>\n",
       "      <td>0</td>\n",
       "      <td>0</td>\n",
       "      <td>0</td>\n",
       "      <td>0</td>\n",
       "      <td>0</td>\n",
       "      <td>0</td>\n",
       "      <td>...</td>\n",
       "      <td>0</td>\n",
       "      <td>0</td>\n",
       "      <td>0</td>\n",
       "      <td>1</td>\n",
       "      <td>0</td>\n",
       "      <td>0</td>\n",
       "      <td>0</td>\n",
       "      <td>0</td>\n",
       "      <td>0</td>\n",
       "      <td>0</td>\n",
       "    </tr>\n",
       "    <tr>\n",
       "      <th>8162</th>\n",
       "      <td>1</td>\n",
       "      <td>2015</td>\n",
       "      <td>11</td>\n",
       "      <td>0</td>\n",
       "      <td>0</td>\n",
       "      <td>0</td>\n",
       "      <td>0</td>\n",
       "      <td>0</td>\n",
       "      <td>0</td>\n",
       "      <td>0</td>\n",
       "      <td>...</td>\n",
       "      <td>0</td>\n",
       "      <td>0</td>\n",
       "      <td>0</td>\n",
       "      <td>0</td>\n",
       "      <td>1</td>\n",
       "      <td>0</td>\n",
       "      <td>0</td>\n",
       "      <td>0</td>\n",
       "      <td>0</td>\n",
       "      <td>0</td>\n",
       "    </tr>\n",
       "    <tr>\n",
       "      <th>2608</th>\n",
       "      <td>0</td>\n",
       "      <td>2013</td>\n",
       "      <td>4</td>\n",
       "      <td>0</td>\n",
       "      <td>0</td>\n",
       "      <td>0</td>\n",
       "      <td>0</td>\n",
       "      <td>0</td>\n",
       "      <td>0</td>\n",
       "      <td>0</td>\n",
       "      <td>...</td>\n",
       "      <td>0</td>\n",
       "      <td>0</td>\n",
       "      <td>0</td>\n",
       "      <td>0</td>\n",
       "      <td>0</td>\n",
       "      <td>0</td>\n",
       "      <td>0</td>\n",
       "      <td>1</td>\n",
       "      <td>0</td>\n",
       "      <td>0</td>\n",
       "    </tr>\n",
       "    <tr>\n",
       "      <th>6414</th>\n",
       "      <td>0</td>\n",
       "      <td>2018</td>\n",
       "      <td>9</td>\n",
       "      <td>0</td>\n",
       "      <td>0</td>\n",
       "      <td>0</td>\n",
       "      <td>0</td>\n",
       "      <td>0</td>\n",
       "      <td>0</td>\n",
       "      <td>0</td>\n",
       "      <td>...</td>\n",
       "      <td>0</td>\n",
       "      <td>0</td>\n",
       "      <td>0</td>\n",
       "      <td>0</td>\n",
       "      <td>0</td>\n",
       "      <td>0</td>\n",
       "      <td>0</td>\n",
       "      <td>0</td>\n",
       "      <td>1</td>\n",
       "      <td>0</td>\n",
       "    </tr>\n",
       "  </tbody>\n",
       "</table>\n",
       "<p>5 rows × 65 columns</p>\n",
       "</div>"
      ],
      "text/plain": [
       "      Postal_Code_Known  Year  Month  Postal Code_Dublin 1  \\\n",
       "9248                  1  2014      8                     0   \n",
       "1477                  0  2015      7                     0   \n",
       "8162                  1  2015     11                     0   \n",
       "2608                  0  2013      4                     0   \n",
       "6414                  0  2018      9                     0   \n",
       "\n",
       "      Postal Code_Dublin 10  Postal Code_Dublin 11  Postal Code_Dublin 12  \\\n",
       "9248                      0                      0                      0   \n",
       "1477                      0                      0                      0   \n",
       "8162                      0                      0                      0   \n",
       "2608                      0                      0                      0   \n",
       "6414                      0                      0                      0   \n",
       "\n",
       "      Postal Code_Dublin 13  Postal Code_Dublin 14  Postal Code_Dublin 15  \\\n",
       "9248                      0                      0                      0   \n",
       "1477                      0                      0                      0   \n",
       "8162                      0                      0                      0   \n",
       "2608                      0                      0                      0   \n",
       "6414                      0                      0                      0   \n",
       "\n",
       "      ...  Property Size Description_greater than or equal to 125 sq metres  \\\n",
       "9248  ...                                                  0                  \n",
       "1477  ...                                                  0                  \n",
       "8162  ...                                                  0                  \n",
       "2608  ...                                                  0                  \n",
       "6414  ...                                                  0                  \n",
       "\n",
       "      Property Size Description_greater than or equal to 38 sq metres and less than 125 sq metres  \\\n",
       "9248                                                  0                                             \n",
       "1477                                                  0                                             \n",
       "8162                                                  0                                             \n",
       "2608                                                  0                                             \n",
       "6414                                                  0                                             \n",
       "\n",
       "      Property Size Description_less than 38 sq metres  Day_Friday  \\\n",
       "9248                                                 0           1   \n",
       "1477                                                 0           1   \n",
       "8162                                                 0           0   \n",
       "2608                                                 0           0   \n",
       "6414                                                 0           0   \n",
       "\n",
       "      Day_Monday  Day_Saturday  Day_Sunday  Day_Thursday  Day_Tuesday  \\\n",
       "9248           0             0           0             0            0   \n",
       "1477           0             0           0             0            0   \n",
       "8162           1             0           0             0            0   \n",
       "2608           0             0           0             1            0   \n",
       "6414           0             0           0             0            1   \n",
       "\n",
       "      Day_Wednesday  \n",
       "9248              0  \n",
       "1477              0  \n",
       "8162              0  \n",
       "2608              0  \n",
       "6414              0  \n",
       "\n",
       "[5 rows x 65 columns]"
      ]
     },
     "execution_count": 616,
     "metadata": {},
     "output_type": "execute_result"
    }
   ],
   "source": [
    "X_train.head(5)"
   ]
  },
  {
   "cell_type": "markdown",
   "metadata": {},
   "source": [
    "We will now reset the index of all training and test dataframes"
   ]
  },
  {
   "cell_type": "code",
   "execution_count": 617,
   "metadata": {},
   "outputs": [
    {
     "data": {
      "text/html": [
       "<div>\n",
       "<style scoped>\n",
       "    .dataframe tbody tr th:only-of-type {\n",
       "        vertical-align: middle;\n",
       "    }\n",
       "\n",
       "    .dataframe tbody tr th {\n",
       "        vertical-align: top;\n",
       "    }\n",
       "\n",
       "    .dataframe thead th {\n",
       "        text-align: right;\n",
       "    }\n",
       "</style>\n",
       "<table border=\"1\" class=\"dataframe\">\n",
       "  <thead>\n",
       "    <tr style=\"text-align: right;\">\n",
       "      <th></th>\n",
       "      <th>Postal_Code_Known</th>\n",
       "      <th>Year</th>\n",
       "      <th>Month</th>\n",
       "      <th>Postal Code_Dublin 1</th>\n",
       "      <th>Postal Code_Dublin 10</th>\n",
       "      <th>Postal Code_Dublin 11</th>\n",
       "      <th>Postal Code_Dublin 12</th>\n",
       "      <th>Postal Code_Dublin 13</th>\n",
       "      <th>Postal Code_Dublin 14</th>\n",
       "      <th>Postal Code_Dublin 15</th>\n",
       "      <th>...</th>\n",
       "      <th>Property Size Description_greater than or equal to 125 sq metres</th>\n",
       "      <th>Property Size Description_greater than or equal to 38 sq metres and less than 125 sq metres</th>\n",
       "      <th>Property Size Description_less than 38 sq metres</th>\n",
       "      <th>Day_Friday</th>\n",
       "      <th>Day_Monday</th>\n",
       "      <th>Day_Saturday</th>\n",
       "      <th>Day_Sunday</th>\n",
       "      <th>Day_Thursday</th>\n",
       "      <th>Day_Tuesday</th>\n",
       "      <th>Day_Wednesday</th>\n",
       "    </tr>\n",
       "  </thead>\n",
       "  <tbody>\n",
       "    <tr>\n",
       "      <th>0</th>\n",
       "      <td>1</td>\n",
       "      <td>2014</td>\n",
       "      <td>8</td>\n",
       "      <td>0</td>\n",
       "      <td>0</td>\n",
       "      <td>0</td>\n",
       "      <td>0</td>\n",
       "      <td>0</td>\n",
       "      <td>0</td>\n",
       "      <td>0</td>\n",
       "      <td>...</td>\n",
       "      <td>0</td>\n",
       "      <td>0</td>\n",
       "      <td>0</td>\n",
       "      <td>1</td>\n",
       "      <td>0</td>\n",
       "      <td>0</td>\n",
       "      <td>0</td>\n",
       "      <td>0</td>\n",
       "      <td>0</td>\n",
       "      <td>0</td>\n",
       "    </tr>\n",
       "    <tr>\n",
       "      <th>1</th>\n",
       "      <td>0</td>\n",
       "      <td>2015</td>\n",
       "      <td>7</td>\n",
       "      <td>0</td>\n",
       "      <td>0</td>\n",
       "      <td>0</td>\n",
       "      <td>0</td>\n",
       "      <td>0</td>\n",
       "      <td>0</td>\n",
       "      <td>0</td>\n",
       "      <td>...</td>\n",
       "      <td>0</td>\n",
       "      <td>0</td>\n",
       "      <td>0</td>\n",
       "      <td>1</td>\n",
       "      <td>0</td>\n",
       "      <td>0</td>\n",
       "      <td>0</td>\n",
       "      <td>0</td>\n",
       "      <td>0</td>\n",
       "      <td>0</td>\n",
       "    </tr>\n",
       "    <tr>\n",
       "      <th>2</th>\n",
       "      <td>1</td>\n",
       "      <td>2015</td>\n",
       "      <td>11</td>\n",
       "      <td>0</td>\n",
       "      <td>0</td>\n",
       "      <td>0</td>\n",
       "      <td>0</td>\n",
       "      <td>0</td>\n",
       "      <td>0</td>\n",
       "      <td>0</td>\n",
       "      <td>...</td>\n",
       "      <td>0</td>\n",
       "      <td>0</td>\n",
       "      <td>0</td>\n",
       "      <td>0</td>\n",
       "      <td>1</td>\n",
       "      <td>0</td>\n",
       "      <td>0</td>\n",
       "      <td>0</td>\n",
       "      <td>0</td>\n",
       "      <td>0</td>\n",
       "    </tr>\n",
       "    <tr>\n",
       "      <th>3</th>\n",
       "      <td>0</td>\n",
       "      <td>2013</td>\n",
       "      <td>4</td>\n",
       "      <td>0</td>\n",
       "      <td>0</td>\n",
       "      <td>0</td>\n",
       "      <td>0</td>\n",
       "      <td>0</td>\n",
       "      <td>0</td>\n",
       "      <td>0</td>\n",
       "      <td>...</td>\n",
       "      <td>0</td>\n",
       "      <td>0</td>\n",
       "      <td>0</td>\n",
       "      <td>0</td>\n",
       "      <td>0</td>\n",
       "      <td>0</td>\n",
       "      <td>0</td>\n",
       "      <td>1</td>\n",
       "      <td>0</td>\n",
       "      <td>0</td>\n",
       "    </tr>\n",
       "    <tr>\n",
       "      <th>4</th>\n",
       "      <td>0</td>\n",
       "      <td>2018</td>\n",
       "      <td>9</td>\n",
       "      <td>0</td>\n",
       "      <td>0</td>\n",
       "      <td>0</td>\n",
       "      <td>0</td>\n",
       "      <td>0</td>\n",
       "      <td>0</td>\n",
       "      <td>0</td>\n",
       "      <td>...</td>\n",
       "      <td>0</td>\n",
       "      <td>0</td>\n",
       "      <td>0</td>\n",
       "      <td>0</td>\n",
       "      <td>0</td>\n",
       "      <td>0</td>\n",
       "      <td>0</td>\n",
       "      <td>0</td>\n",
       "      <td>1</td>\n",
       "      <td>0</td>\n",
       "    </tr>\n",
       "  </tbody>\n",
       "</table>\n",
       "<p>5 rows × 65 columns</p>\n",
       "</div>"
      ],
      "text/plain": [
       "   Postal_Code_Known  Year  Month  Postal Code_Dublin 1  \\\n",
       "0                  1  2014      8                     0   \n",
       "1                  0  2015      7                     0   \n",
       "2                  1  2015     11                     0   \n",
       "3                  0  2013      4                     0   \n",
       "4                  0  2018      9                     0   \n",
       "\n",
       "   Postal Code_Dublin 10  Postal Code_Dublin 11  Postal Code_Dublin 12  \\\n",
       "0                      0                      0                      0   \n",
       "1                      0                      0                      0   \n",
       "2                      0                      0                      0   \n",
       "3                      0                      0                      0   \n",
       "4                      0                      0                      0   \n",
       "\n",
       "   Postal Code_Dublin 13  Postal Code_Dublin 14  Postal Code_Dublin 15  ...  \\\n",
       "0                      0                      0                      0  ...   \n",
       "1                      0                      0                      0  ...   \n",
       "2                      0                      0                      0  ...   \n",
       "3                      0                      0                      0  ...   \n",
       "4                      0                      0                      0  ...   \n",
       "\n",
       "   Property Size Description_greater than or equal to 125 sq metres  \\\n",
       "0                                                  0                  \n",
       "1                                                  0                  \n",
       "2                                                  0                  \n",
       "3                                                  0                  \n",
       "4                                                  0                  \n",
       "\n",
       "   Property Size Description_greater than or equal to 38 sq metres and less than 125 sq metres  \\\n",
       "0                                                  0                                             \n",
       "1                                                  0                                             \n",
       "2                                                  0                                             \n",
       "3                                                  0                                             \n",
       "4                                                  0                                             \n",
       "\n",
       "   Property Size Description_less than 38 sq metres  Day_Friday  Day_Monday  \\\n",
       "0                                                 0           1           0   \n",
       "1                                                 0           1           0   \n",
       "2                                                 0           0           1   \n",
       "3                                                 0           0           0   \n",
       "4                                                 0           0           0   \n",
       "\n",
       "   Day_Saturday  Day_Sunday  Day_Thursday  Day_Tuesday  Day_Wednesday  \n",
       "0             0           0             0            0              0  \n",
       "1             0           0             0            0              0  \n",
       "2             0           0             0            0              0  \n",
       "3             0           0             1            0              0  \n",
       "4             0           0             0            1              0  \n",
       "\n",
       "[5 rows x 65 columns]"
      ]
     },
     "execution_count": 617,
     "metadata": {},
     "output_type": "execute_result"
    }
   ],
   "source": [
    "# need to reset the index to allow contatenation with predicted values otherwise not joining on same index...\n",
    "X_train.reset_index(drop=True, inplace=True)\n",
    "y_train.reset_index(drop=True, inplace=True)\n",
    "X_test.reset_index(drop=True, inplace=True)\n",
    "y_test.reset_index(drop=True, inplace=True)\n",
    "X_train.head(5)"
   ]
  },
  {
   "cell_type": "markdown",
   "metadata": {},
   "source": [
    "## (2) Linear Regression Model\n",
    "#### 2.1 Train a linear regression model using only the descriptive features selected from part 1 above"
   ]
  },
  {
   "cell_type": "code",
   "execution_count": 618,
   "metadata": {},
   "outputs": [],
   "source": [
    "# Train aka fit, a model using all continuous and categorical features.\n",
    "multiple_linreg = LinearRegression().fit(X_train, y_train)"
   ]
  },
  {
   "cell_type": "markdown",
   "metadata": {},
   "source": [
    "#### 2.2 Print out the coefficients learned by the model"
   ]
  },
  {
   "cell_type": "code",
   "execution_count": 619,
   "metadata": {},
   "outputs": [],
   "source": [
    "# # Print the weights learned for each feature.\n",
    "# print(\"\\nFeatures are: \\n\", X_train.columns)\n",
    "# print(\"\\nCoeficients are: \\n\", multiple_linreg.coef_)\n",
    "# print(\"\\nIntercept is: \\n\", multiple_linreg.intercept_)\n",
    "# print(\"\\nFeatures and coeficients: \\n\", list(zip(X_train.columns, multiple_linreg.coef_)))"
   ]
  },
  {
   "cell_type": "code",
   "execution_count": 620,
   "metadata": {},
   "outputs": [
    {
     "data": {
      "text/html": [
       "<div>\n",
       "<style scoped>\n",
       "    .dataframe tbody tr th:only-of-type {\n",
       "        vertical-align: middle;\n",
       "    }\n",
       "\n",
       "    .dataframe tbody tr th {\n",
       "        vertical-align: top;\n",
       "    }\n",
       "\n",
       "    .dataframe thead th {\n",
       "        text-align: right;\n",
       "    }\n",
       "</style>\n",
       "<table border=\"1\" class=\"dataframe\">\n",
       "  <thead>\n",
       "    <tr style=\"text-align: right;\">\n",
       "      <th></th>\n",
       "      <th>Features</th>\n",
       "      <th>Estimated_Coefficients</th>\n",
       "    </tr>\n",
       "  </thead>\n",
       "  <tbody>\n",
       "    <tr>\n",
       "      <th>17</th>\n",
       "      <td>Postal Code_Dublin 3</td>\n",
       "      <td>2.303943e+15</td>\n",
       "    </tr>\n",
       "    <tr>\n",
       "      <th>22</th>\n",
       "      <td>Postal Code_Dublin 7</td>\n",
       "      <td>2.303943e+15</td>\n",
       "    </tr>\n",
       "    <tr>\n",
       "      <th>24</th>\n",
       "      <td>Postal Code_Dublin 9</td>\n",
       "      <td>2.303943e+15</td>\n",
       "    </tr>\n",
       "    <tr>\n",
       "      <th>14</th>\n",
       "      <td>Postal Code_Dublin 20</td>\n",
       "      <td>2.303943e+15</td>\n",
       "    </tr>\n",
       "    <tr>\n",
       "      <th>13</th>\n",
       "      <td>Postal Code_Dublin 2</td>\n",
       "      <td>2.303943e+15</td>\n",
       "    </tr>\n",
       "    <tr>\n",
       "      <th>7</th>\n",
       "      <td>Postal Code_Dublin 13</td>\n",
       "      <td>2.303943e+15</td>\n",
       "    </tr>\n",
       "    <tr>\n",
       "      <th>6</th>\n",
       "      <td>Postal Code_Dublin 12</td>\n",
       "      <td>2.303943e+15</td>\n",
       "    </tr>\n",
       "    <tr>\n",
       "      <th>23</th>\n",
       "      <td>Postal Code_Dublin 8</td>\n",
       "      <td>2.303943e+15</td>\n",
       "    </tr>\n",
       "    <tr>\n",
       "      <th>9</th>\n",
       "      <td>Postal Code_Dublin 15</td>\n",
       "      <td>2.303943e+15</td>\n",
       "    </tr>\n",
       "    <tr>\n",
       "      <th>16</th>\n",
       "      <td>Postal Code_Dublin 24</td>\n",
       "      <td>2.303943e+15</td>\n",
       "    </tr>\n",
       "    <tr>\n",
       "      <th>5</th>\n",
       "      <td>Postal Code_Dublin 11</td>\n",
       "      <td>2.303943e+15</td>\n",
       "    </tr>\n",
       "    <tr>\n",
       "      <th>15</th>\n",
       "      <td>Postal Code_Dublin 22</td>\n",
       "      <td>2.303943e+15</td>\n",
       "    </tr>\n",
       "    <tr>\n",
       "      <th>3</th>\n",
       "      <td>Postal Code_Dublin 1</td>\n",
       "      <td>2.303943e+15</td>\n",
       "    </tr>\n",
       "    <tr>\n",
       "      <th>11</th>\n",
       "      <td>Postal Code_Dublin 17</td>\n",
       "      <td>2.303943e+15</td>\n",
       "    </tr>\n",
       "    <tr>\n",
       "      <th>4</th>\n",
       "      <td>Postal Code_Dublin 10</td>\n",
       "      <td>2.303943e+15</td>\n",
       "    </tr>\n",
       "    <tr>\n",
       "      <th>55</th>\n",
       "      <td>Property Size Description_greater than or equa...</td>\n",
       "      <td>1.091566e+15</td>\n",
       "    </tr>\n",
       "    <tr>\n",
       "      <th>54</th>\n",
       "      <td>Property Size Description_No_value</td>\n",
       "      <td>1.091566e+15</td>\n",
       "    </tr>\n",
       "    <tr>\n",
       "      <th>56</th>\n",
       "      <td>Property Size Description_greater than or equa...</td>\n",
       "      <td>1.091566e+15</td>\n",
       "    </tr>\n",
       "    <tr>\n",
       "      <th>57</th>\n",
       "      <td>Property Size Description_less than 38 sq metres</td>\n",
       "      <td>1.091566e+15</td>\n",
       "    </tr>\n",
       "    <tr>\n",
       "      <th>52</th>\n",
       "      <td>Description of Property_New Dwelling house /Ap...</td>\n",
       "      <td>3.993143e+14</td>\n",
       "    </tr>\n",
       "    <tr>\n",
       "      <th>53</th>\n",
       "      <td>Description of Property_Second-Hand Dwelling h...</td>\n",
       "      <td>3.993143e+14</td>\n",
       "    </tr>\n",
       "    <tr>\n",
       "      <th>31</th>\n",
       "      <td>County_Dublin</td>\n",
       "      <td>2.176836e+14</td>\n",
       "    </tr>\n",
       "    <tr>\n",
       "      <th>51</th>\n",
       "      <td>County_Wicklow</td>\n",
       "      <td>2.176836e+14</td>\n",
       "    </tr>\n",
       "    <tr>\n",
       "      <th>34</th>\n",
       "      <td>County_Kildare</td>\n",
       "      <td>2.176836e+14</td>\n",
       "    </tr>\n",
       "    <tr>\n",
       "      <th>42</th>\n",
       "      <td>County_Meath</td>\n",
       "      <td>2.176836e+14</td>\n",
       "    </tr>\n",
       "    <tr>\n",
       "      <th>29</th>\n",
       "      <td>County_Cork</td>\n",
       "      <td>2.176836e+14</td>\n",
       "    </tr>\n",
       "    <tr>\n",
       "      <th>32</th>\n",
       "      <td>County_Galway</td>\n",
       "      <td>2.176836e+14</td>\n",
       "    </tr>\n",
       "    <tr>\n",
       "      <th>40</th>\n",
       "      <td>County_Louth</td>\n",
       "      <td>2.176836e+14</td>\n",
       "    </tr>\n",
       "    <tr>\n",
       "      <th>35</th>\n",
       "      <td>County_Kilkenny</td>\n",
       "      <td>2.176836e+14</td>\n",
       "    </tr>\n",
       "    <tr>\n",
       "      <th>50</th>\n",
       "      <td>County_Wexford</td>\n",
       "      <td>2.176836e+14</td>\n",
       "    </tr>\n",
       "    <tr>\n",
       "      <th>38</th>\n",
       "      <td>County_Limerick</td>\n",
       "      <td>2.176836e+14</td>\n",
       "    </tr>\n",
       "    <tr>\n",
       "      <th>36</th>\n",
       "      <td>County_Laois</td>\n",
       "      <td>2.176836e+14</td>\n",
       "    </tr>\n",
       "    <tr>\n",
       "      <th>33</th>\n",
       "      <td>County_Kerry</td>\n",
       "      <td>2.176836e+14</td>\n",
       "    </tr>\n",
       "    <tr>\n",
       "      <th>48</th>\n",
       "      <td>County_Waterford</td>\n",
       "      <td>2.176836e+14</td>\n",
       "    </tr>\n",
       "    <tr>\n",
       "      <th>28</th>\n",
       "      <td>County_Clare</td>\n",
       "      <td>2.176836e+14</td>\n",
       "    </tr>\n",
       "    <tr>\n",
       "      <th>49</th>\n",
       "      <td>County_Westmeath</td>\n",
       "      <td>2.176836e+14</td>\n",
       "    </tr>\n",
       "    <tr>\n",
       "      <th>26</th>\n",
       "      <td>County_Carlow</td>\n",
       "      <td>2.176836e+14</td>\n",
       "    </tr>\n",
       "    <tr>\n",
       "      <th>44</th>\n",
       "      <td>County_Offaly</td>\n",
       "      <td>2.176836e+14</td>\n",
       "    </tr>\n",
       "    <tr>\n",
       "      <th>47</th>\n",
       "      <td>County_Tipperary</td>\n",
       "      <td>2.176836e+14</td>\n",
       "    </tr>\n",
       "    <tr>\n",
       "      <th>43</th>\n",
       "      <td>County_Monaghan</td>\n",
       "      <td>2.176836e+14</td>\n",
       "    </tr>\n",
       "    <tr>\n",
       "      <th>46</th>\n",
       "      <td>County_Sligo</td>\n",
       "      <td>2.176836e+14</td>\n",
       "    </tr>\n",
       "    <tr>\n",
       "      <th>41</th>\n",
       "      <td>County_Mayo</td>\n",
       "      <td>2.176836e+14</td>\n",
       "    </tr>\n",
       "    <tr>\n",
       "      <th>27</th>\n",
       "      <td>County_Cavan</td>\n",
       "      <td>2.176836e+14</td>\n",
       "    </tr>\n",
       "    <tr>\n",
       "      <th>39</th>\n",
       "      <td>County_Longford</td>\n",
       "      <td>2.176836e+14</td>\n",
       "    </tr>\n",
       "    <tr>\n",
       "      <th>30</th>\n",
       "      <td>County_Donegal</td>\n",
       "      <td>2.176836e+14</td>\n",
       "    </tr>\n",
       "    <tr>\n",
       "      <th>37</th>\n",
       "      <td>County_Leitrim</td>\n",
       "      <td>2.176836e+14</td>\n",
       "    </tr>\n",
       "    <tr>\n",
       "      <th>45</th>\n",
       "      <td>County_Roscommon</td>\n",
       "      <td>2.176836e+14</td>\n",
       "    </tr>\n",
       "    <tr>\n",
       "      <th>0</th>\n",
       "      <td>Postal_Code_Known</td>\n",
       "      <td>1.151815e+13</td>\n",
       "    </tr>\n",
       "    <tr>\n",
       "      <th>1</th>\n",
       "      <td>Year</td>\n",
       "      <td>8.429516e+03</td>\n",
       "    </tr>\n",
       "    <tr>\n",
       "      <th>2</th>\n",
       "      <td>Month</td>\n",
       "      <td>-1.964951e+02</td>\n",
       "    </tr>\n",
       "  </tbody>\n",
       "</table>\n",
       "</div>"
      ],
      "text/plain": [
       "                                             Features  Estimated_Coefficients\n",
       "17                               Postal Code_Dublin 3            2.303943e+15\n",
       "22                               Postal Code_Dublin 7            2.303943e+15\n",
       "24                               Postal Code_Dublin 9            2.303943e+15\n",
       "14                              Postal Code_Dublin 20            2.303943e+15\n",
       "13                               Postal Code_Dublin 2            2.303943e+15\n",
       "7                               Postal Code_Dublin 13            2.303943e+15\n",
       "6                               Postal Code_Dublin 12            2.303943e+15\n",
       "23                               Postal Code_Dublin 8            2.303943e+15\n",
       "9                               Postal Code_Dublin 15            2.303943e+15\n",
       "16                              Postal Code_Dublin 24            2.303943e+15\n",
       "5                               Postal Code_Dublin 11            2.303943e+15\n",
       "15                              Postal Code_Dublin 22            2.303943e+15\n",
       "3                                Postal Code_Dublin 1            2.303943e+15\n",
       "11                              Postal Code_Dublin 17            2.303943e+15\n",
       "4                               Postal Code_Dublin 10            2.303943e+15\n",
       "55  Property Size Description_greater than or equa...            1.091566e+15\n",
       "54                 Property Size Description_No_value            1.091566e+15\n",
       "56  Property Size Description_greater than or equa...            1.091566e+15\n",
       "57   Property Size Description_less than 38 sq metres            1.091566e+15\n",
       "52  Description of Property_New Dwelling house /Ap...            3.993143e+14\n",
       "53  Description of Property_Second-Hand Dwelling h...            3.993143e+14\n",
       "31                                      County_Dublin            2.176836e+14\n",
       "51                                     County_Wicklow            2.176836e+14\n",
       "34                                     County_Kildare            2.176836e+14\n",
       "42                                       County_Meath            2.176836e+14\n",
       "29                                        County_Cork            2.176836e+14\n",
       "32                                      County_Galway            2.176836e+14\n",
       "40                                       County_Louth            2.176836e+14\n",
       "35                                    County_Kilkenny            2.176836e+14\n",
       "50                                     County_Wexford            2.176836e+14\n",
       "38                                    County_Limerick            2.176836e+14\n",
       "36                                       County_Laois            2.176836e+14\n",
       "33                                       County_Kerry            2.176836e+14\n",
       "48                                   County_Waterford            2.176836e+14\n",
       "28                                       County_Clare            2.176836e+14\n",
       "49                                   County_Westmeath            2.176836e+14\n",
       "26                                      County_Carlow            2.176836e+14\n",
       "44                                      County_Offaly            2.176836e+14\n",
       "47                                   County_Tipperary            2.176836e+14\n",
       "43                                    County_Monaghan            2.176836e+14\n",
       "46                                       County_Sligo            2.176836e+14\n",
       "41                                        County_Mayo            2.176836e+14\n",
       "27                                       County_Cavan            2.176836e+14\n",
       "39                                    County_Longford            2.176836e+14\n",
       "30                                     County_Donegal            2.176836e+14\n",
       "37                                     County_Leitrim            2.176836e+14\n",
       "45                                   County_Roscommon            2.176836e+14\n",
       "0                                   Postal_Code_Known            1.151815e+13\n",
       "1                                                Year            8.429516e+03\n",
       "2                                               Month           -1.964951e+02"
      ]
     },
     "execution_count": 620,
     "metadata": {},
     "output_type": "execute_result"
    }
   ],
   "source": [
    "# Features and their respective coefficients\n",
    "coeffs_df = pd.DataFrame(list(zip(X_train.columns, multiple_linreg.coef_)), columns = ['Features', 'Estimated_Coefficients'])\n",
    "coeffs_df.sort_values(by='Estimated_Coefficients', ascending=False).tail(50)"
   ]
  },
  {
   "cell_type": "code",
   "execution_count": 621,
   "metadata": {},
   "outputs": [
    {
     "data": {
      "text/html": [
       "<div>\n",
       "<style scoped>\n",
       "    .dataframe tbody tr th:only-of-type {\n",
       "        vertical-align: middle;\n",
       "    }\n",
       "\n",
       "    .dataframe tbody tr th {\n",
       "        vertical-align: top;\n",
       "    }\n",
       "\n",
       "    .dataframe thead th {\n",
       "        text-align: right;\n",
       "    }\n",
       "</style>\n",
       "<table border=\"1\" class=\"dataframe\">\n",
       "  <thead>\n",
       "    <tr style=\"text-align: right;\">\n",
       "      <th></th>\n",
       "      <th>Features</th>\n",
       "      <th>Estimated_Coefficients</th>\n",
       "    </tr>\n",
       "  </thead>\n",
       "  <tbody>\n",
       "    <tr>\n",
       "      <th>2</th>\n",
       "      <td>Month</td>\n",
       "      <td>-196.495117</td>\n",
       "    </tr>\n",
       "  </tbody>\n",
       "</table>\n",
       "</div>"
      ],
      "text/plain": [
       "  Features  Estimated_Coefficients\n",
       "2    Month             -196.495117"
      ]
     },
     "execution_count": 621,
     "metadata": {},
     "output_type": "execute_result"
    }
   ],
   "source": [
    "pos_coeffs_df= coeffs_df[(coeffs_df['Estimated_Coefficients'] <= 0)].sort_values(by='Estimated_Coefficients', ascending=False)\n",
    "#pos_coeffs_df.sort_values(by='Estimated_Coefficients', ascending=False)\n",
    "pos_coeffs_df"
   ]
  },
  {
   "cell_type": "markdown",
   "metadata": {},
   "source": [
    "#### 2.2.1 Discussion: \n",
    "\n",
    "Before discussing the weights printout out above, we will first introduce linear regression. \n",
    "\n",
    "- Linear regression is a supervised machine learning method which is used to make predictions based on a linear relationship between the target (dependent variable) and any number of independent variables (also known as predictors).\n",
    "- It finds the line of best fit that describes the relationship between the target and predictors. \n",
    "- The linear regression formula takes the following form:\n",
    "    - $target\\_feature = w_0 + w_1 * feature_1 + w_2*feature_2 + ...+ w_n*feature_n $\n",
    "    \n",
    "- In the formula, w_0, w_1 etc are known as the **model coefficients**. \n",
    "- To create the predictive model using linear regression, these coefficients must be \"learned\". \n",
    "- As seen in the image below, this is usually done using the **least squares criterion**. In other words, we find the line of best fit that describes the relationship between the target and predictors which minimises the **sum of squared residuals** (also known as sum of squared errors).\n",
    "<br><img src=\"linear_regression.png\" style=\"width: 300px;\"/> <br>\n",
    "Source: https://github.com/justmarkham/DAT4/blob/master/notebooks/08_linear_regression.ipynb\n",
    "\n",
    "- We will now understand the image above: \n",
    "    - The **black** dots are the observed values of x and y.\n",
    "    - The **blue line** is the least squares line. \n",
    "    - The **red lines** are the residuals. These are the distances between the observed values and the least squares line. It is these residuals that we try to minimise in linear regression.\n",
    "    \n",
    "- Linear regression is a regression task, which means that it predicts a numeric target feature. Thus, the output from the formula above is a continuous value that can be the predic price.\n",
    "- It is important to note one of the downfalls of linear regression is that it is sensitive to outliers. However, this does not apply to our categorical features. \n",
    "\n",
    "**Discussing the coefficients learned by the model:**\n",
    "- There are too many coefficients to discuss all in detail however we will explain their meaning and discuss some as an example. \n",
    "- We can see above that the intercept is -6786622664726975.0 (this is w_0 in the formula above). This is the value of y when x is zero. In other words it is where the model intercepts the x axis. If all other coefficients were zero, the model result would be -6786622664726975.0.\n",
    "- We can see the coefficients for each feature above. They are zipped together in a single list for ease of visualisation and interpretation. We can see that some have negative values and some have positive values. \n",
    "- In general, the sign of a regression coefficient tells you whether there is a positive or negative correlation between each independent variable the dependent variable. A positive coefficient indicates that as the value of the independent variable increases, the mean of the dependent variable also tends to increase. A negative coefficient suggests that as the independent variable increases, the dependent variable tends to decrease.\n",
    "- However, it is important to note that all of our features are categorical features which are dummy coded. Thus, care needs to be taken when interpreting the coefficients. The first value of each feature (which we have dropped) is the reference and each dummy is compared to the reference.\n",
    "- For example, we see that Description of Property_New Dwelling house /Apartment' increases by 399314340526590, while Description of Property_Second-Hand Dwelling house increases by 399314340478799 which is smaller than new dwelling house. This makes sense as we saw in our barplot above. \n",
    "- Similarly, based on the values known from above, we can see that the reference value for *County* is *County_Dublin*. Thus, we can see that with reference to this value, houses with value *County_Dublin* are more likely to be expensive compared to house of *County_Kildare*.\n",
    "- From the Exploratory analysis the top five features highly correlated with Sale Price are Day, Postal code, Property Size Description, County, Year.\n",
    "-  This is quite surprising as to why would Month have negative correlation with the Sale Price\n"
   ]
  },
  {
   "cell_type": "markdown",
   "metadata": {},
   "source": [
    "### 2.3 Printing 10 predicted target features and evaluate the prediction\n",
    "- Here we will print the predicted target feature value for the first 10 training examples. \n",
    "- As discussed above, we will caculate the predicted target feature value given by the linear regression model at 0.5. This will give us the predicted class. "
   ]
  },
  {
   "cell_type": "code",
   "execution_count": 622,
   "metadata": {},
   "outputs": [
    {
     "name": "stdout",
     "output_type": "stream",
     "text": [
      "\n",
      "Predictions with multiple linear regression: \n",
      "\n",
      "   Price (€)  Predicted\n",
      "0    83000.0   210415.0\n",
      "1   235000.0   188035.0\n",
      "2   312000.0   355819.0\n",
      "3   170000.0   211333.0\n",
      "4   400000.0   228878.0\n",
      "5   225000.0   244335.0\n",
      "6   255506.5   250520.0\n",
      "7   290000.0   300737.0\n",
      "8   485000.0   198771.0\n",
      "9   545000.0   248729.0\n"
     ]
    }
   ],
   "source": [
    "multiple_linreg_predictions_train = (multiple_linreg.predict(X_train))\n",
    "\n",
    "print(\"\\nPredictions with multiple linear regression: \\n\")\n",
    "actual_vs_predicted_multiplelinreg = pd.concat([y_train, pd.DataFrame(multiple_linreg_predictions_train, columns=['Predicted'])], axis=1)\n",
    "print(actual_vs_predicted_multiplelinreg.head(10))"
   ]
  },
  {
   "cell_type": "markdown",
   "metadata": {},
   "source": [
    "#### 2.3.1 Evaluation metrics based on training data\n",
    "We will now print the classification evaluation measures computed on the training set. These are:\n",
    "- R squared\n",
    "- Mean Absolute Error\n",
    "- Mean squared error\n",
    "- RMSE\n",
    "    \n",
    "Although not required, as explained at https://machinelearningmastery.com/roc-curves-and-precision-recall-curves-for-imbalanced-classification/we will also include an additional evaluation metric known as *precision-recall area under the curve (PR-auc)*. We will describe this below when discussing all results."
   ]
  },
  {
   "cell_type": "code",
   "execution_count": 623,
   "metadata": {},
   "outputs": [
    {
     "name": "stdout",
     "output_type": "stream",
     "text": [
      "==================== Train Data =======================\n",
      "R squared: 0.378\n",
      "Mean Absolute Error: 74362.90446585735\n",
      "Mean squared error: 9317969451.16\n",
      "RMSE: 96529.62991310621\n",
      "======================================================\n"
     ]
    }
   ],
   "source": [
    "#print evaluation measures\n",
    "print(\"==================== Train Data =======================\")\n",
    "print('R squared: %.3f' %(multiple_linreg.score(X_train,y_train)))\n",
    "print('Mean Absolute Error:', metrics.mean_absolute_error(y_train, multiple_linreg_predictions_train))\n",
    "print(\"Mean squared error: %.2f\"\n",
    "      % mean_squared_error(y_train, multiple_linreg_predictions_train))\n",
    "print('RMSE:', np.sqrt(metrics.mean_squared_error(y_train, multiple_linreg_predictions_train)))\n",
    "print(\"======================================================\")"
   ]
  },
  {
   "cell_type": "markdown",
   "metadata": {},
   "source": [
    "**Regression Plot**\n",
    "\n",
    "Let us draw a regression plot between the train target values and predicted train values to assess how the model is performing."
   ]
  },
  {
   "cell_type": "code",
   "execution_count": 624,
   "metadata": {},
   "outputs": [
    {
     "data": {
      "text/plain": [
       "Text(0.5, 1.0, 'Regression Plot for Actual vs Predicted Values')"
      ]
     },
     "execution_count": 624,
     "metadata": {},
     "output_type": "execute_result"
    },
    {
     "data": {
      "image/png": "[encoded data removed]",
      "text/plain": [
       "<Figure size 432x288 with 1 Axes>"
      ]
     },
     "metadata": {},
     "output_type": "display_data"
    }
   ],
   "source": [
    "g = sns.regplot(x=multiple_linreg.predict(X_train), y=y_train, fit_reg=True)\n",
    "g.set(xlabel='Predict Price (€)', ylabel='Actual Price (€)', title='Model Predictions')\n",
    "plt.title('Regression Plot for Actual vs Predicted Values')"
   ]
  },
  {
   "cell_type": "markdown",
   "metadata": {},
   "source": [
    "#### 2.3.2 Interpretation of results\n",
    "\n",
    "We will now explain what each of the measures above means and will discuss our results. \n",
    "\n",
    "- **$R^2$**  It is the percentage of the response variable variation that is explained by a linear model. An $R^2$ of 0.378 is not a bad score to start with.\n",
    "- **RMSE** It is the square root of the mean of squared errors. Squared errors are the difference of actual and predicted values sqaured. This model's RMSE is 96529, which is a bit high.\n",
    "\n",
    "    \n",
    "**Summary**\n",
    "- The regression line appears to be a **good fit for the data**.\n",
    "- However, the RMSE is quite high. This tells us that the model is not able to predict house price very accurately."
   ]
  },
  {
   "cell_type": "markdown",
   "metadata": {},
   "source": [
    "### 2.4 Evaluate the model using the hold-out (30% examples) test set\n",
    "- The results from the test data will be compared the results from the training data.\n",
    "- In addition they will be compared to the results from a cross-validated model (i.e. a new model trained and evaluated using cross-validation on the full dataset)."
   ]
  },
  {
   "cell_type": "markdown",
   "metadata": {},
   "source": [
    "First, we will calculate the prediction. We will then print out the first 10 predicted values."
   ]
  },
  {
   "cell_type": "code",
   "execution_count": 625,
   "metadata": {},
   "outputs": [
    {
     "name": "stdout",
     "output_type": "stream",
     "text": [
      "\n",
      "Predictions with multiple linear regression: \n",
      "\n",
      "   Price (€)  Predicted\n",
      "0   245000.0   195855.0\n",
      "1   427000.0   207331.0\n",
      "2    80000.0   129045.0\n",
      "3   259912.0   255359.0\n",
      "4   121000.0   190220.0\n",
      "5   310000.0   277412.0\n",
      "6   205000.0   243977.0\n",
      "7   330000.0   152798.0\n",
      "8   185000.0   121056.0\n",
      "9   191500.0   158695.0\n"
     ]
    }
   ],
   "source": [
    "# calculate the prediction\n",
    "multiple_linreg_predictions_test = (multiple_linreg.predict(X_test)) \n",
    "\n",
    "print(\"\\nPredictions with multiple linear regression: \\n\")\n",
    "actual_vs_predicted_multiplelinreg = pd.concat([y_test, pd.DataFrame(multiple_linreg_predictions_test, columns=['Predicted'])], axis=1)\n",
    "print(actual_vs_predicted_multiplelinreg.head(10))"
   ]
  },
  {
   "cell_type": "markdown",
   "metadata": {},
   "source": [
    "#### 2.4.1 Compare training and test results.\n",
    "\n",
    "We will now compute the test evaluation metrics and will compare to the training results. "
   ]
  },
  {
   "cell_type": "code",
   "execution_count": 626,
   "metadata": {},
   "outputs": [
    {
     "name": "stdout",
     "output_type": "stream",
     "text": [
      "==================== Test Data =======================\n",
      "R squared: 0.350\n",
      "Mean Absolute Error: 76861.87875044248\n",
      "Mean squared error: 10034978738.88\n",
      "RMSE: 100174.74102229408\n",
      "==================== Train Data =======================\n",
      "R squared: 0.378\n",
      "Mean Absolute Error: 74362.90446585735\n",
      "Mean squared error: 9317969451.16\n",
      "RMSE: 96529.62991310621\n",
      "======================================================\n"
     ]
    }
   ],
   "source": [
    "#print evaluation measures\n",
    "print(\"==================== Test Data =======================\")\n",
    "print('R squared: %.3f' %(multiple_linreg.score(X_test,y_test)))\n",
    "print('Mean Absolute Error:', metrics.mean_absolute_error(y_test, multiple_linreg_predictions_test))\n",
    "print(\"Mean squared error: %.2f\"\n",
    "      % mean_squared_error(y_test, multiple_linreg_predictions_test))\n",
    "print('RMSE:', np.sqrt(metrics.mean_squared_error(y_test, multiple_linreg_predictions_test)))\n",
    "print(\"==================== Train Data =======================\")\n",
    "print('R squared: %.3f' %(multiple_linreg.score(X_train,y_train)))\n",
    "print('Mean Absolute Error:', metrics.mean_absolute_error(y_train, multiple_linreg_predictions_train))\n",
    "print(\"Mean squared error: %.2f\"\n",
    "      % mean_squared_error(y_train, multiple_linreg_predictions_train))\n",
    "print('RMSE:', np.sqrt(metrics.mean_squared_error(y_train, multiple_linreg_predictions_train)))\n",
    "print(\"======================================================\")"
   ]
  },
  {
   "cell_type": "markdown",
   "metadata": {},
   "source": [
    "**Regression Plot**\n",
    "\n",
    "Let us draw a regression plot between the test target values and predicted test values to assess how the model is performing."
   ]
  },
  {
   "cell_type": "code",
   "execution_count": 627,
   "metadata": {},
   "outputs": [
    {
     "data": {
      "text/plain": [
       "Text(0.5, 1.0, 'Regression Plot for Actual vs Predicted Values')"
      ]
     },
     "execution_count": 627,
     "metadata": {},
     "output_type": "execute_result"
    },
    {
     "data": {
      "image/png": "[encoded data removed]",
      "text/plain": [
       "<Figure size 432x288 with 1 Axes>"
      ]
     },
     "metadata": {},
     "output_type": "display_data"
    }
   ],
   "source": [
    "g = sns.regplot(x=multiple_linreg.predict(X_test), y=y_test, fit_reg=True)\n",
    "g.set(xlabel='Predicted House Prices($)', ylabel='Actual House Prices($)', title='Model Predictions')\n",
    "plt.title('Regression Plot for Actual vs Predicted Values')"
   ]
  },
  {
   "cell_type": "markdown",
   "metadata": {},
   "source": [
    "#### 2.4.2 Interpretation of results\n",
    "\n",
    "We will now explain what each of the measures above means and will discuss our results. \n",
    "\n",
    "- **$R^2$**  \n",
    "- **RMSE** It is the square root of the mean of squared errors. Squared errors are the difference of actual and predicted values sqaured. This model's RMSE is 96529, which is a bit high.\n",
    "\n",
    "    \n",
    "**Summary**\n",
    "-  The train set explains more varaince (37.8%) than the test set (35.0%). This is quite common because the model is trained on training data, training set's $R^2$ is always greater than the test set's $R^2$.\n",
    "- The train and test scores not being too different form each other, indiactes that there is **no Overfitting**.\n",
    "- From the graph above the model seems to be a good fit for the data, except for a few outliers in the houses highly priced.\n",
    "- Clearly the **important features** that control the house price are the **Day, Postal code, Property Size Description, County, Year**"
   ]
  },
  {
   "cell_type": "markdown",
   "metadata": {},
   "source": [
    "#### 2.4.3 Cross-validation\n",
    "\n",
    "- We will now perform cross-validation on the linear regression model. \n",
    "- Using cross validation we do repeated train/test splits and average the error on the test datasets. Thus, it can result in a less biased result than a simple train/test split. \n",
    "- To perform cross-validation we will randomly split the dataset into 10 equal partitions. We will then use one partition as the test set and the union of all other partitions as the training set. We then evaluate the results of the test set. We will then repeat these steps using a different partition as the test set for each iteration. Finally, we will take the average of all results. \n",
    "- Throughout this assignment, we will use 10-fold as increasing this number would increase computation time. \n",
    "\n",
    "We will begin by creating a function to perform cross-validation as this is not provided by Scikit-Learn."
   ]
  },
  {
   "cell_type": "code",
   "execution_count": 628,
   "metadata": {},
   "outputs": [],
   "source": [
    "#this code is adapted from the sample solution provided, extra functionality has been added.\n",
    "def cross_val_LinReg(X, y, cv=3, scoring='R_squared', resampled = None):\n",
    "    \"\"\"Functions to carry out cross validation on the linear regression model\n",
    "    Default number of validations is 3. The randon state will be updated \n",
    "    at each iteration to allow our results to be repeated\"\"\"\n",
    "    \n",
    "    # store results\n",
    "    results = []\n",
    "    # evaluate cv times and append to results\n",
    "    for i in range(cv):\n",
    "        # set up train test split\n",
    "        X_train, X_test, y_train, y_test = train_test_split(X, y, random_state=i , test_size=0.3)\n",
    "        # generate model\n",
    "        if resampled == \"resampled\":\n",
    "            X_train_resampled, y_train_resampled = over_sample_minority_linreg(X_train, y_train)\n",
    "            # generate model\n",
    "            multiple_linreg = LinearRegression().fit(X_train_resampled, y_train_resampled)\n",
    "        elif resampled is None:\n",
    "            multiple_linreg = LinearRegression().fit(X_train, y_train)\n",
    "        # threshold\n",
    "        multiple_linreg_predictions = multiple_linreg.predict(X_test) \n",
    "        # calc score\n",
    "        if scoring=='R_squared':\n",
    "            score = multiple_linreg.score(X_test,y_test)\n",
    "        elif scoring=='MAR':\n",
    "            score = metrics.mean_absolute_error(y_test, multiple_linreg_predictions_test)\n",
    "        elif scoring=='MSE':\n",
    "            score = mean_squared_error(y_test, multiple_linreg_predictions_test)\n",
    "        elif scoring=='RMSE':\n",
    "            score = np.sqrt(metrics.mean_squared_error(y_test, multiple_linreg_predictions_test))\n",
    "        # append to results\n",
    "        results.append(score)\n",
    "    return results"
   ]
  },
  {
   "cell_type": "markdown",
   "metadata": {},
   "source": [
    "- We will now create an additional function which will perform 10 fold cross validation and store results in a dataframe. This will done in order simplify further analysis the dataset, looking at R_squared, MAR, MSE, RMSE\n",
    "- Within the cross validation functions for all models we will refer to PR-auc as *average_precision*. The reasoning for this will be explained in section 3 when we begin to use the Sklearn *cross_val_score()* method. "
   ]
  },
  {
   "cell_type": "code",
   "execution_count": 629,
   "metadata": {},
   "outputs": [],
   "source": [
    "#this code is from the sample solution provided\n",
    "def cross_val_LinReg_DF(X,y, resampled=None):\n",
    "    \"\"\"Function to perform cross validation and store results \n",
    "    in dataframe. \"\"\"\n",
    "\n",
    "    linRegResults = {}\n",
    "    # metrics to test against\n",
    "    test_metrics = ['R_squared','MAR','MSE', 'RMSE']\n",
    "    \n",
    "    for metric in test_metrics:\n",
    "        # generate test results\n",
    "        result = cross_val_LinReg(X, y, cv=10, scoring=metric, resampled = resampled)\n",
    "        length = len(result)\n",
    "        # store result in dict\n",
    "        linRegResults[metric] = sum(result)/length #np.std(result)]\n",
    "\n",
    "    # create dataframe with results\n",
    "    LinRegDF = pd.DataFrame.from_dict(linRegResults, orient='index', columns=['Linear_Regression Average' ])\n",
    "    \n",
    "    return LinRegDF"
   ]
  },
  {
   "cell_type": "code",
   "execution_count": 630,
   "metadata": {},
   "outputs": [
    {
     "name": "stdout",
     "output_type": "stream",
     "text": [
      "Mean results from 10 fold cross validation are:\n"
     ]
    },
    {
     "data": {
      "text/html": [
       "<div>\n",
       "<style scoped>\n",
       "    .dataframe tbody tr th:only-of-type {\n",
       "        vertical-align: middle;\n",
       "    }\n",
       "\n",
       "    .dataframe tbody tr th {\n",
       "        vertical-align: top;\n",
       "    }\n",
       "\n",
       "    .dataframe thead th {\n",
       "        text-align: right;\n",
       "    }\n",
       "</style>\n",
       "<table border=\"1\" class=\"dataframe\">\n",
       "  <thead>\n",
       "    <tr style=\"text-align: right;\">\n",
       "      <th></th>\n",
       "      <th>Linear_Regression Average</th>\n",
       "    </tr>\n",
       "  </thead>\n",
       "  <tbody>\n",
       "    <tr>\n",
       "      <th>R_squared</th>\n",
       "      <td>3.610616e-01</td>\n",
       "    </tr>\n",
       "    <tr>\n",
       "      <th>MAR</th>\n",
       "      <td>1.122032e+05</td>\n",
       "    </tr>\n",
       "    <tr>\n",
       "      <th>MSE</th>\n",
       "      <td>2.006998e+10</td>\n",
       "    </tr>\n",
       "    <tr>\n",
       "      <th>RMSE</th>\n",
       "      <td>1.410083e+05</td>\n",
       "    </tr>\n",
       "  </tbody>\n",
       "</table>\n",
       "</div>"
      ],
      "text/plain": [
       "           Linear_Regression Average\n",
       "R_squared               3.610616e-01\n",
       "MAR                     1.122032e+05\n",
       "MSE                     2.006998e+10\n",
       "RMSE                    1.410083e+05"
      ]
     },
     "execution_count": 630,
     "metadata": {},
     "output_type": "execute_result"
    }
   ],
   "source": [
    "linRegDF = cross_val_LinReg_DF(X,y)\n",
    "print(f\"Mean results from 10 fold cross validation are:\")\n",
    "linRegDF"
   ]
  },
  {
   "cell_type": "markdown",
   "metadata": {},
   "source": [
    "\n",
    "\n",
    "#### 2.4.2 Interpretation of cross-validation results. \n",
    "- Here we have the average of 10-fold cross-validations. \n",
    "- By default, Scikit-Learn outputs the results for the positive class.\n",
    "- In comparison to the test results obtained above, we can see that the R squared has risen from 35% to 36.1%. while the MAR, MSE, RMSE has risen.\n",
    "- We are pleased with these results. Although the recall score is lower than we would like, in comparison to the train data, we can see that the model is generalising well to new data. "
   ]
  },
  {
   "cell_type": "markdown",
   "metadata": {},
   "source": [
    "## (3) Decision Tree   "
   ]
  },
  {
   "cell_type": "markdown",
   "metadata": {},
   "source": [
    "### 3.1 On the training set, train a decision tree model to predict the target feature, using the descriptive features selected in exercise (1) above.\n",
    "\n",
    "We will now use the same feature set selected above to perform a decision tree using only the features selected above."
   ]
  },
  {
   "cell_type": "code",
   "execution_count": 631,
   "metadata": {},
   "outputs": [
    {
     "data": {
      "text/plain": [
       "DecisionTreeRegressor(max_depth=10, random_state=1)"
      ]
     },
     "execution_count": 631,
     "metadata": {},
     "output_type": "execute_result"
    }
   ],
   "source": [
    "# Train aka fit, a model using all continuous and categorical features.\n",
    "dtc_4 = DecisionTreeRegressor(max_depth=4, random_state=1)\n",
    "dtc_10 = DecisionTreeRegressor(max_depth=10, random_state=1)\n",
    "dtc_4.fit(X_train, y_train)\n",
    "dtc_10.fit(X_train, y_train)"
   ]
  },
  {
   "cell_type": "markdown",
   "metadata": {},
   "source": [
    "### 3.2 interpret the decision tree model\n",
    "\n",
    "- We will now interpret and discuss how the random forest model works. We will begin by explaining how random forests and decision trees work. We will then print two examples of decision trees and will interpret the results. \n",
    "\n",
    "**Decision Trees:**\n",
    "\n",
    "- A decision tree begins with a feature as a node at the top of the tree which splits or branches out into different outcomes. These splits are based on the information gain. By default, Scikit-Learn measures this information gain using the Gini impurity. \n",
    "- As described at https://towardsdatascience.com/an-implementation-and-explanation-of-the-random-forest-in-python-77bf308a9b76, the Gini Impurity of a node is the probability that a randomly chosen sample in a node would be incorrectly labeled if it was labeled by the distribution of samples within the node. \n",
    "- The feature with the lowest Gini impurity will sit at the root of each decision tree. The tree will then always split on the feature that gives the lowest Gini impurity. In other words, a decision tree tries to form nodes containing a high proportion of samples from a single class. It does this by finding values in the features that cleanly divide the data into classes. \n",
    "- The splitting process is repeated until a stopping criteria is met (such as a maximum depth of the tree or the minimum number of samples in the leaf).\n",
    "- The farthest branch on the tree represents the end result.\n",
    "\n",
    "\n",
    "\n",
    "    \n",
    "We will now look at an example of a single decision tree to get a better understanding"
   ]
  },
  {
   "cell_type": "markdown",
   "metadata": {},
   "source": [
    "####  3.2.1  Train Decision tree\n",
    "We will train 2 decision trees, with the same test data \n",
    "- One with max_depth=4 and the other max_depth=10\n",
    "- Max depth determines how deep a decision tree can go before it must give an answer"
   ]
  },
  {
   "cell_type": "code",
   "execution_count": 632,
   "metadata": {},
   "outputs": [
    {
     "name": "stdout",
     "output_type": "stream",
     "text": [
      "Max depth 4: \n",
      " DecisionTreeRegressor(max_depth=4, random_state=1)\n",
      "Max depth 10: \n",
      " DecisionTreeRegressor(max_depth=10, random_state=1)\n"
     ]
    }
   ],
   "source": [
    "\n",
    "print(\"Max depth 4: \\n\",dtc_4)\n",
    "print(\"Max depth 10: \\n\",dtc_10)"
   ]
  },
  {
   "cell_type": "markdown",
   "metadata": {},
   "source": [
    "####  3.2.2  Display Decision tree\n",
    "We will create graph of each tree and store as an image"
   ]
  },
  {
   "cell_type": "code",
   "execution_count": 633,
   "metadata": {},
   "outputs": [
    {
     "name": "stdout",
     "output_type": "stream",
     "text": [
      "dot: graph is too large for cairo-renderer bitmaps. Scaling by 0.336444 to fit\n"
     ]
    }
   ],
   "source": [
    "# create a Graphviz png\n",
    "with open(\"DecisionTree4.dot\", 'w') as f1:\n",
    "    f1 = export_graphviz(dtc_4, out_file=f1, feature_names=X_train.columns)\n",
    "with open(\"DecisionTree10.dot\", 'w') as f2:\n",
    "    f2 = export_graphviz(dtc_10, out_file=f2, feature_names=X_train.columns)\n",
    "!dot -Tpng DecisionTree4.dot -o DecisionTree4.png\n",
    "!dot -Tpng DecisionTree10.dot -o DecisionTree10.png"
   ]
  },
  {
   "cell_type": "markdown",
   "metadata": {},
   "source": [
    "<img src=\"DecisionTree4.png\">"
   ]
  },
  {
   "cell_type": "markdown",
   "metadata": {},
   "source": [
    "<img src=\"DecisionTree10.png\">"
   ]
  },
  {
   "cell_type": "markdown",
   "metadata": {},
   "source": [
    "For simplicity, we will only discuss the decision tree above with *max_depth=4*:\n",
    "- We can see that the root node is *County_Dublin*. *samples* is equal to 6590 meaning that there are 6590 observations in this node. **value** shows the number of samples in each class. We can see that there are 209972. \n",
    "- This feature splits the data best and has the highest information gain. Houses that do not have a value <= 0.5 for * County_Dublin* (and thus is in Dublin) is the strongest predictor of the outcome in this dataset.\n",
    "- We can see that the tree continues to split at the next best feature each time until the stopping criteria of max_depth=4 is met. \n",
    "- As mentioned above, this is only one example of a decision tree. "
   ]
  },
  {
   "cell_type": "code",
   "execution_count": 634,
   "metadata": {},
   "outputs": [
    {
     "data": {
      "text/html": [
       "<div>\n",
       "<style scoped>\n",
       "    .dataframe tbody tr th:only-of-type {\n",
       "        vertical-align: middle;\n",
       "    }\n",
       "\n",
       "    .dataframe tbody tr th {\n",
       "        vertical-align: top;\n",
       "    }\n",
       "\n",
       "    .dataframe thead th {\n",
       "        text-align: right;\n",
       "    }\n",
       "</style>\n",
       "<table border=\"1\" class=\"dataframe\">\n",
       "  <thead>\n",
       "    <tr style=\"text-align: right;\">\n",
       "      <th></th>\n",
       "      <th>feature</th>\n",
       "      <th>importance</th>\n",
       "    </tr>\n",
       "  </thead>\n",
       "  <tbody>\n",
       "    <tr>\n",
       "      <th>31</th>\n",
       "      <td>County_Dublin</td>\n",
       "      <td>0.370910</td>\n",
       "    </tr>\n",
       "    <tr>\n",
       "      <th>1</th>\n",
       "      <td>Year</td>\n",
       "      <td>0.200100</td>\n",
       "    </tr>\n",
       "    <tr>\n",
       "      <th>2</th>\n",
       "      <td>Month</td>\n",
       "      <td>0.067743</td>\n",
       "    </tr>\n",
       "    <tr>\n",
       "      <th>53</th>\n",
       "      <td>Description of Property_Second-Hand Dwelling h...</td>\n",
       "      <td>0.042411</td>\n",
       "    </tr>\n",
       "    <tr>\n",
       "      <th>51</th>\n",
       "      <td>County_Wicklow</td>\n",
       "      <td>0.040915</td>\n",
       "    </tr>\n",
       "    <tr>\n",
       "      <th>...</th>\n",
       "      <td>...</td>\n",
       "      <td>...</td>\n",
       "    </tr>\n",
       "    <tr>\n",
       "      <th>28</th>\n",
       "      <td>County_Clare</td>\n",
       "      <td>0.000000</td>\n",
       "    </tr>\n",
       "    <tr>\n",
       "      <th>27</th>\n",
       "      <td>County_Cavan</td>\n",
       "      <td>0.000000</td>\n",
       "    </tr>\n",
       "    <tr>\n",
       "      <th>26</th>\n",
       "      <td>County_Carlow</td>\n",
       "      <td>0.000000</td>\n",
       "    </tr>\n",
       "    <tr>\n",
       "      <th>25</th>\n",
       "      <td>Postal Code_No_value</td>\n",
       "      <td>0.000000</td>\n",
       "    </tr>\n",
       "    <tr>\n",
       "      <th>39</th>\n",
       "      <td>County_Longford</td>\n",
       "      <td>0.000000</td>\n",
       "    </tr>\n",
       "  </tbody>\n",
       "</table>\n",
       "<p>65 rows × 2 columns</p>\n",
       "</div>"
      ],
      "text/plain": [
       "                                              feature  importance\n",
       "31                                      County_Dublin    0.370910\n",
       "1                                                Year    0.200100\n",
       "2                                               Month    0.067743\n",
       "53  Description of Property_Second-Hand Dwelling h...    0.042411\n",
       "51                                     County_Wicklow    0.040915\n",
       "..                                                ...         ...\n",
       "28                                       County_Clare    0.000000\n",
       "27                                       County_Cavan    0.000000\n",
       "26                                      County_Carlow    0.000000\n",
       "25                               Postal Code_No_value    0.000000\n",
       "39                                    County_Longford    0.000000\n",
       "\n",
       "[65 rows x 2 columns]"
      ]
     },
     "execution_count": 634,
     "metadata": {},
     "output_type": "execute_result"
    }
   ],
   "source": [
    "importance = pd.DataFrame({'feature': X_train.columns, 'importance':dtc_10.feature_importances_})\n",
    "importance.sort_values('importance', ascending=False)"
   ]
  },
  {
   "cell_type": "markdown",
   "metadata": {},
   "source": [
    "###  3.3  Print the predicted target feature value for the first 10 training examples.\n",
    "- Here we will print the predicted target feature value for the first 10 training examples. "
   ]
  },
  {
   "cell_type": "code",
   "execution_count": 635,
   "metadata": {},
   "outputs": [
    {
     "name": "stdout",
     "output_type": "stream",
     "text": [
      "\n",
      "Predictions with multiple linear regression: \n",
      "\n",
      "   Price (€)      Predicted\n",
      "0    83000.0  225739.471473\n",
      "1   235000.0  149623.584237\n",
      "2   312000.0  362900.000000\n",
      "3   170000.0  156258.655625\n",
      "4   400000.0  272687.500000\n",
      "5   225000.0  322110.672167\n",
      "6   255506.5  264552.715238\n",
      "7   290000.0  278398.310294\n",
      "8   485000.0  161948.063683\n",
      "9   545000.0  277460.719417\n"
     ]
    }
   ],
   "source": [
    "decision_tree_predictions_train = dtc_10.predict(X_train)\n",
    "\n",
    "print(\"\\nPredictions with multiple linear regression: \\n\")\n",
    "actual_vs_predicted_multiplelogisticreg = pd.concat([y_train, pd.DataFrame(decision_tree_predictions_train, columns=['Predicted'])], axis=1)\n",
    "print(actual_vs_predicted_multiplelogisticreg.head(10))"
   ]
  },
  {
   "cell_type": "markdown",
   "metadata": {},
   "source": [
    "#### 3.3.1 Evaluation metrics based on training data\n",
    "- We will now print evaluation metrics computed on the full training set. As before, we will print R squared, Mean Absolute Error, Mean squared error, RMSE.\n",
    "- We will discuss finding based on these measures"
   ]
  },
  {
   "cell_type": "code",
   "execution_count": 636,
   "metadata": {},
   "outputs": [
    {
     "name": "stdout",
     "output_type": "stream",
     "text": [
      "==================== Train Data =======================\n",
      "R squared: 0.474\n",
      "Mean Absolute Error: 66426.80512862225\n",
      "Mean squared error: 7881725882.27\n",
      "RMSE: 88779.08471182885\n",
      "======================================================\n"
     ]
    }
   ],
   "source": [
    "#print evaluation measures\n",
    "print(\"==================== Train Data =======================\")\n",
    "print('R squared: %.3f' %(dtc_10.score(X_train,y_train)))\n",
    "print('Mean Absolute Error:', metrics.mean_absolute_error(y_train, decision_tree_predictions_train))\n",
    "print(\"Mean squared error: %.2f\"\n",
    "      % mean_squared_error(y_train, decision_tree_predictions_train))\n",
    "print('RMSE:', np.sqrt(metrics.mean_squared_error(y_train, decision_tree_predictions_train)))\n",
    "print(\"======================================================\")"
   ]
  },
  {
   "cell_type": "markdown",
   "metadata": {},
   "source": [
    "- As before, we will begin by discussing the **Confusion Matrix**:\n",
    "    - We saw in linear that there was a high RMSE . \n",
    "    - Here, however, we have lower RMSE. This is a big improvement. \n",
    "- **R squared:** \n",
    "    - We have R squared of 47.4%\n",
    "- **Mean Absolute Error:**\n",
    "    - Mean Absolute Error is 66427\n",
    "- **Mean squared error:**\n",
    "    - Mean squared error is 7881725882\n",
    "- **RMSE:**\n",
    "    - RMSE is 88779\n",
    "    \n",
    "Summary: \n",
    "- Given the results we achieved for linear, these results show a large improvement in all scores.\n",
    "- However, we must evaluate these results on test data in order to see how the model is generalising. Given how high these scores are, there is a risk that the model is overfitting which occurs when a model trains very well but does not generalise well to a new dataset."
   ]
  },
  {
   "cell_type": "markdown",
   "metadata": {},
   "source": [
    "### 3.4 Evaluate the model using the hold-out (30% examples) test set\n",
    "- These results from the test data will be compared the results from the training data.\n",
    "- In addition they will be compared to the results from a cross-validated model (i.e., a new model trained and evaluated using cross-validation on the full dataset)."
   ]
  },
  {
   "cell_type": "code",
   "execution_count": 637,
   "metadata": {},
   "outputs": [
    {
     "data": {
      "text/html": [
       "<div>\n",
       "<style scoped>\n",
       "    .dataframe tbody tr th:only-of-type {\n",
       "        vertical-align: middle;\n",
       "    }\n",
       "\n",
       "    .dataframe tbody tr th {\n",
       "        vertical-align: top;\n",
       "    }\n",
       "\n",
       "    .dataframe thead th {\n",
       "        text-align: right;\n",
       "    }\n",
       "</style>\n",
       "<table border=\"1\" class=\"dataframe\">\n",
       "  <thead>\n",
       "    <tr style=\"text-align: right;\">\n",
       "      <th></th>\n",
       "      <th>ActualClass</th>\n",
       "      <th>PredictedClass</th>\n",
       "    </tr>\n",
       "  </thead>\n",
       "  <tbody>\n",
       "    <tr>\n",
       "      <th>0</th>\n",
       "      <td>245000.0</td>\n",
       "      <td>215075.227273</td>\n",
       "    </tr>\n",
       "    <tr>\n",
       "      <th>1</th>\n",
       "      <td>427000.0</td>\n",
       "      <td>221529.926275</td>\n",
       "    </tr>\n",
       "    <tr>\n",
       "      <th>2</th>\n",
       "      <td>80000.0</td>\n",
       "      <td>112133.607178</td>\n",
       "    </tr>\n",
       "    <tr>\n",
       "      <th>3</th>\n",
       "      <td>259912.0</td>\n",
       "      <td>264552.715238</td>\n",
       "    </tr>\n",
       "    <tr>\n",
       "      <th>4</th>\n",
       "      <td>121000.0</td>\n",
       "      <td>204202.214667</td>\n",
       "    </tr>\n",
       "    <tr>\n",
       "      <th>5</th>\n",
       "      <td>310000.0</td>\n",
       "      <td>286034.383333</td>\n",
       "    </tr>\n",
       "    <tr>\n",
       "      <th>6</th>\n",
       "      <td>205000.0</td>\n",
       "      <td>225739.471473</td>\n",
       "    </tr>\n",
       "    <tr>\n",
       "      <th>7</th>\n",
       "      <td>330000.0</td>\n",
       "      <td>191175.097083</td>\n",
       "    </tr>\n",
       "    <tr>\n",
       "      <th>8</th>\n",
       "      <td>185000.0</td>\n",
       "      <td>137131.627976</td>\n",
       "    </tr>\n",
       "    <tr>\n",
       "      <th>9</th>\n",
       "      <td>191500.0</td>\n",
       "      <td>161948.063683</td>\n",
       "    </tr>\n",
       "  </tbody>\n",
       "</table>\n",
       "</div>"
      ],
      "text/plain": [
       "   ActualClass  PredictedClass\n",
       "0     245000.0   215075.227273\n",
       "1     427000.0   221529.926275\n",
       "2      80000.0   112133.607178\n",
       "3     259912.0   264552.715238\n",
       "4     121000.0   204202.214667\n",
       "5     310000.0   286034.383333\n",
       "6     205000.0   225739.471473\n",
       "7     330000.0   191175.097083\n",
       "8     185000.0   137131.627976\n",
       "9     191500.0   161948.063683"
      ]
     },
     "execution_count": 637,
     "metadata": {},
     "output_type": "execute_result"
    }
   ],
   "source": [
    "# Predicted class labels for all examples, \n",
    "# using the trained model, on in-sample data (same sample used for training and test)\n",
    "dtc_predictions_test = dtc_10.predict(X_test)\n",
    "dtc_predicted_test = pd.DataFrame({'ActualClass': y_test, 'PredictedClass': dtc_predictions_test})\n",
    "dtc_predicted_test.head(10)"
   ]
  },
  {
   "cell_type": "code",
   "execution_count": 638,
   "metadata": {},
   "outputs": [
    {
     "name": "stdout",
     "output_type": "stream",
     "text": [
      "==================== Train Data =======================\n",
      "R squared: 0.474\n",
      "Mean Absolute Error: 66426.80512862225\n",
      "Mean squared error: 7881725882.27\n",
      "RMSE: 88779.08471182885\n",
      "==================== Test Data =======================\n",
      "R squared: 0.267\n",
      "Mean Absolute Error: 81414.57382584036\n",
      "Mean squared error: 11319484294.18\n",
      "RMSE: 106393.06506620672\n",
      "======================================================\n"
     ]
    }
   ],
   "source": [
    "#print evaluation measures\n",
    "print(\"==================== Train Data =======================\")\n",
    "print('R squared: %.3f' %(dtc_10.score(X_train,y_train)))\n",
    "print('Mean Absolute Error:', metrics.mean_absolute_error(y_train, decision_tree_predictions_train))\n",
    "print(\"Mean squared error: %.2f\"\n",
    "      % mean_squared_error(y_train, decision_tree_predictions_train))\n",
    "print('RMSE:', np.sqrt(metrics.mean_squared_error(y_train, decision_tree_predictions_train)))\n",
    "print(\"==================== Test Data =======================\")\n",
    "print('R squared: %.3f' %(dtc_10.score(X_test,y_test)))\n",
    "print('Mean Absolute Error:', metrics.mean_absolute_error(y_test, dtc_predictions_test))\n",
    "print(\"Mean squared error: %.2f\"\n",
    "      % mean_squared_error(y_test, dtc_predictions_test))\n",
    "print('RMSE:', np.sqrt(metrics.mean_squared_error(y_test, dtc_predictions_test)))\n",
    "print(\"======================================================\")"
   ]
  },
  {
   "cell_type": "markdown",
   "metadata": {},
   "source": [
    "#### 3.4.1 Interpretation of results and comparison with training set\n",
    "\n",
    "We will now compare the test and training results.\n",
    "- **R squared:** \n",
    "    - The R squared of the test data has decreased to 26.7%.\n",
    "- **Mean Absolute Error:** \n",
    "    - Mean Absolute Error has increased from 66427 to 81414\n",
    "- **Mean squared error:**\n",
    "    - Mean squared Error has increased from 7881725882.27 to 11319484294.18\n",
    "- **RMSE:**\n",
    "    - RMSE has increased from 88779 to 106393\n",
    "\n",
    "**Summary**\n",
    "\n",
    "\n",
    "- The R squared for the test data is not high at 26.7%. However, most other scores have increased in comparison to the training data. \n",
    "- The results are reasonable considering that we are testing on data the model has not seen before. Most of the scores are in line with the scores seen on test data for linear regression.\n",
    "- However, we were hoping for slightly higher scores given how high the training scores were. We will now perform cross-validation in order to further test the random forest model. "
   ]
  },
  {
   "cell_type": "markdown",
   "metadata": {},
   "source": [
    "#### 3.4.2 Cross validation\n",
    "- We will preform cross validation and store the results in a dictionary for later use."
   ]
  },
  {
   "cell_type": "code",
   "execution_count": 639,
   "metadata": {},
   "outputs": [],
   "source": [
    "#this code is adapted from the sample solution provided, extra functionality has been added.\n",
    "def cross_val_DT(X, y, cv=3, scoring='R_squared', resampled = None):\n",
    "    \"\"\"Functions to carry out cross validation on the linear regression model\n",
    "    Default number of validations is 3. The randon state will be updated \n",
    "    at each iteration to allow our results to be repeated\"\"\"\n",
    "    \n",
    "    # store results\n",
    "    results = []\n",
    "    # evaluate cv times and append to results\n",
    "    for i in range(cv):\n",
    "        # set up train test split\n",
    "        X_train, X_test, y_train, y_test = train_test_split(X, y, random_state=i , test_size=0.3)\n",
    "        # generate model\n",
    "        if resampled == \"resampled\":\n",
    "            X_train_resampled, y_train_resampled = over_sample_minority_dt(X_train, y_train)\n",
    "            # generate model\n",
    "            multiple_dt = DecisionTreeRegressor(max_depth=10, random_state=1).fit(X_train_resampled, y_train_resampled)\n",
    "        elif resampled is None:\n",
    "            multiple_dt = DecisionTreeRegressor(max_depth=10, random_state=1).fit(X_train, y_train)\n",
    "        # threshold\n",
    "        multiple_dt_predictions = multiple_dt.predict(X_test) \n",
    "        # calc score\n",
    "        if scoring=='R_squared':\n",
    "            score = multiple_dt.score(X_test,y_test)\n",
    "        elif scoring=='MAR':\n",
    "            score = metrics.mean_absolute_error(y_test, multiple_dt_predictions)\n",
    "        elif scoring=='MSE':\n",
    "            score = mean_squared_error(y_test, multiple_dt_predictions)\n",
    "        elif scoring=='RMSE':\n",
    "            score = np.sqrt(metrics.mean_squared_error(y_test, multiple_dt_predictions))\n",
    "        # append to results\n",
    "        results.append(score)\n",
    "    return results"
   ]
  },
  {
   "cell_type": "code",
   "execution_count": 640,
   "metadata": {},
   "outputs": [],
   "source": [
    "#this code is from the sample solution provided\n",
    "def cross_val_DecsionTree_DF(X,y, resampled=None):\n",
    "    \"\"\"Function to perform cross validation and store results \n",
    "    in dataframe. \"\"\"\n",
    "\n",
    "    DecisionTreeResults = {}\n",
    "    # metrics to test against\n",
    "    test_metrics = ['R_squared','MAR','MSE', 'RMSE']\n",
    "    \n",
    "    for metric in test_metrics:\n",
    "        # generate test results\n",
    "        result = cross_val_DT(X, y, cv=10, scoring=metric, resampled = resampled)\n",
    "        length = len(result)\n",
    "        # store result in dict\n",
    "        DecisionTreeResults[metric] = sum(result)/length #np.std(result)]\n",
    "\n",
    "    # create dataframe with results\n",
    "    DecisionTreeDF = pd.DataFrame.from_dict(DecisionTreeResults, orient='index', columns=['Decision Tree Average' ])\n",
    "    \n",
    "    return DecisionTreeDF"
   ]
  },
  {
   "cell_type": "code",
   "execution_count": 641,
   "metadata": {},
   "outputs": [
    {
     "name": "stdout",
     "output_type": "stream",
     "text": [
      "Mean results from 10 fold cross validation are:\n"
     ]
    },
    {
     "data": {
      "text/html": [
       "<div>\n",
       "<style scoped>\n",
       "    .dataframe tbody tr th:only-of-type {\n",
       "        vertical-align: middle;\n",
       "    }\n",
       "\n",
       "    .dataframe tbody tr th {\n",
       "        vertical-align: top;\n",
       "    }\n",
       "\n",
       "    .dataframe thead th {\n",
       "        text-align: right;\n",
       "    }\n",
       "</style>\n",
       "<table border=\"1\" class=\"dataframe\">\n",
       "  <thead>\n",
       "    <tr style=\"text-align: right;\">\n",
       "      <th></th>\n",
       "      <th>Decision Tree Average</th>\n",
       "    </tr>\n",
       "  </thead>\n",
       "  <tbody>\n",
       "    <tr>\n",
       "      <th>R_squared</th>\n",
       "      <td>2.575253e-01</td>\n",
       "    </tr>\n",
       "    <tr>\n",
       "      <th>MAR</th>\n",
       "      <td>8.125636e+04</td>\n",
       "    </tr>\n",
       "    <tr>\n",
       "      <th>MSE</th>\n",
       "      <td>1.137348e+10</td>\n",
       "    </tr>\n",
       "    <tr>\n",
       "      <th>RMSE</th>\n",
       "      <td>1.066267e+05</td>\n",
       "    </tr>\n",
       "  </tbody>\n",
       "</table>\n",
       "</div>"
      ],
      "text/plain": [
       "           Decision Tree Average\n",
       "R_squared           2.575253e-01\n",
       "MAR                 8.125636e+04\n",
       "MSE                 1.137348e+10\n",
       "RMSE                1.066267e+05"
      ]
     },
     "execution_count": 641,
     "metadata": {},
     "output_type": "execute_result"
    }
   ],
   "source": [
    "DecisionTreeDF = cross_val_DecsionTree_DF(X,y)\n",
    "print(f\"Mean results from 10 fold cross validation are:\")\n",
    "DecisionTreeDF"
   ]
  },
  {
   "cell_type": "markdown",
   "metadata": {},
   "source": [
    "- We can see that in comparison to the test results above, the scores for R_squared have decreased slightly. MSE and RMSE have increased slightly. These variations are not expected as we are now performing 10-fold cross validation. \n",
    "- These results are not as good as expected. We had expected random forest to perform better than  linear as we are working with categorical data which is non-linear in nature. "
   ]
  },
  {
   "cell_type": "markdown",
   "metadata": {},
   "source": [
    "## (4) Random Forest Model"
   ]
  },
  {
   "cell_type": "markdown",
   "metadata": {},
   "source": [
    "### 4.1 Train a random forest model using only the descriptive features selected from part 1 above.\n",
    "\n",
    "- We will now train a random forest model on our data.\n",
    "- As we are working on a prediction problem, we will use decision trees. \n",
    "- We use the RandomForestRegressor() function. \n",
    "- The random state will be set to 1 to allow the results to be repeated. This means that any ties between features will be split in the same way each time we run the code, thus giving us the same tree each time."
   ]
  },
  {
   "cell_type": "code",
   "execution_count": 642,
   "metadata": {},
   "outputs": [
    {
     "data": {
      "text/plain": [
       "RandomForestRegressor(n_estimators=10, oob_score=True, random_state=1)"
      ]
     },
     "execution_count": 642,
     "metadata": {},
     "output_type": "execute_result"
    }
   ],
   "source": [
    "rfc = RandomForestRegressor(n_estimators=10, random_state=1, max_features='auto',oob_score=True)\n",
    "rfc.fit(X_train, y_train)"
   ]
  },
  {
   "cell_type": "markdown",
   "metadata": {},
   "source": [
    "### 4.2. Can you interpret the random forest model? Discuss any knowledge you can gain in regard of the working of this model.  \n",
    "- We will now interpret and discuss how the random forest model works. We will begin by explaining how random forests and decision trees work. We will then print two examples of decision trees and will interpret the results. \n",
    "- A random forest is an ensemble of decision trees and so we will begin our discussion by explaining a Decision Tree.\n",
    "\n",
    "**Decision Trees:**\n",
    "- A decision tree begins with a feature as a node at the top of the tree which splits or branches out into different outcomes. These splits are based on the information gain. By default, Scikit-Learn measures this information gain using the Gini impurity. \n",
    "- As described at https://towardsdatascience.com/an-implementation-and-explanation-of-the-random-forest-in-python-77bf308a9b76, the Gini Impurity of a node is the probability that a randomly chosen sample in a node would be incorrectly labeled if it was labeled by the distribution of samples within the node. \n",
    "- The feature with the lowest Gini impurity will sit at the root of each decision tree. The tree will then always split on the feature that gives the lowest Gini impurity. In other words, a decision tree tries to form nodes containing a high proportion of samples from a single class. It does this by finding values in the features that cleanly divide the data into classes. \n",
    "- The splitting process is repeated until a stopping criteria is met (such as a maximum depth of the tree or the minimum number of samples in the leaf).\n",
    "- The farthest branch on the tree represents the end result.\n",
    "- We will discuss an example of a decision tree below. \n",
    "    \n",
    "**Random Forest:**\n",
    "\n",
    "- A random forest is made up of a number of decision trees.\n",
    "- Random forest uses two important concepts: \n",
    "    - When training, each tree in a random forest learns from a random sample of the data points.\n",
    "    - only a subset of all the features are considered for splitting each node in each decision tree. \n",
    "- The output of the random forest is then based on the majority output of all combined decision trees. \n",
    "- The random forest will keep track of the importance of features in terms of the information gain described above.\n",
    "\n",
    "\n",
    "As mentioned in part 3, this is only one example of a decision tree. The random forest we have trained will be a combination of 100 decision trees."
   ]
  },
  {
   "cell_type": "markdown",
   "metadata": {},
   "source": [
    "Now that we have seen how decision trees work, we can now analyse the output from the random forest which we invoked above. \n",
    "\n",
    "- As mentioned above, the random forest keeps track of the importance of features.\n",
    "- The list of importances are shown below. \n",
    "- The more important features are the features that the random forest has identified as having higher information gain. \n",
    "- The list is the combined result of the 100 decision trees which were used to train the random forest classifier. \n",
    "- This list will give us an idea of which features are the most important to keep as we move forward with our modelling. "
   ]
  },
  {
   "cell_type": "code",
   "execution_count": 643,
   "metadata": {},
   "outputs": [
    {
     "data": {
      "text/html": [
       "<div>\n",
       "<style scoped>\n",
       "    .dataframe tbody tr th:only-of-type {\n",
       "        vertical-align: middle;\n",
       "    }\n",
       "\n",
       "    .dataframe tbody tr th {\n",
       "        vertical-align: top;\n",
       "    }\n",
       "\n",
       "    .dataframe thead th {\n",
       "        text-align: right;\n",
       "    }\n",
       "</style>\n",
       "<table border=\"1\" class=\"dataframe\">\n",
       "  <thead>\n",
       "    <tr style=\"text-align: right;\">\n",
       "      <th></th>\n",
       "      <th>feature</th>\n",
       "      <th>importance</th>\n",
       "    </tr>\n",
       "  </thead>\n",
       "  <tbody>\n",
       "    <tr>\n",
       "      <th>31</th>\n",
       "      <td>County_Dublin</td>\n",
       "      <td>0.187971</td>\n",
       "    </tr>\n",
       "    <tr>\n",
       "      <th>2</th>\n",
       "      <td>Month</td>\n",
       "      <td>0.185098</td>\n",
       "    </tr>\n",
       "    <tr>\n",
       "      <th>1</th>\n",
       "      <td>Year</td>\n",
       "      <td>0.177584</td>\n",
       "    </tr>\n",
       "    <tr>\n",
       "      <th>58</th>\n",
       "      <td>Day_Friday</td>\n",
       "      <td>0.027612</td>\n",
       "    </tr>\n",
       "    <tr>\n",
       "      <th>62</th>\n",
       "      <td>Day_Thursday</td>\n",
       "      <td>0.026863</td>\n",
       "    </tr>\n",
       "    <tr>\n",
       "      <th>...</th>\n",
       "      <td>...</td>\n",
       "      <td>...</td>\n",
       "    </tr>\n",
       "    <tr>\n",
       "      <th>37</th>\n",
       "      <td>County_Leitrim</td>\n",
       "      <td>0.001573</td>\n",
       "    </tr>\n",
       "    <tr>\n",
       "      <th>21</th>\n",
       "      <td>Postal Code_Dublin 6w</td>\n",
       "      <td>0.001563</td>\n",
       "    </tr>\n",
       "    <tr>\n",
       "      <th>39</th>\n",
       "      <td>County_Longford</td>\n",
       "      <td>0.001480</td>\n",
       "    </tr>\n",
       "    <tr>\n",
       "      <th>4</th>\n",
       "      <td>Postal Code_Dublin 10</td>\n",
       "      <td>0.001273</td>\n",
       "    </tr>\n",
       "    <tr>\n",
       "      <th>14</th>\n",
       "      <td>Postal Code_Dublin 20</td>\n",
       "      <td>0.001162</td>\n",
       "    </tr>\n",
       "  </tbody>\n",
       "</table>\n",
       "<p>65 rows × 2 columns</p>\n",
       "</div>"
      ],
      "text/plain": [
       "                  feature  importance\n",
       "31          County_Dublin    0.187971\n",
       "2                   Month    0.185098\n",
       "1                    Year    0.177584\n",
       "58             Day_Friday    0.027612\n",
       "62           Day_Thursday    0.026863\n",
       "..                    ...         ...\n",
       "37         County_Leitrim    0.001573\n",
       "21  Postal Code_Dublin 6w    0.001563\n",
       "39        County_Longford    0.001480\n",
       "4   Postal Code_Dublin 10    0.001273\n",
       "14  Postal Code_Dublin 20    0.001162\n",
       "\n",
       "[65 rows x 2 columns]"
      ]
     },
     "execution_count": 643,
     "metadata": {},
     "output_type": "execute_result"
    }
   ],
   "source": [
    "importance = pd.DataFrame({'feature': X_train.columns, 'importance':rfc.feature_importances_})\n",
    "importance.sort_values('importance', ascending=False)"
   ]
  },
  {
   "cell_type": "markdown",
   "metadata": {},
   "source": [
    "We can list from the list of importances that many features provide little information gain. "
   ]
  },
  {
   "cell_type": "markdown",
   "metadata": {},
   "source": [
    "### 4.3 Print the predicted target feature value for the first 10 training examples.\n",
    "- Here we will print the predicted target feature value for the first 10 training examples. "
   ]
  },
  {
   "cell_type": "code",
   "execution_count": 644,
   "metadata": {},
   "outputs": [
    {
     "data": {
      "text/html": [
       "<div>\n",
       "<style scoped>\n",
       "    .dataframe tbody tr th:only-of-type {\n",
       "        vertical-align: middle;\n",
       "    }\n",
       "\n",
       "    .dataframe tbody tr th {\n",
       "        vertical-align: top;\n",
       "    }\n",
       "\n",
       "    .dataframe thead th {\n",
       "        text-align: right;\n",
       "    }\n",
       "</style>\n",
       "<table border=\"1\" class=\"dataframe\">\n",
       "  <thead>\n",
       "    <tr style=\"text-align: right;\">\n",
       "      <th></th>\n",
       "      <th>ActualClass</th>\n",
       "      <th>PredictedClass</th>\n",
       "    </tr>\n",
       "  </thead>\n",
       "  <tbody>\n",
       "    <tr>\n",
       "      <th>0</th>\n",
       "      <td>83000.0</td>\n",
       "      <td>185736.314000</td>\n",
       "    </tr>\n",
       "    <tr>\n",
       "      <th>1</th>\n",
       "      <td>235000.0</td>\n",
       "      <td>295000.000000</td>\n",
       "    </tr>\n",
       "    <tr>\n",
       "      <th>2</th>\n",
       "      <td>312000.0</td>\n",
       "      <td>376900.000000</td>\n",
       "    </tr>\n",
       "    <tr>\n",
       "      <th>3</th>\n",
       "      <td>170000.0</td>\n",
       "      <td>161500.000000</td>\n",
       "    </tr>\n",
       "    <tr>\n",
       "      <th>4</th>\n",
       "      <td>400000.0</td>\n",
       "      <td>347300.000000</td>\n",
       "    </tr>\n",
       "    <tr>\n",
       "      <th>5</th>\n",
       "      <td>225000.0</td>\n",
       "      <td>249635.300000</td>\n",
       "    </tr>\n",
       "    <tr>\n",
       "      <th>6</th>\n",
       "      <td>255506.5</td>\n",
       "      <td>272391.841667</td>\n",
       "    </tr>\n",
       "    <tr>\n",
       "      <th>7</th>\n",
       "      <td>290000.0</td>\n",
       "      <td>253700.000000</td>\n",
       "    </tr>\n",
       "    <tr>\n",
       "      <th>8</th>\n",
       "      <td>485000.0</td>\n",
       "      <td>270300.000000</td>\n",
       "    </tr>\n",
       "    <tr>\n",
       "      <th>9</th>\n",
       "      <td>545000.0</td>\n",
       "      <td>467750.000000</td>\n",
       "    </tr>\n",
       "  </tbody>\n",
       "</table>\n",
       "</div>"
      ],
      "text/plain": [
       "   ActualClass  PredictedClass\n",
       "0      83000.0   185736.314000\n",
       "1     235000.0   295000.000000\n",
       "2     312000.0   376900.000000\n",
       "3     170000.0   161500.000000\n",
       "4     400000.0   347300.000000\n",
       "5     225000.0   249635.300000\n",
       "6     255506.5   272391.841667\n",
       "7     290000.0   253700.000000\n",
       "8     485000.0   270300.000000\n",
       "9     545000.0   467750.000000"
      ]
     },
     "execution_count": 644,
     "metadata": {},
     "output_type": "execute_result"
    }
   ],
   "source": [
    "# Predicted class labels for all examples, \n",
    "# using the trained model, on in-sample data (same sample used for training and test)\n",
    "rfc_predictions_train = rfc.predict(X_train)\n",
    "df_true_vs_rfc_predicted = pd.DataFrame({'ActualClass': y_train, 'PredictedClass': rfc_predictions_train})\n",
    "df_true_vs_rfc_predicted.head(10)"
   ]
  },
  {
   "cell_type": "markdown",
   "metadata": {},
   "source": [
    "#### 3.3.1 Evaluation metrics based on training data\n",
    "- We will now print evaluation metrics computed on the full training set. As before, we will print R squared, Mean Absolute Error, Mean squared error, RMSE.\n",
    "- We will discuss finding based on these measures"
   ]
  },
  {
   "cell_type": "code",
   "execution_count": 645,
   "metadata": {},
   "outputs": [
    {
     "name": "stdout",
     "output_type": "stream",
     "text": [
      "==================== Train Data =======================\n",
      "R squared: 0.806\n",
      "Mean Absolute Error: 37920.71561493975\n",
      "Mean squared error: 2908421837.06\n",
      "RMSE: 53929.786176694375\n",
      "======================================================\n"
     ]
    }
   ],
   "source": [
    "#print evaluation measures\n",
    "print(\"==================== Train Data =======================\")\n",
    "print('R squared: %.3f' %(rfc.score(X_train,y_train)))\n",
    "print('Mean Absolute Error:', metrics.mean_absolute_error(y_train, rfc_predictions_train))\n",
    "print(\"Mean squared error: %.2f\"\n",
    "      % mean_squared_error(y_train, rfc_predictions_train))\n",
    "print('RMSE:', np.sqrt(metrics.mean_squared_error(y_train, rfc_predictions_train)))\n",
    "print(\"======================================================\")"
   ]
  },
  {
   "cell_type": "markdown",
   "metadata": {},
   "source": [
    "- As before, we will begin by discussing the **Confusion Matrix**:\n",
    "    - We saw in linear that there was a high RMSE . \n",
    "    - Here, however, we have lower RMSE. This is a big improvement. \n",
    "- **R squared:** \n",
    "    - We have R squared of 80.6%\n",
    "- **Mean Absolute Error:**\n",
    "    - Mean Absolute Error is 37920\n",
    "- **Mean squared error:**\n",
    "    - Mean squared error is 2908421837.06\n",
    "- **RMSE:**\n",
    "    - RMSE is 53929\n",
    "    \n",
    "Summary: \n",
    "- Given the results we achieved for linear and decision tree, these results show a large improvement in all scores.\n",
    "- However, we must evaluate these results on test data in order to see how the model is generalising. Given how high these scores are, there is a risk that the model is overfitting which occurs when a model trains very well but does not generalise well to a new dataset."
   ]
  },
  {
   "cell_type": "markdown",
   "metadata": {},
   "source": [
    "### 4.4 Evaluate the model using the hold-out (30% examples) test set\n",
    "- These results from the test data will be compared the results from the training data.\n",
    "- In addition they will be compared to the results from a cross-validated model (i.e., a new model trained and evaluated using cross-validation on the full dataset)."
   ]
  },
  {
   "cell_type": "code",
   "execution_count": 646,
   "metadata": {},
   "outputs": [
    {
     "data": {
      "text/html": [
       "<div>\n",
       "<style scoped>\n",
       "    .dataframe tbody tr th:only-of-type {\n",
       "        vertical-align: middle;\n",
       "    }\n",
       "\n",
       "    .dataframe tbody tr th {\n",
       "        vertical-align: top;\n",
       "    }\n",
       "\n",
       "    .dataframe thead th {\n",
       "        text-align: right;\n",
       "    }\n",
       "</style>\n",
       "<table border=\"1\" class=\"dataframe\">\n",
       "  <thead>\n",
       "    <tr style=\"text-align: right;\">\n",
       "      <th></th>\n",
       "      <th>ActualClass</th>\n",
       "      <th>PredictedClass</th>\n",
       "    </tr>\n",
       "  </thead>\n",
       "  <tbody>\n",
       "    <tr>\n",
       "      <th>0</th>\n",
       "      <td>245000.0</td>\n",
       "      <td>220631.000</td>\n",
       "    </tr>\n",
       "    <tr>\n",
       "      <th>1</th>\n",
       "      <td>427000.0</td>\n",
       "      <td>181200.000</td>\n",
       "    </tr>\n",
       "    <tr>\n",
       "      <th>2</th>\n",
       "      <td>80000.0</td>\n",
       "      <td>134378.989</td>\n",
       "    </tr>\n",
       "    <tr>\n",
       "      <th>3</th>\n",
       "      <td>259912.0</td>\n",
       "      <td>287250.000</td>\n",
       "    </tr>\n",
       "    <tr>\n",
       "      <th>4</th>\n",
       "      <td>121000.0</td>\n",
       "      <td>165975.000</td>\n",
       "    </tr>\n",
       "    <tr>\n",
       "      <th>5</th>\n",
       "      <td>310000.0</td>\n",
       "      <td>345915.500</td>\n",
       "    </tr>\n",
       "    <tr>\n",
       "      <th>6</th>\n",
       "      <td>205000.0</td>\n",
       "      <td>334500.000</td>\n",
       "    </tr>\n",
       "    <tr>\n",
       "      <th>7</th>\n",
       "      <td>330000.0</td>\n",
       "      <td>193290.000</td>\n",
       "    </tr>\n",
       "    <tr>\n",
       "      <th>8</th>\n",
       "      <td>185000.0</td>\n",
       "      <td>123312.700</td>\n",
       "    </tr>\n",
       "    <tr>\n",
       "      <th>9</th>\n",
       "      <td>191500.0</td>\n",
       "      <td>97800.000</td>\n",
       "    </tr>\n",
       "  </tbody>\n",
       "</table>\n",
       "</div>"
      ],
      "text/plain": [
       "   ActualClass  PredictedClass\n",
       "0     245000.0      220631.000\n",
       "1     427000.0      181200.000\n",
       "2      80000.0      134378.989\n",
       "3     259912.0      287250.000\n",
       "4     121000.0      165975.000\n",
       "5     310000.0      345915.500\n",
       "6     205000.0      334500.000\n",
       "7     330000.0      193290.000\n",
       "8     185000.0      123312.700\n",
       "9     191500.0       97800.000"
      ]
     },
     "execution_count": 646,
     "metadata": {},
     "output_type": "execute_result"
    }
   ],
   "source": [
    "# Predicted class labels for all examples, \n",
    "# using the trained model, on in-sample data (same sample used for training and test)\n",
    "rfc_predictions_test = rfc.predict(X_test)\n",
    "df_true_vs_rfc_predicted_test = pd.DataFrame({'ActualClass': y_test, 'PredictedClass': rfc_predictions_test})\n",
    "df_true_vs_rfc_predicted_test.head(10)"
   ]
  },
  {
   "cell_type": "code",
   "execution_count": 647,
   "metadata": {},
   "outputs": [
    {
     "name": "stdout",
     "output_type": "stream",
     "text": [
      "==================== Train Data =======================\n",
      "R squared: 0.806\n",
      "Mean Absolute Error: 37920.71561493975\n",
      "Mean squared error: 2908421837.06\n",
      "RMSE: 53929.786176694375\n",
      "==================== Test Data =======================\n",
      "R squared: 0.232\n",
      "Mean Absolute Error: 83580.74200963233\n",
      "Mean squared error: 11865720164.93\n",
      "RMSE: 108929.88646340047\n",
      "======================================================\n"
     ]
    }
   ],
   "source": [
    "#print evaluation measures\n",
    "print(\"==================== Train Data =======================\")\n",
    "print('R squared: %.3f' %(rfc.score(X_train,y_train)))\n",
    "print('Mean Absolute Error:', metrics.mean_absolute_error(y_train, rfc_predictions_train))\n",
    "print(\"Mean squared error: %.2f\"\n",
    "      % mean_squared_error(y_train, rfc_predictions_train))\n",
    "print('RMSE:', np.sqrt(metrics.mean_squared_error(y_train, rfc_predictions_train)))\n",
    "print(\"==================== Test Data =======================\")\n",
    "print('R squared: %.3f' %(rfc.score(X_test,y_test)))\n",
    "print('Mean Absolute Error:', metrics.mean_absolute_error(y_test, rfc_predictions_test))\n",
    "print(\"Mean squared error: %.2f\"\n",
    "      % mean_squared_error(y_test, rfc_predictions_test))\n",
    "print('RMSE:', np.sqrt(metrics.mean_squared_error(y_test, rfc_predictions_test)))\n",
    "print(\"======================================================\")"
   ]
  },
  {
   "cell_type": "markdown",
   "metadata": {},
   "source": [
    "#### 4.4.1 Interpretation of results and comparison with training set\n",
    "\n",
    "We will now compare the test and training results.\n",
    "- **R squared:** \n",
    "    - The R squared of the test data has decreased to 23.2%.\n",
    "- **Mean Absolute Error:** \n",
    "    - Mean Absolute Error has increased from 37920 to 83580\n",
    "- **Mean squared error:**\n",
    "    - Mean squared Error has increased from 2908421837 to 11865720164\n",
    "- **RMSE:**\n",
    "    - RMSE has increased from 53929 to 108929\n",
    "\n",
    "**Summary**\n",
    "\n",
    "\n",
    "- The R squared for the test data is not high at 23.2%. However, most other scores have increased in comparison to the training data. \n",
    "- The results are reasonable considering that we are testing on data the model has not seen before. Most of the scores are in line with the scores seen on test data for linear regression.\n",
    "- However, we were hoping for slightly higher scores given how high the training scores were. We will now perform cross-validation in order to further test the random forest model. "
   ]
  },
  {
   "cell_type": "markdown",
   "metadata": {},
   "source": [
    "#### 4.4.2 Cross validation\n",
    "- We will preform cross validation and store the results in a dictionary for later use."
   ]
  },
  {
   "cell_type": "code",
   "execution_count": 648,
   "metadata": {},
   "outputs": [],
   "source": [
    "#this code is adapted from the sample solution provided, extra functionality has been added.\n",
    "def cross_val_RF(X, y, cv = 3, scoring='R_squared', depth = 10, estimators=10):\n",
    "    \n",
    "    # store results\n",
    "    results = []\n",
    "    # set up train test split\n",
    "    X_train, X_test, y_train, y_test = train_test_split(X, y, random_state=1, test_size=0.3)\n",
    "    # generate model\n",
    "    for i in range(cv):\n",
    "        multiple_rfc = RandomForestRegressor(n_estimators=estimators, random_state=i, max_features='auto',oob_score=True, max_depth=depth).fit(X_train, y_train)\n",
    "        # threshold\n",
    "        multiple_rfc_predictions = multiple_rfc.predict(X_test) \n",
    "        # calc score\n",
    "        if scoring=='R_squared':\n",
    "            score = multiple_rfc.score(X_test,y_test)\n",
    "        elif scoring=='MAR':\n",
    "            score = metrics.mean_absolute_error(y_test, multiple_rfc_predictions)\n",
    "        elif scoring=='MSE':\n",
    "            score = mean_squared_error(y_test, multiple_rfc_predictions)\n",
    "        elif scoring=='RMSE':\n",
    "            score = np.sqrt(metrics.mean_squared_error(y_test, multiple_rfc_predictions))\n",
    "        # append to results\n",
    "        results.append(score)\n",
    "    return results"
   ]
  },
  {
   "cell_type": "code",
   "execution_count": 649,
   "metadata": {},
   "outputs": [],
   "source": [
    "# #this code is from the sample solution provided\n",
    "# def cross_val_RandomForest_DF(X,y, resampled=None):\n",
    "#     \"\"\"Function to perform cross validation and store results \n",
    "#     in dataframe. \"\"\"\n",
    "\n",
    "#     RandomForestResults = {}\n",
    "#     # metrics to test against\n",
    "#     test_metrics = ['R_squared','MAR','MSE', 'RMSE']\n",
    "    \n",
    "#     for metric in test_metrics:\n",
    "#         # generate test results\n",
    "#         result = cross_val_RF(X, y, cv=10, scoring=metric, resampled = resampled)\n",
    "#         length = len(result)\n",
    "#         # store result in dict\n",
    "#         RandomForestResults[metric] = sum(result)/length #np.std(result)]\n",
    "\n",
    "#     # create dataframe with results\n",
    "#     RandomForestDF = pd.DataFrame.from_dict(RandomForestResults, orient='index', columns=['Random Forest Average' ])\n",
    "    \n",
    "#     return RandomForestDF\n",
    "\n",
    "#this code is from the sample solution provided\n",
    "def cross_val_RandomForest_DF(X,y, depth = 10, estimators=10):\n",
    "    \"\"\"Function to perform cross validation and store results \n",
    "    in dataframe. \"\"\"\n",
    "\n",
    "    RandomForestResults = {}\n",
    "    # metrics to test against\n",
    "    test_metrics = ['R_squared','MAR','MSE', 'RMSE']\n",
    "    \n",
    "    for metric in test_metrics:\n",
    "        # generate test results\n",
    "        result = cross_val_RF(X, y, cv=10, scoring=metric, depth = depth, estimators=estimators)\n",
    "        length = len(result)\n",
    "        # store result in dict\n",
    "        RandomForestResults[metric] = sum(result)/length #np.std(result)]\n",
    "\n",
    "    # create dataframe with results\n",
    "    RandomForestDF = pd.DataFrame.from_dict(RandomForestResults, orient='index', columns=['Random Forest Average' ])\n",
    "    \n",
    "    return RandomForestDF"
   ]
  },
  {
   "cell_type": "code",
   "execution_count": 650,
   "metadata": {},
   "outputs": [
    {
     "name": "stdout",
     "output_type": "stream",
     "text": [
      "Mean results from 10 fold cross validation are:\n"
     ]
    },
    {
     "data": {
      "text/html": [
       "<div>\n",
       "<style scoped>\n",
       "    .dataframe tbody tr th:only-of-type {\n",
       "        vertical-align: middle;\n",
       "    }\n",
       "\n",
       "    .dataframe tbody tr th {\n",
       "        vertical-align: top;\n",
       "    }\n",
       "\n",
       "    .dataframe thead th {\n",
       "        text-align: right;\n",
       "    }\n",
       "</style>\n",
       "<table border=\"1\" class=\"dataframe\">\n",
       "  <thead>\n",
       "    <tr style=\"text-align: right;\">\n",
       "      <th></th>\n",
       "      <th>Random Forest Average</th>\n",
       "    </tr>\n",
       "  </thead>\n",
       "  <tbody>\n",
       "    <tr>\n",
       "      <th>R_squared</th>\n",
       "      <td>3.320192e-01</td>\n",
       "    </tr>\n",
       "    <tr>\n",
       "      <th>MAR</th>\n",
       "      <td>7.811813e+04</td>\n",
       "    </tr>\n",
       "    <tr>\n",
       "      <th>MSE</th>\n",
       "      <td>1.031595e+10</td>\n",
       "    </tr>\n",
       "    <tr>\n",
       "      <th>RMSE</th>\n",
       "      <td>1.015671e+05</td>\n",
       "    </tr>\n",
       "  </tbody>\n",
       "</table>\n",
       "</div>"
      ],
      "text/plain": [
       "           Random Forest Average\n",
       "R_squared           3.320192e-01\n",
       "MAR                 7.811813e+04\n",
       "MSE                 1.031595e+10\n",
       "RMSE                1.015671e+05"
      ]
     },
     "execution_count": 650,
     "metadata": {},
     "output_type": "execute_result"
    }
   ],
   "source": [
    "RandomForestDF = cross_val_RandomForest_DF(X,y)\n",
    "print(\"Mean results from 10 fold cross validation are:\")\n",
    "RandomForestDF"
   ]
  },
  {
   "cell_type": "markdown",
   "metadata": {},
   "source": [
    "- We can see that in comparison to the test results above, the scores for R_squared has decreased slightly. MAR and MSE have decreased obviously. These variations are expected as we are now performing 10-fold cross validation. \n",
    "- These results are not as good as expected. We had expected random forest to perform better than both decision tree and linear regression as we are working with categorical data which is non-linear in nature. "
   ]
  },
  {
   "cell_type": "markdown",
   "metadata": {},
   "source": [
    "This result is in line with the cross validation results seen above. We are happy with this result. "
   ]
  },
  {
   "cell_type": "markdown",
   "metadata": {},
   "source": [
    "# Q5) Improving predictive models"
   ]
  },
  {
   "cell_type": "markdown",
   "metadata": {},
   "source": [
    "### 5.1 Which model of the ones trained above performs better at predicting the target feature? \n",
    "\n",
    "- In the cell below we will display the cross-validation results of all three models. We will discuss the findings below the output. \n",
    "- By default, the results shown here are for predicting the price\n",
    "- It is important to note that these results are for a subset of the original features, as we dropped many features in part 1.\n",
    "- Later in the assignment we will review the impact of removing these features. "
   ]
  },
  {
   "cell_type": "code",
   "execution_count": 651,
   "metadata": {},
   "outputs": [
    {
     "data": {
      "text/html": [
       "<div>\n",
       "<style scoped>\n",
       "    .dataframe tbody tr th:only-of-type {\n",
       "        vertical-align: middle;\n",
       "    }\n",
       "\n",
       "    .dataframe tbody tr th {\n",
       "        vertical-align: top;\n",
       "    }\n",
       "\n",
       "    .dataframe thead th {\n",
       "        text-align: right;\n",
       "    }\n",
       "</style>\n",
       "<table border=\"1\" class=\"dataframe\">\n",
       "  <thead>\n",
       "    <tr style=\"text-align: right;\">\n",
       "      <th></th>\n",
       "      <th>Linear_Regression Average</th>\n",
       "      <th>Decision Tree Average</th>\n",
       "      <th>Random Forest Average</th>\n",
       "    </tr>\n",
       "  </thead>\n",
       "  <tbody>\n",
       "    <tr>\n",
       "      <th>R_squared</th>\n",
       "      <td>3.610616e-01</td>\n",
       "      <td>2.575253e-01</td>\n",
       "      <td>3.320192e-01</td>\n",
       "    </tr>\n",
       "    <tr>\n",
       "      <th>MAR</th>\n",
       "      <td>1.122032e+05</td>\n",
       "      <td>8.125636e+04</td>\n",
       "      <td>7.811813e+04</td>\n",
       "    </tr>\n",
       "    <tr>\n",
       "      <th>MSE</th>\n",
       "      <td>2.006998e+10</td>\n",
       "      <td>1.137348e+10</td>\n",
       "      <td>1.031595e+10</td>\n",
       "    </tr>\n",
       "    <tr>\n",
       "      <th>RMSE</th>\n",
       "      <td>1.410083e+05</td>\n",
       "      <td>1.066267e+05</td>\n",
       "      <td>1.015671e+05</td>\n",
       "    </tr>\n",
       "  </tbody>\n",
       "</table>\n",
       "</div>"
      ],
      "text/plain": [
       "           Linear_Regression Average  Decision Tree Average  \\\n",
       "R_squared               3.610616e-01           2.575253e-01   \n",
       "MAR                     1.122032e+05           8.125636e+04   \n",
       "MSE                     2.006998e+10           1.137348e+10   \n",
       "RMSE                    1.410083e+05           1.066267e+05   \n",
       "\n",
       "           Random Forest Average  \n",
       "R_squared           3.320192e-01  \n",
       "MAR                 7.811813e+04  \n",
       "MSE                 1.031595e+10  \n",
       "RMSE                1.015671e+05  "
      ]
     },
     "execution_count": 651,
     "metadata": {},
     "output_type": "execute_result"
    }
   ],
   "source": [
    "ResultsDF = pd.concat([linRegDF, DecisionTreeDF, RandomForestDF], axis=1)\n",
    "ResultsDF"
   ]
  },
  {
   "cell_type": "markdown",
   "metadata": {},
   "source": [
    "- There is quite a bit of variation in the scores.\n",
    "- We can see that Decision Tree Average is performing the best. Although it does not have as high a R squared as linear regression, it has the lowest RMSE, MSE and MAR scores and thus is performing the best at predicting price.\n",
    "- Random forests is the second best model.\n",
    "- Although linear regression has a high R squared, the RMSE, MSE and MAR scores are lower than the other two models, telling us that it is not as good at predicting price."
   ]
  },
  {
   "cell_type": "markdown",
   "metadata": {},
   "source": [
    "#### 5.1.2 Is it more accurate than a simple model that always predicts the average price computed from the training set, for the same year as the test example？"
   ]
  },
  {
   "cell_type": "markdown",
   "metadata": {},
   "source": [
    "- We will now compare our results to a simple model that always predicts the average price computed from the training set。\n",
    "- We will now run some code which confirms this."
   ]
  },
  {
   "cell_type": "code",
   "execution_count": 652,
   "metadata": {},
   "outputs": [
    {
     "data": {
      "text/html": [
       "<div>\n",
       "<style scoped>\n",
       "    .dataframe tbody tr th:only-of-type {\n",
       "        vertical-align: middle;\n",
       "    }\n",
       "\n",
       "    .dataframe tbody tr th {\n",
       "        vertical-align: top;\n",
       "    }\n",
       "\n",
       "    .dataframe thead th {\n",
       "        text-align: right;\n",
       "    }\n",
       "</style>\n",
       "<table border=\"1\" class=\"dataframe\">\n",
       "  <thead>\n",
       "    <tr style=\"text-align: right;\">\n",
       "      <th></th>\n",
       "      <th>Postal_Code_Known</th>\n",
       "      <th>Year</th>\n",
       "      <th>Month</th>\n",
       "      <th>Postal Code_Dublin 1</th>\n",
       "      <th>Postal Code_Dublin 10</th>\n",
       "      <th>Postal Code_Dublin 11</th>\n",
       "      <th>Postal Code_Dublin 12</th>\n",
       "      <th>Postal Code_Dublin 13</th>\n",
       "      <th>Postal Code_Dublin 14</th>\n",
       "      <th>Postal Code_Dublin 15</th>\n",
       "      <th>...</th>\n",
       "      <th>Property Size Description_greater than or equal to 38 sq metres and less than 125 sq metres</th>\n",
       "      <th>Property Size Description_less than 38 sq metres</th>\n",
       "      <th>Day_Friday</th>\n",
       "      <th>Day_Monday</th>\n",
       "      <th>Day_Saturday</th>\n",
       "      <th>Day_Sunday</th>\n",
       "      <th>Day_Thursday</th>\n",
       "      <th>Day_Tuesday</th>\n",
       "      <th>Day_Wednesday</th>\n",
       "      <th>Price (€)</th>\n",
       "    </tr>\n",
       "  </thead>\n",
       "  <tbody>\n",
       "    <tr>\n",
       "      <th>0</th>\n",
       "      <td>1</td>\n",
       "      <td>2014</td>\n",
       "      <td>8</td>\n",
       "      <td>0</td>\n",
       "      <td>0</td>\n",
       "      <td>0</td>\n",
       "      <td>0</td>\n",
       "      <td>0</td>\n",
       "      <td>0</td>\n",
       "      <td>0</td>\n",
       "      <td>...</td>\n",
       "      <td>0</td>\n",
       "      <td>0</td>\n",
       "      <td>1</td>\n",
       "      <td>0</td>\n",
       "      <td>0</td>\n",
       "      <td>0</td>\n",
       "      <td>0</td>\n",
       "      <td>0</td>\n",
       "      <td>0</td>\n",
       "      <td>83000.0</td>\n",
       "    </tr>\n",
       "    <tr>\n",
       "      <th>1</th>\n",
       "      <td>0</td>\n",
       "      <td>2015</td>\n",
       "      <td>7</td>\n",
       "      <td>0</td>\n",
       "      <td>0</td>\n",
       "      <td>0</td>\n",
       "      <td>0</td>\n",
       "      <td>0</td>\n",
       "      <td>0</td>\n",
       "      <td>0</td>\n",
       "      <td>...</td>\n",
       "      <td>0</td>\n",
       "      <td>0</td>\n",
       "      <td>1</td>\n",
       "      <td>0</td>\n",
       "      <td>0</td>\n",
       "      <td>0</td>\n",
       "      <td>0</td>\n",
       "      <td>0</td>\n",
       "      <td>0</td>\n",
       "      <td>235000.0</td>\n",
       "    </tr>\n",
       "    <tr>\n",
       "      <th>2</th>\n",
       "      <td>1</td>\n",
       "      <td>2015</td>\n",
       "      <td>11</td>\n",
       "      <td>0</td>\n",
       "      <td>0</td>\n",
       "      <td>0</td>\n",
       "      <td>0</td>\n",
       "      <td>0</td>\n",
       "      <td>0</td>\n",
       "      <td>0</td>\n",
       "      <td>...</td>\n",
       "      <td>0</td>\n",
       "      <td>0</td>\n",
       "      <td>0</td>\n",
       "      <td>1</td>\n",
       "      <td>0</td>\n",
       "      <td>0</td>\n",
       "      <td>0</td>\n",
       "      <td>0</td>\n",
       "      <td>0</td>\n",
       "      <td>312000.0</td>\n",
       "    </tr>\n",
       "    <tr>\n",
       "      <th>3</th>\n",
       "      <td>0</td>\n",
       "      <td>2013</td>\n",
       "      <td>4</td>\n",
       "      <td>0</td>\n",
       "      <td>0</td>\n",
       "      <td>0</td>\n",
       "      <td>0</td>\n",
       "      <td>0</td>\n",
       "      <td>0</td>\n",
       "      <td>0</td>\n",
       "      <td>...</td>\n",
       "      <td>0</td>\n",
       "      <td>0</td>\n",
       "      <td>0</td>\n",
       "      <td>0</td>\n",
       "      <td>0</td>\n",
       "      <td>0</td>\n",
       "      <td>1</td>\n",
       "      <td>0</td>\n",
       "      <td>0</td>\n",
       "      <td>170000.0</td>\n",
       "    </tr>\n",
       "    <tr>\n",
       "      <th>4</th>\n",
       "      <td>0</td>\n",
       "      <td>2018</td>\n",
       "      <td>9</td>\n",
       "      <td>0</td>\n",
       "      <td>0</td>\n",
       "      <td>0</td>\n",
       "      <td>0</td>\n",
       "      <td>0</td>\n",
       "      <td>0</td>\n",
       "      <td>0</td>\n",
       "      <td>...</td>\n",
       "      <td>0</td>\n",
       "      <td>0</td>\n",
       "      <td>0</td>\n",
       "      <td>0</td>\n",
       "      <td>0</td>\n",
       "      <td>0</td>\n",
       "      <td>0</td>\n",
       "      <td>1</td>\n",
       "      <td>0</td>\n",
       "      <td>400000.0</td>\n",
       "    </tr>\n",
       "    <tr>\n",
       "      <th>...</th>\n",
       "      <td>...</td>\n",
       "      <td>...</td>\n",
       "      <td>...</td>\n",
       "      <td>...</td>\n",
       "      <td>...</td>\n",
       "      <td>...</td>\n",
       "      <td>...</td>\n",
       "      <td>...</td>\n",
       "      <td>...</td>\n",
       "      <td>...</td>\n",
       "      <td>...</td>\n",
       "      <td>...</td>\n",
       "      <td>...</td>\n",
       "      <td>...</td>\n",
       "      <td>...</td>\n",
       "      <td>...</td>\n",
       "      <td>...</td>\n",
       "      <td>...</td>\n",
       "      <td>...</td>\n",
       "      <td>...</td>\n",
       "      <td>...</td>\n",
       "    </tr>\n",
       "    <tr>\n",
       "      <th>6585</th>\n",
       "      <td>0</td>\n",
       "      <td>2013</td>\n",
       "      <td>1</td>\n",
       "      <td>0</td>\n",
       "      <td>0</td>\n",
       "      <td>0</td>\n",
       "      <td>0</td>\n",
       "      <td>0</td>\n",
       "      <td>0</td>\n",
       "      <td>0</td>\n",
       "      <td>...</td>\n",
       "      <td>0</td>\n",
       "      <td>0</td>\n",
       "      <td>1</td>\n",
       "      <td>0</td>\n",
       "      <td>0</td>\n",
       "      <td>0</td>\n",
       "      <td>0</td>\n",
       "      <td>0</td>\n",
       "      <td>0</td>\n",
       "      <td>160000.0</td>\n",
       "    </tr>\n",
       "    <tr>\n",
       "      <th>6586</th>\n",
       "      <td>0</td>\n",
       "      <td>2013</td>\n",
       "      <td>8</td>\n",
       "      <td>0</td>\n",
       "      <td>0</td>\n",
       "      <td>0</td>\n",
       "      <td>0</td>\n",
       "      <td>0</td>\n",
       "      <td>0</td>\n",
       "      <td>0</td>\n",
       "      <td>...</td>\n",
       "      <td>0</td>\n",
       "      <td>0</td>\n",
       "      <td>1</td>\n",
       "      <td>0</td>\n",
       "      <td>0</td>\n",
       "      <td>0</td>\n",
       "      <td>0</td>\n",
       "      <td>0</td>\n",
       "      <td>0</td>\n",
       "      <td>68000.0</td>\n",
       "    </tr>\n",
       "    <tr>\n",
       "      <th>6587</th>\n",
       "      <td>1</td>\n",
       "      <td>2021</td>\n",
       "      <td>1</td>\n",
       "      <td>0</td>\n",
       "      <td>0</td>\n",
       "      <td>0</td>\n",
       "      <td>0</td>\n",
       "      <td>0</td>\n",
       "      <td>0</td>\n",
       "      <td>0</td>\n",
       "      <td>...</td>\n",
       "      <td>0</td>\n",
       "      <td>0</td>\n",
       "      <td>0</td>\n",
       "      <td>1</td>\n",
       "      <td>0</td>\n",
       "      <td>0</td>\n",
       "      <td>0</td>\n",
       "      <td>0</td>\n",
       "      <td>0</td>\n",
       "      <td>580000.0</td>\n",
       "    </tr>\n",
       "    <tr>\n",
       "      <th>6588</th>\n",
       "      <td>0</td>\n",
       "      <td>2015</td>\n",
       "      <td>3</td>\n",
       "      <td>0</td>\n",
       "      <td>0</td>\n",
       "      <td>0</td>\n",
       "      <td>0</td>\n",
       "      <td>0</td>\n",
       "      <td>0</td>\n",
       "      <td>0</td>\n",
       "      <td>...</td>\n",
       "      <td>0</td>\n",
       "      <td>0</td>\n",
       "      <td>1</td>\n",
       "      <td>0</td>\n",
       "      <td>0</td>\n",
       "      <td>0</td>\n",
       "      <td>0</td>\n",
       "      <td>0</td>\n",
       "      <td>0</td>\n",
       "      <td>150000.0</td>\n",
       "    </tr>\n",
       "    <tr>\n",
       "      <th>6589</th>\n",
       "      <td>0</td>\n",
       "      <td>2016</td>\n",
       "      <td>1</td>\n",
       "      <td>0</td>\n",
       "      <td>0</td>\n",
       "      <td>0</td>\n",
       "      <td>0</td>\n",
       "      <td>0</td>\n",
       "      <td>0</td>\n",
       "      <td>0</td>\n",
       "      <td>...</td>\n",
       "      <td>0</td>\n",
       "      <td>0</td>\n",
       "      <td>0</td>\n",
       "      <td>0</td>\n",
       "      <td>0</td>\n",
       "      <td>0</td>\n",
       "      <td>0</td>\n",
       "      <td>0</td>\n",
       "      <td>1</td>\n",
       "      <td>475000.0</td>\n",
       "    </tr>\n",
       "  </tbody>\n",
       "</table>\n",
       "<p>6590 rows × 66 columns</p>\n",
       "</div>"
      ],
      "text/plain": [
       "      Postal_Code_Known  Year  Month  Postal Code_Dublin 1  \\\n",
       "0                     1  2014      8                     0   \n",
       "1                     0  2015      7                     0   \n",
       "2                     1  2015     11                     0   \n",
       "3                     0  2013      4                     0   \n",
       "4                     0  2018      9                     0   \n",
       "...                 ...   ...    ...                   ...   \n",
       "6585                  0  2013      1                     0   \n",
       "6586                  0  2013      8                     0   \n",
       "6587                  1  2021      1                     0   \n",
       "6588                  0  2015      3                     0   \n",
       "6589                  0  2016      1                     0   \n",
       "\n",
       "      Postal Code_Dublin 10  Postal Code_Dublin 11  Postal Code_Dublin 12  \\\n",
       "0                         0                      0                      0   \n",
       "1                         0                      0                      0   \n",
       "2                         0                      0                      0   \n",
       "3                         0                      0                      0   \n",
       "4                         0                      0                      0   \n",
       "...                     ...                    ...                    ...   \n",
       "6585                      0                      0                      0   \n",
       "6586                      0                      0                      0   \n",
       "6587                      0                      0                      0   \n",
       "6588                      0                      0                      0   \n",
       "6589                      0                      0                      0   \n",
       "\n",
       "      Postal Code_Dublin 13  Postal Code_Dublin 14  Postal Code_Dublin 15  \\\n",
       "0                         0                      0                      0   \n",
       "1                         0                      0                      0   \n",
       "2                         0                      0                      0   \n",
       "3                         0                      0                      0   \n",
       "4                         0                      0                      0   \n",
       "...                     ...                    ...                    ...   \n",
       "6585                      0                      0                      0   \n",
       "6586                      0                      0                      0   \n",
       "6587                      0                      0                      0   \n",
       "6588                      0                      0                      0   \n",
       "6589                      0                      0                      0   \n",
       "\n",
       "      ...  \\\n",
       "0     ...   \n",
       "1     ...   \n",
       "2     ...   \n",
       "3     ...   \n",
       "4     ...   \n",
       "...   ...   \n",
       "6585  ...   \n",
       "6586  ...   \n",
       "6587  ...   \n",
       "6588  ...   \n",
       "6589  ...   \n",
       "\n",
       "      Property Size Description_greater than or equal to 38 sq metres and less than 125 sq metres  \\\n",
       "0                                                     0                                             \n",
       "1                                                     0                                             \n",
       "2                                                     0                                             \n",
       "3                                                     0                                             \n",
       "4                                                     0                                             \n",
       "...                                                 ...                                             \n",
       "6585                                                  0                                             \n",
       "6586                                                  0                                             \n",
       "6587                                                  0                                             \n",
       "6588                                                  0                                             \n",
       "6589                                                  0                                             \n",
       "\n",
       "      Property Size Description_less than 38 sq metres  Day_Friday  \\\n",
       "0                                                    0           1   \n",
       "1                                                    0           1   \n",
       "2                                                    0           0   \n",
       "3                                                    0           0   \n",
       "4                                                    0           0   \n",
       "...                                                ...         ...   \n",
       "6585                                                 0           1   \n",
       "6586                                                 0           1   \n",
       "6587                                                 0           0   \n",
       "6588                                                 0           1   \n",
       "6589                                                 0           0   \n",
       "\n",
       "      Day_Monday  Day_Saturday  Day_Sunday  Day_Thursday  Day_Tuesday  \\\n",
       "0              0             0           0             0            0   \n",
       "1              0             0           0             0            0   \n",
       "2              1             0           0             0            0   \n",
       "3              0             0           0             1            0   \n",
       "4              0             0           0             0            1   \n",
       "...          ...           ...         ...           ...          ...   \n",
       "6585           0             0           0             0            0   \n",
       "6586           0             0           0             0            0   \n",
       "6587           1             0           0             0            0   \n",
       "6588           0             0           0             0            0   \n",
       "6589           0             0           0             0            0   \n",
       "\n",
       "      Day_Wednesday  Price (€)  \n",
       "0                 0    83000.0  \n",
       "1                 0   235000.0  \n",
       "2                 0   312000.0  \n",
       "3                 0   170000.0  \n",
       "4                 0   400000.0  \n",
       "...             ...        ...  \n",
       "6585              0   160000.0  \n",
       "6586              0    68000.0  \n",
       "6587              0   580000.0  \n",
       "6588              0   150000.0  \n",
       "6589              1   475000.0  \n",
       "\n",
       "[6590 rows x 66 columns]"
      ]
     },
     "execution_count": 652,
     "metadata": {},
     "output_type": "execute_result"
    }
   ],
   "source": [
    "train_DF = pd.concat([X_train, y_train], axis=1)\n",
    "test_DF = pd.concat([X_test, y_test], axis=1)\n",
    "train_DF\n"
   ]
  },
  {
   "cell_type": "markdown",
   "metadata": {},
   "source": [
    "then we need to caculate the mean price of each year"
   ]
  },
  {
   "cell_type": "code",
   "execution_count": 653,
   "metadata": {},
   "outputs": [
    {
     "data": {
      "text/plain": [
       "Year\n",
       "2010    215371.906534\n",
       "2011    188596.824745\n",
       "2012    159406.788698\n",
       "2013    159182.289260\n",
       "2014    165092.155981\n",
       "2015    184161.438110\n",
       "2016    198639.349542\n",
       "2017    214822.931281\n",
       "2018    228710.972841\n",
       "2019    236727.017500\n",
       "2020    242449.454477\n",
       "2021    251138.238373\n",
       "2022    176500.000000\n",
       "Name: Price (€), dtype: float64"
      ]
     },
     "execution_count": 653,
     "metadata": {},
     "output_type": "execute_result"
    }
   ],
   "source": [
    "\n",
    "# Caculate the mean price of each year\n",
    "year_mean = train_DF.groupby('Year')['Price (€)'].mean()\n",
    "year_mean"
   ]
  },
  {
   "cell_type": "markdown",
   "metadata": {},
   "source": []
  },
  {
   "cell_type": "markdown",
   "metadata": {},
   "source": [
    "Now, we need to get the prediction of each test row"
   ]
  },
  {
   "cell_type": "code",
   "execution_count": 654,
   "metadata": {},
   "outputs": [],
   "source": [
    "Years  = df['Year'].unique()"
   ]
  },
  {
   "cell_type": "code",
   "execution_count": 655,
   "metadata": {},
   "outputs": [],
   "source": [
    "# for i in range(train_DF.shape[0]):\n",
    "#     train_DF['Price (€)'][i] = year_mean[train_DF['Year'][i]]\n",
    "# simple_prediction = train_DF['Price (€)']\n"
   ]
  },
  {
   "cell_type": "code",
   "execution_count": 656,
   "metadata": {},
   "outputs": [],
   "source": [
    "for year in Years:\n",
    "    test_DF.loc[(test_DF['Year'] == year),'Price (€)'] = year_mean[year]\n",
    "simple_prediction = test_DF['Price (€)']"
   ]
  },
  {
   "cell_type": "code",
   "execution_count": 657,
   "metadata": {},
   "outputs": [],
   "source": [
    "simple_prediction = pd.DataFrame(simple_prediction)\n",
    "SimpleResults = {}"
   ]
  },
  {
   "cell_type": "code",
   "execution_count": 658,
   "metadata": {},
   "outputs": [
    {
     "name": "stdout",
     "output_type": "stream",
     "text": [
      "R squared: 0.062\n",
      "Mean Absolute Error: 96091.53081686204\n",
      "Mean squared error: 14492565742.85\n",
      "RMSE: 120385.07275757553\n"
     ]
    }
   ],
   "source": [
    "\n",
    "SimpleResults['R_squared'] = metrics.r2_score(y_test, simple_prediction)\n",
    "SimpleResults['MAR'] = metrics.mean_absolute_error(y_test, simple_prediction)\n",
    "SimpleResults['MSE'] = mean_squared_error(y_test, simple_prediction)\n",
    "SimpleResults['RMSE'] = np.sqrt(metrics.mean_squared_error(y_test, simple_prediction))\n",
    "SimpleResultsDT = pd.DataFrame.from_dict(SimpleResults, orient='index', columns=['Simple Average' ])\n",
    "print('R squared: %.3f'%SimpleResults['R_squared'])\n",
    "print('Mean Absolute Error:', metrics.mean_absolute_error(y_test, simple_prediction))\n",
    "print(\"Mean squared error: %.2f\"\n",
    "      % mean_squared_error(y_test, simple_prediction))\n",
    "print('RMSE:', np.sqrt(metrics.mean_squared_error(y_test, simple_prediction)))\n",
    "\n"
   ]
  },
  {
   "cell_type": "code",
   "execution_count": 659,
   "metadata": {},
   "outputs": [
    {
     "data": {
      "text/html": [
       "<div>\n",
       "<style scoped>\n",
       "    .dataframe tbody tr th:only-of-type {\n",
       "        vertical-align: middle;\n",
       "    }\n",
       "\n",
       "    .dataframe tbody tr th {\n",
       "        vertical-align: top;\n",
       "    }\n",
       "\n",
       "    .dataframe thead th {\n",
       "        text-align: right;\n",
       "    }\n",
       "</style>\n",
       "<table border=\"1\" class=\"dataframe\">\n",
       "  <thead>\n",
       "    <tr style=\"text-align: right;\">\n",
       "      <th></th>\n",
       "      <th>Linear_Regression Average</th>\n",
       "      <th>Decision Tree Average</th>\n",
       "      <th>Random Forest Average</th>\n",
       "      <th>Simple Average</th>\n",
       "    </tr>\n",
       "  </thead>\n",
       "  <tbody>\n",
       "    <tr>\n",
       "      <th>R_squared</th>\n",
       "      <td>3.610616e-01</td>\n",
       "      <td>2.575253e-01</td>\n",
       "      <td>3.320192e-01</td>\n",
       "      <td>6.157376e-02</td>\n",
       "    </tr>\n",
       "    <tr>\n",
       "      <th>MAR</th>\n",
       "      <td>1.122032e+05</td>\n",
       "      <td>8.125636e+04</td>\n",
       "      <td>7.811813e+04</td>\n",
       "      <td>9.609153e+04</td>\n",
       "    </tr>\n",
       "    <tr>\n",
       "      <th>MSE</th>\n",
       "      <td>2.006998e+10</td>\n",
       "      <td>1.137348e+10</td>\n",
       "      <td>1.031595e+10</td>\n",
       "      <td>1.449257e+10</td>\n",
       "    </tr>\n",
       "    <tr>\n",
       "      <th>RMSE</th>\n",
       "      <td>1.410083e+05</td>\n",
       "      <td>1.066267e+05</td>\n",
       "      <td>1.015671e+05</td>\n",
       "      <td>1.203851e+05</td>\n",
       "    </tr>\n",
       "  </tbody>\n",
       "</table>\n",
       "</div>"
      ],
      "text/plain": [
       "           Linear_Regression Average  Decision Tree Average  \\\n",
       "R_squared               3.610616e-01           2.575253e-01   \n",
       "MAR                     1.122032e+05           8.125636e+04   \n",
       "MSE                     2.006998e+10           1.137348e+10   \n",
       "RMSE                    1.410083e+05           1.066267e+05   \n",
       "\n",
       "           Random Forest Average  Simple Average  \n",
       "R_squared           3.320192e-01    6.157376e-02  \n",
       "MAR                 7.811813e+04    9.609153e+04  \n",
       "MSE                 1.031595e+10    1.449257e+10  \n",
       "RMSE                1.015671e+05    1.203851e+05  "
      ]
     },
     "execution_count": 659,
     "metadata": {},
     "output_type": "execute_result"
    }
   ],
   "source": [
    "ResultsDF = pd.concat([linRegDF, DecisionTreeDF, RandomForestDF, SimpleResultsDT], axis=1)\n",
    "ResultsDF"
   ]
  },
  {
   "cell_type": "markdown",
   "metadata": {},
   "source": [
    "- As mentioned above, by default sklearn outputs the cross-validation results for the positive class. \n",
    "-  When we create a simple model which always predicts the average price computed from the training set , the accuracy and R_squared scores are 6%. \n",
    "\n",
    "- Upon comparison with the scores obtained in our three models, we can see that our models perform better than this model which always predicts the average price computed from the training set. \n",
    "- Our results obtained were as followed: \n",
    "    - Linear regression: \n",
    "        - R_squared 36%\n",
    "        - RMSE  141008\n",
    "    - Decision Tree:\n",
    "        - R_squared 25.8%\n",
    "        - RMSE  106627.\n",
    "    - Random Forests:\n",
    "        - R_squared 33.8%\n",
    "        - RMSE 101037."
   ]
  },
  {
   "cell_type": "markdown",
   "metadata": {},
   "source": [
    "### 5.2 Summarise your understanding of the problem and of your predictive modeling results so far.\n",
    "\n",
    "The aim is to find a model which best predicts the price of the house. Based on this understanding, it is more important for our model to be able to predict the price. \n",
    "\n",
    "A critical feature of our dataset is that it is uncompleted. This makes it more difficult for us to predict house price. This has been reflected in our scores for all models. As we have discussed, county feature is the most important one for us to correctly predict. \n",
    "\n",
    "We will now link our understanding to the evaluation metrics in order to make it clear what the aim of part 5 is.\n",
    "- **R squared** R-squared is a goodness-of-fit measure for linear regression models. This statistic indicates the percentage of the variance in the dependent variable that the independent variables explain collectively. R-squared measures the strength of the relationship between your model and the dependent variable on a convenient 0 – 100% scale.\n",
    "\n",
    "- **Mean Absolute Error** Mean Absolute Error is a  model evaluation metric used with  regression models. The mean absolute error of a model with respect to a  test set is the mean of the absolute values of the individual prediction errors on over all  instances in the  test set. \n",
    "\n",
    "\n",
    "- ** MSE** Mean Squared Error ( MSE ) is defined as Mean or Average of the square of the difference between actual and estimated values. This means that MSE is calculated by the square of the difference between the predicted and actual target variables, divided by the number of data points. It is always non–negative values and close to zero are better.\n",
    "\n",
    "\n",
    "- ** RMSE** Root Mean Square Error ( RMSE ) is also used as a measure for model evaluation. It is the square root of Mean Squared Error (MSE). This is the same as Mean Squared Error (MSE) but the root of the value is considered while determining the accuracy of the model. we will monitor this score throughout to ensure it does not increase significantly.\n",
    "\n",
    "It is important to note that a discussion with the domain expert is needed in order to know exactly which scores to prioritise in the following analysis. Without such a discussion, we will assume that R squared is the most important for us to improve and that RMSE scores and average_precision much not increase in order to maintain a balance between R squared and RMSE. We are confident that by focussing on these metrics, we can improve the ability of the models to predict the price of a house and thus improve their outcome. "
   ]
  },
  {
   "cell_type": "markdown",
   "metadata": {},
   "source": [
    "### 5.2.1 New ideas to improve the best model so far."
   ]
  },
  {
   "cell_type": "markdown",
   "metadata": {},
   "source": [
    "#### All features\n",
    "- The first step we will take is to compare our models to models using all features. \n",
    "- In part 1 we created a new dataframe containing only a subset of features and we preserved all features in the original dataframe. \n",
    "- We will now repeat the tests using all features.\n",
    "- The first step is to set up the datadrame with all features but address(it has a high cardinality) and to create dummies. "
   ]
  },
  {
   "cell_type": "code",
   "execution_count": 660,
   "metadata": {},
   "outputs": [
    {
     "name": "stdout",
     "output_type": "stream",
     "text": [
      "number of features incl dummies:  63\n"
     ]
    }
   ],
   "source": [
    "# dataframe with all features = original dataframe\n",
    "df2 = df.copy()\n",
    "df2 = df2.drop(['Address', 'Date of Sale (dd/mm/yyyy)'],1)\n",
    "df_all = pd.get_dummies(df2, drop_first=True)\n",
    "# set X,y\n",
    "y = df_all[\"Price (€)\"]\n",
    "X = df_all.drop([\"Price (€)\"],1)\n",
    "print(\"number of features incl dummies: \", len(X.columns))"
   ]
  },
  {
   "cell_type": "markdown",
   "metadata": {},
   "source": [
    "- Now that we have created dummies on the dataset of all features, we are ready to test the models.\n",
    "- Recall that in sections 2,3 and 4 above we created functions which return cross validation scores in dataframes.\n",
    "- We will now invoke those functions in order to obtain the scores for all features. "
   ]
  },
  {
   "cell_type": "code",
   "execution_count": 661,
   "metadata": {},
   "outputs": [
    {
     "data": {
      "text/html": [
       "<div>\n",
       "<style scoped>\n",
       "    .dataframe tbody tr th:only-of-type {\n",
       "        vertical-align: middle;\n",
       "    }\n",
       "\n",
       "    .dataframe tbody tr th {\n",
       "        vertical-align: top;\n",
       "    }\n",
       "\n",
       "    .dataframe thead th {\n",
       "        text-align: right;\n",
       "    }\n",
       "</style>\n",
       "<table border=\"1\" class=\"dataframe\">\n",
       "  <thead>\n",
       "    <tr style=\"text-align: right;\">\n",
       "      <th></th>\n",
       "      <th>Linear_Regression Average</th>\n",
       "      <th>Decision Tree Average</th>\n",
       "      <th>Random Forest Average</th>\n",
       "    </tr>\n",
       "  </thead>\n",
       "  <tbody>\n",
       "    <tr>\n",
       "      <th>R_squared</th>\n",
       "      <td>3.766486e-01</td>\n",
       "      <td>2.910286e-01</td>\n",
       "      <td>3.455894e-01</td>\n",
       "    </tr>\n",
       "    <tr>\n",
       "      <th>MAR</th>\n",
       "      <td>1.122032e+05</td>\n",
       "      <td>7.963916e+04</td>\n",
       "      <td>7.742796e+04</td>\n",
       "    </tr>\n",
       "    <tr>\n",
       "      <th>MSE</th>\n",
       "      <td>2.006998e+10</td>\n",
       "      <td>1.085906e+10</td>\n",
       "      <td>1.010638e+10</td>\n",
       "    </tr>\n",
       "    <tr>\n",
       "      <th>RMSE</th>\n",
       "      <td>1.410083e+05</td>\n",
       "      <td>1.041987e+05</td>\n",
       "      <td>1.005301e+05</td>\n",
       "    </tr>\n",
       "  </tbody>\n",
       "</table>\n",
       "</div>"
      ],
      "text/plain": [
       "           Linear_Regression Average  Decision Tree Average  \\\n",
       "R_squared               3.766486e-01           2.910286e-01   \n",
       "MAR                     1.122032e+05           7.963916e+04   \n",
       "MSE                     2.006998e+10           1.085906e+10   \n",
       "RMSE                    1.410083e+05           1.041987e+05   \n",
       "\n",
       "           Random Forest Average  \n",
       "R_squared           3.455894e-01  \n",
       "MAR                 7.742796e+04  \n",
       "MSE                 1.010638e+10  \n",
       "RMSE                1.005301e+05  "
      ]
     },
     "execution_count": 661,
     "metadata": {},
     "output_type": "execute_result"
    }
   ],
   "source": [
    "# calculate Linear regression, logistic regression, random forest results again using all features\n",
    "linRegDF = cross_val_LinReg_DF(X,y)\n",
    "DecsionTreeDF = cross_val_DecsionTree_DF(X,y)\n",
    "RandomForestDF = cross_val_RandomForest_DF(X,y)\n",
    "# merge all 3 models into dataframe\n",
    "ResultsDF_allFeatures = pd.concat([linRegDF, DecsionTreeDF, RandomForestDF], axis=1)\n",
    "ResultsDF_allFeatures"
   ]
  },
  {
   "cell_type": "code",
   "execution_count": 662,
   "metadata": {},
   "outputs": [
    {
     "name": "stdout",
     "output_type": "stream",
     "text": [
      "\n",
      "Scores using all features:\n",
      "===================================================================\n",
      "           Linear_Regression Average  Decision Tree Average  \\\n",
      "R_squared               3.766486e-01           2.910286e-01   \n",
      "MAR                     1.122032e+05           7.963916e+04   \n",
      "MSE                     2.006998e+10           1.085906e+10   \n",
      "RMSE                    1.410083e+05           1.041987e+05   \n",
      "\n",
      "           Random Forest Average  \n",
      "R_squared           3.455894e-01  \n",
      "MAR                 7.742796e+04  \n",
      "MSE                 1.010638e+10  \n",
      "RMSE                1.005301e+05  \n",
      "\n",
      "Scores using subset of features:\n",
      "===================================================================\n",
      "           Linear_Regression Average  Decision Tree Average  \\\n",
      "R_squared               3.610616e-01           2.575253e-01   \n",
      "MAR                     1.122032e+05           8.125636e+04   \n",
      "MSE                     2.006998e+10           1.137348e+10   \n",
      "RMSE                    1.410083e+05           1.066267e+05   \n",
      "\n",
      "           Random Forest Average  Simple Average  \n",
      "R_squared           3.320192e-01    6.157376e-02  \n",
      "MAR                 7.811813e+04    9.609153e+04  \n",
      "MSE                 1.031595e+10    1.449257e+10  \n",
      "RMSE                1.015671e+05    1.203851e+05  \n"
     ]
    }
   ],
   "source": [
    "print(\"\\nScores using all features:\")\n",
    "print(\"===================================================================\")\n",
    "print(ResultsDF_allFeatures)\n",
    "print(\"\\nScores using subset of features:\")\n",
    "print(\"===================================================================\")\n",
    "print(ResultsDF)"
   ]
  },
  {
   "cell_type": "markdown",
   "metadata": {},
   "source": [
    "#### Discussion of results\n",
    "- **Linear Regression:** We can see that R_squared decreased by 1.5% when the number of features was reduced. The other scores remained the same when the number of features was reduced\n",
    "- **Decision Tree:** We can see that R_squared decreased by 3% when the number of features was reduced. While MAR decreased by 1600. MSE increased by 50000000. RMSE increased by 2500. \n",
    "- **Random Forests:** We can see that R_squared decreased by 0.7% when the number of features was reduced. While MAR decreased by 800. MSE increased by 100000000. RMSE increased by 500. \n",
    "\n",
    "- Although we do see an improvement in R_squared scores we see that there is no significant improvement in our R_squared when using our subset of features compared to all features. We see that the recall has only improved for random forests. It is difficult to say which feature set is performing better overall.\n",
    "- In order to investigate which feature subset we should use in order to improve our models, in the cells below we investigate whether feature selection could provide us with a subset which would perform better than all features and the subset we have been using in parts 2,3 and 4."
   ]
  },
  {
   "cell_type": "markdown",
   "metadata": {},
   "source": [
    "### 5.2.1 Further cleaning of features\n",
    "- Adding dates can improve the model, as transactions at the beginning and end of the month may have an impact on housing prices\n"
   ]
  },
  {
   "cell_type": "code",
   "execution_count": 663,
   "metadata": {},
   "outputs": [
    {
     "name": "stdout",
     "output_type": "stream",
     "text": [
      "number of features incl dummies:  64\n"
     ]
    }
   ],
   "source": [
    "df_feature_selection = df.copy()\n",
    "df_feature_selection['Date'] = df_feature_selection['Date of Sale (dd/mm/yyyy)'].dt.day\n",
    "df_feature_selection = df_feature_selection.drop(['Address', 'Date of Sale (dd/mm/yyyy)'],1)\n",
    "df_feature_selection = pd.get_dummies(df_feature_selection, drop_first=True)\n",
    "y = df_feature_selection[\"Price (€)\"]\n",
    "X = df_feature_selection.drop(['Price (€)'],1)\n",
    "print(\"number of features incl dummies: \", len(X.columns))"
   ]
  },
  {
   "cell_type": "code",
   "execution_count": 664,
   "metadata": {},
   "outputs": [
    {
     "data": {
      "text/html": [
       "<div>\n",
       "<style scoped>\n",
       "    .dataframe tbody tr th:only-of-type {\n",
       "        vertical-align: middle;\n",
       "    }\n",
       "\n",
       "    .dataframe tbody tr th {\n",
       "        vertical-align: top;\n",
       "    }\n",
       "\n",
       "    .dataframe thead th {\n",
       "        text-align: right;\n",
       "    }\n",
       "</style>\n",
       "<table border=\"1\" class=\"dataframe\">\n",
       "  <thead>\n",
       "    <tr style=\"text-align: right;\">\n",
       "      <th></th>\n",
       "      <th>Linear_Regression Average</th>\n",
       "      <th>Decision Tree Average</th>\n",
       "      <th>Random Forest Average</th>\n",
       "    </tr>\n",
       "  </thead>\n",
       "  <tbody>\n",
       "    <tr>\n",
       "      <th>R_squared</th>\n",
       "      <td>3.761031e-01</td>\n",
       "      <td>2.680493e-01</td>\n",
       "      <td>3.454615e-01</td>\n",
       "    </tr>\n",
       "    <tr>\n",
       "      <th>MAR</th>\n",
       "      <td>1.122032e+05</td>\n",
       "      <td>8.075633e+04</td>\n",
       "      <td>7.753180e+04</td>\n",
       "    </tr>\n",
       "    <tr>\n",
       "      <th>MSE</th>\n",
       "      <td>2.006998e+10</td>\n",
       "      <td>1.121067e+10</td>\n",
       "      <td>1.010835e+10</td>\n",
       "    </tr>\n",
       "    <tr>\n",
       "      <th>RMSE</th>\n",
       "      <td>1.410083e+05</td>\n",
       "      <td>1.058720e+05</td>\n",
       "      <td>1.005396e+05</td>\n",
       "    </tr>\n",
       "  </tbody>\n",
       "</table>\n",
       "</div>"
      ],
      "text/plain": [
       "           Linear_Regression Average  Decision Tree Average  \\\n",
       "R_squared               3.761031e-01           2.680493e-01   \n",
       "MAR                     1.122032e+05           8.075633e+04   \n",
       "MSE                     2.006998e+10           1.121067e+10   \n",
       "RMSE                    1.410083e+05           1.058720e+05   \n",
       "\n",
       "           Random Forest Average  \n",
       "R_squared           3.454615e-01  \n",
       "MAR                 7.753180e+04  \n",
       "MSE                 1.010835e+10  \n",
       "RMSE                1.005396e+05  "
      ]
     },
     "execution_count": 664,
     "metadata": {},
     "output_type": "execute_result"
    }
   ],
   "source": [
    "# calculate Linear regression, logistic regression, random forest results again using all features\n",
    "linRegDF = cross_val_LinReg_DF(X,y)\n",
    "DecsionTreeDF = cross_val_DecsionTree_DF(X,y)\n",
    "RandomForestDF = cross_val_RandomForest_DF(X,y)\n",
    "# merge all 3 models into dataframe\n",
    "ResultsDF_allFeatures = pd.concat([linRegDF, DecsionTreeDF, RandomForestDF], axis=1)\n",
    "ResultsDF_allFeatures"
   ]
  },
  {
   "cell_type": "code",
   "execution_count": 665,
   "metadata": {},
   "outputs": [
    {
     "name": "stdout",
     "output_type": "stream",
     "text": [
      "\n",
      "Scores using all features:\n",
      "===================================================================\n",
      "           Linear_Regression Average  Decision Tree Average  \\\n",
      "R_squared               3.761031e-01           2.680493e-01   \n",
      "MAR                     1.122032e+05           8.075633e+04   \n",
      "MSE                     2.006998e+10           1.121067e+10   \n",
      "RMSE                    1.410083e+05           1.058720e+05   \n",
      "\n",
      "           Random Forest Average  \n",
      "R_squared           3.454615e-01  \n",
      "MAR                 7.753180e+04  \n",
      "MSE                 1.010835e+10  \n",
      "RMSE                1.005396e+05  \n",
      "\n",
      "Scores using subset of features:\n",
      "===================================================================\n",
      "           Linear_Regression Average  Decision Tree Average  \\\n",
      "R_squared               3.610616e-01           2.575253e-01   \n",
      "MAR                     1.122032e+05           8.125636e+04   \n",
      "MSE                     2.006998e+10           1.137348e+10   \n",
      "RMSE                    1.410083e+05           1.066267e+05   \n",
      "\n",
      "           Random Forest Average  Simple Average  \n",
      "R_squared           3.320192e-01    6.157376e-02  \n",
      "MAR                 7.811813e+04    9.609153e+04  \n",
      "MSE                 1.031595e+10    1.449257e+10  \n",
      "RMSE                1.015671e+05    1.203851e+05  \n"
     ]
    }
   ],
   "source": [
    "print(\"\\nScores using all features:\")\n",
    "print(\"===================================================================\")\n",
    "print(ResultsDF_allFeatures)\n",
    "print(\"\\nScores using subset of features:\")\n",
    "print(\"===================================================================\")\n",
    "print(ResultsDF)"
   ]
  },
  {
   "cell_type": "markdown",
   "metadata": {},
   "source": [
    "We can see that append *date* improves the scores, R_squared has increased, and MAR, MSE, RMSE has decreased."
   ]
  },
  {
   "cell_type": "markdown",
   "metadata": {},
   "source": [
    "#### 5.2.2 Optimise Number of features\n",
    "- First calculate feature order of importance using all features"
   ]
  },
  {
   "cell_type": "code",
   "execution_count": 666,
   "metadata": {},
   "outputs": [
    {
     "data": {
      "text/html": [
       "<div>\n",
       "<style scoped>\n",
       "    .dataframe tbody tr th:only-of-type {\n",
       "        vertical-align: middle;\n",
       "    }\n",
       "\n",
       "    .dataframe tbody tr th {\n",
       "        vertical-align: top;\n",
       "    }\n",
       "\n",
       "    .dataframe thead th {\n",
       "        text-align: right;\n",
       "    }\n",
       "</style>\n",
       "<table border=\"1\" class=\"dataframe\">\n",
       "  <thead>\n",
       "    <tr style=\"text-align: right;\">\n",
       "      <th></th>\n",
       "      <th>importance</th>\n",
       "    </tr>\n",
       "    <tr>\n",
       "      <th>feature</th>\n",
       "      <th></th>\n",
       "    </tr>\n",
       "  </thead>\n",
       "  <tbody>\n",
       "    <tr>\n",
       "      <th>Date</th>\n",
       "      <td>0.172070</td>\n",
       "    </tr>\n",
       "    <tr>\n",
       "      <th>Year</th>\n",
       "      <td>0.143725</td>\n",
       "    </tr>\n",
       "    <tr>\n",
       "      <th>County_Dublin</th>\n",
       "      <td>0.125325</td>\n",
       "    </tr>\n",
       "    <tr>\n",
       "      <th>Month</th>\n",
       "      <td>0.119085</td>\n",
       "    </tr>\n",
       "    <tr>\n",
       "      <th>In_Dublin</th>\n",
       "      <td>0.055738</td>\n",
       "    </tr>\n",
       "    <tr>\n",
       "      <th>...</th>\n",
       "      <td>...</td>\n",
       "    </tr>\n",
       "    <tr>\n",
       "      <th>Postal Code_Dublin 2</th>\n",
       "      <td>0.001600</td>\n",
       "    </tr>\n",
       "    <tr>\n",
       "      <th>County_Leitrim</th>\n",
       "      <td>0.001297</td>\n",
       "    </tr>\n",
       "    <tr>\n",
       "      <th>Postal Code_Dublin 10</th>\n",
       "      <td>0.000929</td>\n",
       "    </tr>\n",
       "    <tr>\n",
       "      <th>Postal Code_Dublin 17</th>\n",
       "      <td>0.000927</td>\n",
       "    </tr>\n",
       "    <tr>\n",
       "      <th>Postal Code_Dublin 20</th>\n",
       "      <td>0.000923</td>\n",
       "    </tr>\n",
       "  </tbody>\n",
       "</table>\n",
       "<p>64 rows × 1 columns</p>\n",
       "</div>"
      ],
      "text/plain": [
       "                       importance\n",
       "feature                          \n",
       "Date                     0.172070\n",
       "Year                     0.143725\n",
       "County_Dublin            0.125325\n",
       "Month                    0.119085\n",
       "In_Dublin                0.055738\n",
       "...                           ...\n",
       "Postal Code_Dublin 2     0.001600\n",
       "County_Leitrim           0.001297\n",
       "Postal Code_Dublin 10    0.000929\n",
       "Postal Code_Dublin 17    0.000927\n",
       "Postal Code_Dublin 20    0.000923\n",
       "\n",
       "[64 rows x 1 columns]"
      ]
     },
     "execution_count": 666,
     "metadata": {},
     "output_type": "execute_result"
    }
   ],
   "source": [
    "# setup dataframe\n",
    "y = df_feature_selection[\"Price (€)\"]\n",
    "X = df_feature_selection.drop(['Price (€)'],1)\n",
    "X_train, X_test, y_train, y_test = train_test_split(X, y, random_state=1 , test_size=0.3)\n",
    "# Train RF with 100 trees\n",
    "rfc = RandomForestRegressor(n_estimators=10, random_state=1, max_features='auto',oob_score=True)\n",
    "rfc.fit(X_train, y_train)\n",
    "importance = pd.DataFrame({'feature': X_train.columns, 'importance':rfc.feature_importances_})\n",
    "importance.sort_values('importance', ascending=False, inplace=True)\n",
    "importance.set_index('feature',1, inplace=True)\n",
    "importance"
   ]
  },
  {
   "cell_type": "markdown",
   "metadata": {},
   "source": [
    "- Next calculate the optimum number of features\n",
    "- There are 64 features in total (more due to dummy features)\n",
    "- We will only calculate the top 20 features to keep the execution time down\n",
    "- After the top 20 features we can see from the importance list that any additional features add little to no value\n",
    "- We can see worst preforming features are the categorical which was not expected\n",
    "\n",
    "**Note: This calculation may take some time**"
   ]
  },
  {
   "cell_type": "code",
   "execution_count": 667,
   "metadata": {},
   "outputs": [
    {
     "name": "stderr",
     "output_type": "stream",
     "text": [
      "10it [00:23,  2.31s/it]\n"
     ]
    },
    {
     "data": {
      "text/html": [
       "<div>\n",
       "<style scoped>\n",
       "    .dataframe tbody tr th:only-of-type {\n",
       "        vertical-align: middle;\n",
       "    }\n",
       "\n",
       "    .dataframe tbody tr th {\n",
       "        vertical-align: top;\n",
       "    }\n",
       "\n",
       "    .dataframe thead th {\n",
       "        text-align: right;\n",
       "    }\n",
       "</style>\n",
       "<table border=\"1\" class=\"dataframe\">\n",
       "  <thead>\n",
       "    <tr style=\"text-align: right;\">\n",
       "      <th></th>\n",
       "      <th>features=1</th>\n",
       "      <th>features=2</th>\n",
       "      <th>features=3</th>\n",
       "      <th>features=4</th>\n",
       "      <th>features=5</th>\n",
       "      <th>features=6</th>\n",
       "      <th>features=7</th>\n",
       "      <th>features=8</th>\n",
       "      <th>features=9</th>\n",
       "      <th>features=10</th>\n",
       "    </tr>\n",
       "  </thead>\n",
       "  <tbody>\n",
       "    <tr>\n",
       "      <th>R_squared</th>\n",
       "      <td>-4.022940e-03</td>\n",
       "      <td>3.068288e-02</td>\n",
       "      <td>2.145185e-01</td>\n",
       "      <td>1.969340e-01</td>\n",
       "      <td>1.969891e-01</td>\n",
       "      <td>2.378472e-01</td>\n",
       "      <td>2.559709e-01</td>\n",
       "      <td>2.650844e-01</td>\n",
       "      <td>2.655579e-01</td>\n",
       "      <td>2.669268e-01</td>\n",
       "    </tr>\n",
       "    <tr>\n",
       "      <th>MAR</th>\n",
       "      <td>1.005474e+05</td>\n",
       "      <td>9.735070e+04</td>\n",
       "      <td>8.666848e+04</td>\n",
       "      <td>8.756491e+04</td>\n",
       "      <td>8.754489e+04</td>\n",
       "      <td>8.537328e+04</td>\n",
       "      <td>8.373871e+04</td>\n",
       "      <td>8.284167e+04</td>\n",
       "      <td>8.285754e+04</td>\n",
       "      <td>8.277372e+04</td>\n",
       "    </tr>\n",
       "    <tr>\n",
       "      <th>MSE</th>\n",
       "      <td>1.550561e+10</td>\n",
       "      <td>1.496963e+10</td>\n",
       "      <td>1.213057e+10</td>\n",
       "      <td>1.240213e+10</td>\n",
       "      <td>1.240128e+10</td>\n",
       "      <td>1.177029e+10</td>\n",
       "      <td>1.149040e+10</td>\n",
       "      <td>1.134965e+10</td>\n",
       "      <td>1.134234e+10</td>\n",
       "      <td>1.132120e+10</td>\n",
       "    </tr>\n",
       "    <tr>\n",
       "      <th>RMSE</th>\n",
       "      <td>1.245215e+05</td>\n",
       "      <td>1.223503e+05</td>\n",
       "      <td>1.101385e+05</td>\n",
       "      <td>1.113642e+05</td>\n",
       "      <td>1.113604e+05</td>\n",
       "      <td>1.084907e+05</td>\n",
       "      <td>1.071930e+05</td>\n",
       "      <td>1.065344e+05</td>\n",
       "      <td>1.065000e+05</td>\n",
       "      <td>1.064009e+05</td>\n",
       "    </tr>\n",
       "  </tbody>\n",
       "</table>\n",
       "</div>"
      ],
      "text/plain": [
       "             features=1    features=2    features=3    features=4  \\\n",
       "R_squared -4.022940e-03  3.068288e-02  2.145185e-01  1.969340e-01   \n",
       "MAR        1.005474e+05  9.735070e+04  8.666848e+04  8.756491e+04   \n",
       "MSE        1.550561e+10  1.496963e+10  1.213057e+10  1.240213e+10   \n",
       "RMSE       1.245215e+05  1.223503e+05  1.101385e+05  1.113642e+05   \n",
       "\n",
       "             features=5    features=6    features=7    features=8  \\\n",
       "R_squared  1.969891e-01  2.378472e-01  2.559709e-01  2.650844e-01   \n",
       "MAR        8.754489e+04  8.537328e+04  8.373871e+04  8.284167e+04   \n",
       "MSE        1.240128e+10  1.177029e+10  1.149040e+10  1.134965e+10   \n",
       "RMSE       1.113604e+05  1.084907e+05  1.071930e+05  1.065344e+05   \n",
       "\n",
       "             features=9   features=10  \n",
       "R_squared  2.655579e-01  2.669268e-01  \n",
       "MAR        8.285754e+04  8.277372e+04  \n",
       "MSE        1.134234e+10  1.132120e+10  \n",
       "RMSE       1.065000e+05  1.064009e+05  "
      ]
     },
     "execution_count": 667,
     "metadata": {},
     "output_type": "execute_result"
    }
   ],
   "source": [
    "# set up empty list to store features\n",
    "list_features = []\n",
    "\n",
    "# set up empty dataframe to store results\n",
    "RandomForest_Features = pd.DataFrame()\n",
    "count=0\n",
    "for index, row in tqdm(importance.iterrows()):\n",
    "    # only calculate the top 22 features to keep runtime down\n",
    "    if count < 10:\n",
    "        list_features.append(index)\n",
    "        X = df_feature_selection[list_features]\n",
    "        df1 = cross_val_RandomForest_DF(X,y)\n",
    "        df1.rename(columns={'Random Forest Average':f'features={len(list_features)}'}, inplace=True)\n",
    "        RandomForest_Features = pd.concat([RandomForest_Features, df1], axis=1)\n",
    "        count+=1\n",
    "    else:\n",
    "        break\n",
    "\n",
    "# to display all columns    \n",
    "RandomForest_Features  "
   ]
  },
  {
   "cell_type": "markdown",
   "metadata": {},
   "source": [
    "Here we see that after the top 30 features the R_squared of the model does not stabilise. Therefore was can not trim the model to the optimum number of features, we need to use all features \n",
    "- The top three feature from the random forest importance list are not  the top 3 correlated features from part 1 because we append *Date*, and its importance is top 1\n",
    "- It is interesting to note that we achieve reasonable R_squared using top 3 features only. This had the highest correlation with the target and also the highest importance in the random forest model.\n",
    "\n",
    "We can now define our list of optimum features is all features."
   ]
  },
  {
   "cell_type": "markdown",
   "metadata": {},
   "source": [
    "### 5.2.3 Optomise random forest\n",
    "#### 5.2.3.1 Optomise max_depth\n",
    "- Find the best performing max_depth of the decision tree while keeping the accuracy as high as possible. \n",
    "- In part 4, we trained a random forest with the Scikit-Learn default max_depth=10\n",
    "- This means that the nodes will keep splitting until all nodes are pure (all data in the node comes from the same class)\n",
    "- Generally, the deeper a tree goes, the more complex the model becomes. This can lead to overfitting because the model learns the training data very well and finds it difficult to generalise to new data. \n",
    "- We saw in section 4.6 that there was a significant decrease in scores between the training and test data. As a result, we will now explore the max_depth parameter in order to try and reduce overfitting. \n",
    "\n",
    "**NOTE: This execution may take a few minutes.**"
   ]
  },
  {
   "cell_type": "code",
   "execution_count": 668,
   "metadata": {},
   "outputs": [
    {
     "name": "stderr",
     "output_type": "stream",
     "text": [
      "100%|██████████| 19/19 [01:35<00:00,  5.03s/it]\n"
     ]
    },
    {
     "data": {
      "text/html": [
       "<div>\n",
       "<style scoped>\n",
       "    .dataframe tbody tr th:only-of-type {\n",
       "        vertical-align: middle;\n",
       "    }\n",
       "\n",
       "    .dataframe tbody tr th {\n",
       "        vertical-align: top;\n",
       "    }\n",
       "\n",
       "    .dataframe thead th {\n",
       "        text-align: right;\n",
       "    }\n",
       "</style>\n",
       "<table border=\"1\" class=\"dataframe\">\n",
       "  <thead>\n",
       "    <tr style=\"text-align: right;\">\n",
       "      <th></th>\n",
       "      <th>depth=1</th>\n",
       "      <th>depth=2</th>\n",
       "      <th>depth=3</th>\n",
       "      <th>depth=4</th>\n",
       "      <th>depth=5</th>\n",
       "      <th>depth=6</th>\n",
       "      <th>depth=7</th>\n",
       "      <th>depth=8</th>\n",
       "      <th>depth=9</th>\n",
       "      <th>depth=10</th>\n",
       "      <th>depth=11</th>\n",
       "      <th>depth=12</th>\n",
       "      <th>depth=13</th>\n",
       "      <th>depth=14</th>\n",
       "      <th>depth=15</th>\n",
       "      <th>depth=16</th>\n",
       "      <th>depth=17</th>\n",
       "      <th>depth=18</th>\n",
       "      <th>depth=19</th>\n",
       "    </tr>\n",
       "  </thead>\n",
       "  <tbody>\n",
       "    <tr>\n",
       "      <th>R_squared</th>\n",
       "      <td>1.864496e-01</td>\n",
       "      <td>2.472281e-01</td>\n",
       "      <td>2.776139e-01</td>\n",
       "      <td>3.005921e-01</td>\n",
       "      <td>3.176358e-01</td>\n",
       "      <td>3.330370e-01</td>\n",
       "      <td>3.416867e-01</td>\n",
       "      <td>3.467391e-01</td>\n",
       "      <td>3.484603e-01</td>\n",
       "      <td>3.454615e-01</td>\n",
       "      <td>3.429643e-01</td>\n",
       "      <td>3.363807e-01</td>\n",
       "      <td>3.268677e-01</td>\n",
       "      <td>3.204227e-01</td>\n",
       "      <td>3.119207e-01</td>\n",
       "      <td>3.053145e-01</td>\n",
       "      <td>2.985359e-01</td>\n",
       "      <td>2.940968e-01</td>\n",
       "      <td>2.866979e-01</td>\n",
       "    </tr>\n",
       "    <tr>\n",
       "      <th>MAR</th>\n",
       "      <td>8.992899e+04</td>\n",
       "      <td>8.540768e+04</td>\n",
       "      <td>8.304267e+04</td>\n",
       "      <td>8.147965e+04</td>\n",
       "      <td>8.027771e+04</td>\n",
       "      <td>7.904170e+04</td>\n",
       "      <td>7.824871e+04</td>\n",
       "      <td>7.773291e+04</td>\n",
       "      <td>7.746189e+04</td>\n",
       "      <td>7.753180e+04</td>\n",
       "      <td>7.763224e+04</td>\n",
       "      <td>7.792949e+04</td>\n",
       "      <td>7.843637e+04</td>\n",
       "      <td>7.866004e+04</td>\n",
       "      <td>7.906373e+04</td>\n",
       "      <td>7.937055e+04</td>\n",
       "      <td>7.958801e+04</td>\n",
       "      <td>7.982810e+04</td>\n",
       "      <td>8.026676e+04</td>\n",
       "    </tr>\n",
       "    <tr>\n",
       "      <th>MSE</th>\n",
       "      <td>1.256405e+10</td>\n",
       "      <td>1.162542e+10</td>\n",
       "      <td>1.115615e+10</td>\n",
       "      <td>1.080129e+10</td>\n",
       "      <td>1.053808e+10</td>\n",
       "      <td>1.030023e+10</td>\n",
       "      <td>1.016665e+10</td>\n",
       "      <td>1.008862e+10</td>\n",
       "      <td>1.006204e+10</td>\n",
       "      <td>1.010835e+10</td>\n",
       "      <td>1.014692e+10</td>\n",
       "      <td>1.024859e+10</td>\n",
       "      <td>1.039550e+10</td>\n",
       "      <td>1.049504e+10</td>\n",
       "      <td>1.062634e+10</td>\n",
       "      <td>1.072836e+10</td>\n",
       "      <td>1.083305e+10</td>\n",
       "      <td>1.090160e+10</td>\n",
       "      <td>1.101587e+10</td>\n",
       "    </tr>\n",
       "    <tr>\n",
       "      <th>RMSE</th>\n",
       "      <td>1.120895e+05</td>\n",
       "      <td>1.078211e+05</td>\n",
       "      <td>1.056226e+05</td>\n",
       "      <td>1.039291e+05</td>\n",
       "      <td>1.026549e+05</td>\n",
       "      <td>1.014897e+05</td>\n",
       "      <td>1.008296e+05</td>\n",
       "      <td>1.004418e+05</td>\n",
       "      <td>1.003092e+05</td>\n",
       "      <td>1.005396e+05</td>\n",
       "      <td>1.007315e+05</td>\n",
       "      <td>1.012347e+05</td>\n",
       "      <td>1.019578e+05</td>\n",
       "      <td>1.024448e+05</td>\n",
       "      <td>1.030833e+05</td>\n",
       "      <td>1.035768e+05</td>\n",
       "      <td>1.040809e+05</td>\n",
       "      <td>1.044096e+05</td>\n",
       "      <td>1.049555e+05</td>\n",
       "    </tr>\n",
       "  </tbody>\n",
       "</table>\n",
       "</div>"
      ],
      "text/plain": [
       "                depth=1       depth=2       depth=3       depth=4  \\\n",
       "R_squared  1.864496e-01  2.472281e-01  2.776139e-01  3.005921e-01   \n",
       "MAR        8.992899e+04  8.540768e+04  8.304267e+04  8.147965e+04   \n",
       "MSE        1.256405e+10  1.162542e+10  1.115615e+10  1.080129e+10   \n",
       "RMSE       1.120895e+05  1.078211e+05  1.056226e+05  1.039291e+05   \n",
       "\n",
       "                depth=5       depth=6       depth=7       depth=8  \\\n",
       "R_squared  3.176358e-01  3.330370e-01  3.416867e-01  3.467391e-01   \n",
       "MAR        8.027771e+04  7.904170e+04  7.824871e+04  7.773291e+04   \n",
       "MSE        1.053808e+10  1.030023e+10  1.016665e+10  1.008862e+10   \n",
       "RMSE       1.026549e+05  1.014897e+05  1.008296e+05  1.004418e+05   \n",
       "\n",
       "                depth=9      depth=10      depth=11      depth=12  \\\n",
       "R_squared  3.484603e-01  3.454615e-01  3.429643e-01  3.363807e-01   \n",
       "MAR        7.746189e+04  7.753180e+04  7.763224e+04  7.792949e+04   \n",
       "MSE        1.006204e+10  1.010835e+10  1.014692e+10  1.024859e+10   \n",
       "RMSE       1.003092e+05  1.005396e+05  1.007315e+05  1.012347e+05   \n",
       "\n",
       "               depth=13      depth=14      depth=15      depth=16  \\\n",
       "R_squared  3.268677e-01  3.204227e-01  3.119207e-01  3.053145e-01   \n",
       "MAR        7.843637e+04  7.866004e+04  7.906373e+04  7.937055e+04   \n",
       "MSE        1.039550e+10  1.049504e+10  1.062634e+10  1.072836e+10   \n",
       "RMSE       1.019578e+05  1.024448e+05  1.030833e+05  1.035768e+05   \n",
       "\n",
       "               depth=17      depth=18      depth=19  \n",
       "R_squared  2.985359e-01  2.940968e-01  2.866979e-01  \n",
       "MAR        7.958801e+04  7.982810e+04  8.026676e+04  \n",
       "MSE        1.083305e+10  1.090160e+10  1.101587e+10  \n",
       "RMSE       1.040809e+05  1.044096e+05  1.049555e+05  "
      ]
     },
     "execution_count": 668,
     "metadata": {},
     "output_type": "execute_result"
    }
   ],
   "source": [
    "y = df_feature_selection[\"Price (€)\"]\n",
    "X = df_feature_selection.drop(['Price (€)'],1)\n",
    "# initialised empty daraframe\n",
    "RandomForest_Depth = pd.DataFrame()\n",
    "\n",
    "# calculate cross val score incrementing max depth by 1 each iteration\n",
    "# append results to dataframe\n",
    "for i in tqdm(range(1,20)):\n",
    "    df1 = cross_val_RandomForest_DF(X,y,depth=i)\n",
    "    df1.rename(columns={'Random Forest Average':f'depth={i}'}, inplace=True)\n",
    "    RandomForest_Depth = pd.concat([RandomForest_Depth, df1], axis=1)\n",
    "\n",
    "RandomForest_Depth"
   ]
  },
  {
   "cell_type": "markdown",
   "metadata": {},
   "source": [
    "- We can see here that at a *max_depth* of 9, we get a R_squared score of 34.8%, RMSE 100441.\n",
    "- At depths greater than 8 these scores decrease. Although these values will change slightly with different datasets, greater depths involves more computation. "
   ]
  },
  {
   "cell_type": "markdown",
   "metadata": {},
   "source": [
    "#### 5.2.3.1 Optomise the number of estimators\n",
    "\n",
    "This parameter refers to the number of decision trees in the random forest. We will now try to find the optimum number. \n",
    "\n",
    "**NOTE: This execution may take a few minutes.**"
   ]
  },
  {
   "cell_type": "code",
   "execution_count": 669,
   "metadata": {},
   "outputs": [
    {
     "name": "stderr",
     "output_type": "stream",
     "text": [
      "100%|██████████| 10/10 [02:55<00:00, 17.50s/it]\n"
     ]
    },
    {
     "data": {
      "text/html": [
       "<div>\n",
       "<style scoped>\n",
       "    .dataframe tbody tr th:only-of-type {\n",
       "        vertical-align: middle;\n",
       "    }\n",
       "\n",
       "    .dataframe tbody tr th {\n",
       "        vertical-align: top;\n",
       "    }\n",
       "\n",
       "    .dataframe thead th {\n",
       "        text-align: right;\n",
       "    }\n",
       "</style>\n",
       "<table border=\"1\" class=\"dataframe\">\n",
       "  <thead>\n",
       "    <tr style=\"text-align: right;\">\n",
       "      <th></th>\n",
       "      <th>estimators=1</th>\n",
       "      <th>estimators=2</th>\n",
       "      <th>estimators=4</th>\n",
       "      <th>estimators=8</th>\n",
       "      <th>estimators=16</th>\n",
       "      <th>estimators=32</th>\n",
       "      <th>estimators=64</th>\n",
       "      <th>estimators=70</th>\n",
       "      <th>estimators=80</th>\n",
       "      <th>estimators=100</th>\n",
       "    </tr>\n",
       "  </thead>\n",
       "  <tbody>\n",
       "    <tr>\n",
       "      <th>R_squared</th>\n",
       "      <td>2.168175e-01</td>\n",
       "      <td>2.874341e-01</td>\n",
       "      <td>3.246589e-01</td>\n",
       "      <td>3.419187e-01</td>\n",
       "      <td>3.507130e-01</td>\n",
       "      <td>3.548819e-01</td>\n",
       "      <td>3.567374e-01</td>\n",
       "      <td>3.572159e-01</td>\n",
       "      <td>3.577300e-01</td>\n",
       "      <td>3.581474e-01</td>\n",
       "    </tr>\n",
       "    <tr>\n",
       "      <th>MAR</th>\n",
       "      <td>8.380588e+04</td>\n",
       "      <td>8.052178e+04</td>\n",
       "      <td>7.860589e+04</td>\n",
       "      <td>7.776826e+04</td>\n",
       "      <td>7.720957e+04</td>\n",
       "      <td>7.695902e+04</td>\n",
       "      <td>7.682974e+04</td>\n",
       "      <td>7.680460e+04</td>\n",
       "      <td>7.676693e+04</td>\n",
       "      <td>7.673260e+04</td>\n",
       "    </tr>\n",
       "    <tr>\n",
       "      <th>MSE</th>\n",
       "      <td>1.209506e+10</td>\n",
       "      <td>1.100450e+10</td>\n",
       "      <td>1.042962e+10</td>\n",
       "      <td>1.016306e+10</td>\n",
       "      <td>1.002725e+10</td>\n",
       "      <td>9.962867e+09</td>\n",
       "      <td>9.934212e+09</td>\n",
       "      <td>9.926823e+09</td>\n",
       "      <td>9.918883e+09</td>\n",
       "      <td>9.912437e+09</td>\n",
       "    </tr>\n",
       "    <tr>\n",
       "      <th>RMSE</th>\n",
       "      <td>1.099660e+05</td>\n",
       "      <td>1.048992e+05</td>\n",
       "      <td>1.021232e+05</td>\n",
       "      <td>1.008112e+05</td>\n",
       "      <td>1.001356e+05</td>\n",
       "      <td>9.981391e+04</td>\n",
       "      <td>9.967046e+04</td>\n",
       "      <td>9.963339e+04</td>\n",
       "      <td>9.959355e+04</td>\n",
       "      <td>9.956119e+04</td>\n",
       "    </tr>\n",
       "  </tbody>\n",
       "</table>\n",
       "</div>"
      ],
      "text/plain": [
       "           estimators=1  estimators=2  estimators=4  estimators=8  \\\n",
       "R_squared  2.168175e-01  2.874341e-01  3.246589e-01  3.419187e-01   \n",
       "MAR        8.380588e+04  8.052178e+04  7.860589e+04  7.776826e+04   \n",
       "MSE        1.209506e+10  1.100450e+10  1.042962e+10  1.016306e+10   \n",
       "RMSE       1.099660e+05  1.048992e+05  1.021232e+05  1.008112e+05   \n",
       "\n",
       "           estimators=16  estimators=32  estimators=64  estimators=70  \\\n",
       "R_squared   3.507130e-01   3.548819e-01   3.567374e-01   3.572159e-01   \n",
       "MAR         7.720957e+04   7.695902e+04   7.682974e+04   7.680460e+04   \n",
       "MSE         1.002725e+10   9.962867e+09   9.934212e+09   9.926823e+09   \n",
       "RMSE        1.001356e+05   9.981391e+04   9.967046e+04   9.963339e+04   \n",
       "\n",
       "           estimators=80  estimators=100  \n",
       "R_squared   3.577300e-01    3.581474e-01  \n",
       "MAR         7.676693e+04    7.673260e+04  \n",
       "MSE         9.918883e+09    9.912437e+09  \n",
       "RMSE        9.959355e+04    9.956119e+04  "
      ]
     },
     "execution_count": 669,
     "metadata": {},
     "output_type": "execute_result"
    }
   ],
   "source": [
    "#set up x and y \n",
    "y = df_feature_selection[\"Price (€)\"]\n",
    "X = df_feature_selection.drop(['Price (€)'],1)\n",
    "\n",
    "# initialised empty daraframe\n",
    "RandomForest_Estimators = pd.DataFrame()\n",
    "\n",
    "n_estimators = [1, 2, 4, 8, 16, 32, 64, 70, 80, 100]\n",
    "\n",
    "for item in tqdm(n_estimators):\n",
    "    df1 = cross_val_RandomForest_DF(X,y,estimators=item)\n",
    "    df1.rename(columns={'Random Forest Average':f'estimators={item}'}, inplace=True)\n",
    "    RandomForest_Estimators = pd.concat([RandomForest_Estimators, df1], axis=1)\n",
    "\n",
    "RandomForest_Estimators"
   ]
  },
  {
   "cell_type": "markdown",
   "metadata": {},
   "source": [
    "We are happy with the scores obtained using the value of 20 estimators, although greater estimators can improve the score,they involves more computation. In the cell below we will print the scores, combining the optomisation steps completed above. "
   ]
  },
  {
   "cell_type": "code",
   "execution_count": 670,
   "metadata": {},
   "outputs": [
    {
     "name": "stdout",
     "output_type": "stream",
     "text": [
      "Number of features:  64\n"
     ]
    },
    {
     "data": {
      "text/html": [
       "<div>\n",
       "<style scoped>\n",
       "    .dataframe tbody tr th:only-of-type {\n",
       "        vertical-align: middle;\n",
       "    }\n",
       "\n",
       "    .dataframe tbody tr th {\n",
       "        vertical-align: top;\n",
       "    }\n",
       "\n",
       "    .dataframe thead th {\n",
       "        text-align: right;\n",
       "    }\n",
       "</style>\n",
       "<table border=\"1\" class=\"dataframe\">\n",
       "  <thead>\n",
       "    <tr style=\"text-align: right;\">\n",
       "      <th></th>\n",
       "      <th>Linear_Regression Average</th>\n",
       "      <th>Decision Tree Average</th>\n",
       "      <th>Random Forest Average</th>\n",
       "    </tr>\n",
       "  </thead>\n",
       "  <tbody>\n",
       "    <tr>\n",
       "      <th>R_squared</th>\n",
       "      <td>3.761031e-01</td>\n",
       "      <td>2.680493e-01</td>\n",
       "      <td>3.536752e-01</td>\n",
       "    </tr>\n",
       "    <tr>\n",
       "      <th>MAR</th>\n",
       "      <td>1.122032e+05</td>\n",
       "      <td>8.075633e+04</td>\n",
       "      <td>7.713994e+04</td>\n",
       "    </tr>\n",
       "    <tr>\n",
       "      <th>MSE</th>\n",
       "      <td>2.006998e+10</td>\n",
       "      <td>1.121067e+10</td>\n",
       "      <td>9.981503e+09</td>\n",
       "    </tr>\n",
       "    <tr>\n",
       "      <th>RMSE</th>\n",
       "      <td>1.410083e+05</td>\n",
       "      <td>1.058720e+05</td>\n",
       "      <td>9.990721e+04</td>\n",
       "    </tr>\n",
       "  </tbody>\n",
       "</table>\n",
       "</div>"
      ],
      "text/plain": [
       "           Linear_Regression Average  Decision Tree Average  \\\n",
       "R_squared               3.761031e-01           2.680493e-01   \n",
       "MAR                     1.122032e+05           8.075633e+04   \n",
       "MSE                     2.006998e+10           1.121067e+10   \n",
       "RMSE                    1.410083e+05           1.058720e+05   \n",
       "\n",
       "           Random Forest Average  \n",
       "R_squared           3.536752e-01  \n",
       "MAR                 7.713994e+04  \n",
       "MSE                 9.981503e+09  \n",
       "RMSE                9.990721e+04  "
      ]
     },
     "execution_count": 670,
     "metadata": {},
     "output_type": "execute_result"
    }
   ],
   "source": [
    "#set up x and y \n",
    "y = df_feature_selection[\"Price (€)\"]\n",
    "X = df_feature_selection.drop(['Price (€)'],1)\n",
    "print(\"Number of features: \", len(X.columns))\n",
    "\n",
    "# calculate Linear regression, logistic regression, random forest results again\n",
    "linRegDF = cross_val_LinReg_DF(X,y)\n",
    "logRegDF = cross_val_DecsionTree_DF(X,y)\n",
    "RandomForestDF = cross_val_RandomForest_DF(X,y, depth=9, estimators=20)\n",
    "# merge all 3 models into dataframe\n",
    "ResultsDF_final = pd.concat([linRegDF, logRegDF, RandomForestDF], axis=1)\n",
    "ResultsDF_final"
   ]
  },
  {
   "cell_type": "markdown",
   "metadata": {},
   "source": [
    "### 5.2.4  Summary of all models\n",
    "\n",
    "We will now compare our final results to those obtained from all features and our original subset above. We will summarise our final models below. "
   ]
  },
  {
   "cell_type": "code",
   "execution_count": 671,
   "metadata": {},
   "outputs": [
    {
     "name": "stdout",
     "output_type": "stream",
     "text": [
      "\n",
      "Scores using Scores using subset of features:\n",
      "===================================================================\n",
      "           Linear_Regression Average  Decision Tree Average  \\\n",
      "R_squared               3.610616e-01           2.575253e-01   \n",
      "MAR                     1.122032e+05           8.125636e+04   \n",
      "MSE                     2.006998e+10           1.137348e+10   \n",
      "RMSE                    1.410083e+05           1.066267e+05   \n",
      "\n",
      "           Random Forest Average  Simple Average  \n",
      "R_squared           3.320192e-01    6.157376e-02  \n",
      "MAR                 7.811813e+04    9.609153e+04  \n",
      "MSE                 1.031595e+10    1.449257e+10  \n",
      "RMSE                1.015671e+05    1.203851e+05  \n",
      "\n",
      "Scores using optimum features:\n",
      "===================================================================\n",
      "           Linear_Regression Average  Decision Tree Average  \\\n",
      "R_squared               3.761031e-01           2.680493e-01   \n",
      "MAR                     1.122032e+05           8.075633e+04   \n",
      "MSE                     2.006998e+10           1.121067e+10   \n",
      "RMSE                    1.410083e+05           1.058720e+05   \n",
      "\n",
      "           Random Forest Average  \n",
      "R_squared           3.536752e-01  \n",
      "MAR                 7.713994e+04  \n",
      "MSE                 9.981503e+09  \n",
      "RMSE                9.990721e+04  \n",
      "\n",
      "Scores using all features:\n",
      "===================================================================\n",
      "           Linear_Regression Average  Decision Tree Average  \\\n",
      "R_squared               3.761031e-01           2.680493e-01   \n",
      "MAR                     1.122032e+05           8.075633e+04   \n",
      "MSE                     2.006998e+10           1.121067e+10   \n",
      "RMSE                    1.410083e+05           1.058720e+05   \n",
      "\n",
      "           Random Forest Average  \n",
      "R_squared           3.454615e-01  \n",
      "MAR                 7.753180e+04  \n",
      "MSE                 1.010835e+10  \n",
      "RMSE                1.005396e+05  \n"
     ]
    }
   ],
   "source": [
    "print(\"\\nScores using Scores using subset of features:\")\n",
    "print(\"===================================================================\")\n",
    "print(ResultsDF)\n",
    "\n",
    "print(\"\\nScores using optimum features:\")\n",
    "print(\"===================================================================\")\n",
    "print(ResultsDF_final)\n",
    "print(\"\\nScores using all features:\")\n",
    "print(\"===================================================================\")\n",
    "print(ResultsDF_allFeatures)\n"
   ]
  },
  {
   "cell_type": "markdown",
   "metadata": {},
   "source": [
    "We can see that Random Forest is our best model. We have managed to increase the R_squared to 35.3% while keeping the RMSE at 100540. We are pleased with these results. Our aim was to improve a model so that it would be better at predicting the price of house. Based on our scores, we are confident that our model will help to achieve this. \n",
    "\n",
    "We have indeed managed to improve all scores in comparison to the dataset containing all features and to the feature set we were using in parts 2,3 and 4. More optomisation steps were involved in improving the random forest model than decision tree and so it is slightly more complex. \n",
    "\n",
    "We have managed to improve the recall of decision tree, however overall this model did not improve a lot. \n",
    "\n",
    "Considering the scores, we are happy to recommendRandom Forest as our best model and are confident that decision tree and Linear Regression would also perform well. "
   ]
  },
  {
   "cell_type": "markdown",
   "metadata": {},
   "source": [
    "## 5.3 Evaluate best model on new test set\n",
    "\n",
    "We will now test our Random Forest model on a new dataset. This dataset has been cleaned in the homework1 notebook prior to being read in below. We will first perform the additional cleaning from part 1 of this assignment. "
   ]
  },
  {
   "cell_type": "markdown",
   "metadata": {},
   "source": [
    "### 5.3.1 Additional cleaning performed in part 1 of homework 2. "
   ]
  },
  {
   "cell_type": "markdown",
   "metadata": {},
   "source": [
    "First, we will read in the csv and drop the feature *percent*."
   ]
  },
  {
   "cell_type": "code",
   "execution_count": 672,
   "metadata": {},
   "outputs": [
    {
     "data": {
      "text/plain": [
       "Index(['DateofSale(dd/mm/yyyy)', 'Address', 'PostalCode', 'County', 'Price(€)',\n",
       "       'NotFullMarketPrice', 'VATExclusive', 'DescriptionofProperty',\n",
       "       'PropertySizeDescription'],\n",
       "      dtype='object')"
      ]
     },
     "execution_count": 672,
     "metadata": {},
     "output_type": "execute_result"
    }
   ],
   "source": [
    "# read in the cleaned csv\n",
    "df_test = pd.read_csv(\"22032022-PPR-Price-recent.csv\", keep_default_na=True, delimiter=',', skipinitialspace=True)\n",
    "df_test.columns"
   ]
  },
  {
   "cell_type": "markdown",
   "metadata": {},
   "source": [
    "In the cells below we will perform further cleaning on Address and the datetime features. "
   ]
  },
  {
   "cell_type": "code",
   "execution_count": 673,
   "metadata": {},
   "outputs": [
    {
     "data": {
      "text/plain": [
       "Index(['PostalCode', 'County', 'Price(€)', 'NotFullMarketPrice',\n",
       "       'VATExclusive', 'DescriptionofProperty', 'PropertySizeDescription',\n",
       "       'Month', 'Day', 'Date'],\n",
       "      dtype='object')"
      ]
     },
     "execution_count": 673,
     "metadata": {},
     "output_type": "execute_result"
    }
   ],
   "source": [
    "df_test['Address'] = df_test['Address'].astype('category')\n",
    "df_test['Price(€)'] = df_test['Price(€)'].astype(float)\n",
    "df_test['PostalCode'] = df_test['PostalCode'].astype('category')\n",
    "df_test['County'] = df_test['County'].astype('category')\n",
    "df_test['DescriptionofProperty'] = df_test['DescriptionofProperty'].astype('category')\n",
    "df_test['PropertySizeDescription'] = df_test['PropertySizeDescription'].astype('category')\n",
    "# convert Not Full Market Price to 0,1\n",
    "df_test['NotFullMarketPrice'] = df_test['NotFullMarketPrice'].map({'Yes': 1, \"No\": 0})\n",
    "# convert VAT Exclusive to 0,1\n",
    "df_test['VATExclusive'] = df_test['VATExclusive'].map({'Yes': 1, \"No\": 0})\n",
    "# convert date features to datetime types\n",
    "df_test['DateofSale(dd/mm/yyyy)'] = df_test['DateofSale(dd/mm/yyyy)'].astype('datetime64')\n",
    "df_test['Month']=df_test['DateofSale(dd/mm/yyyy)'] .dt.month\n",
    "df_test['Day']=df_test['DateofSale(dd/mm/yyyy)'] .dt.day_name()\n",
    "df_test['Date'] = df_test['DateofSale(dd/mm/yyyy)'] .dt.day\n",
    "df_test = df_test.drop(['Address', 'DateofSale(dd/mm/yyyy)'],1)\n",
    "df_test.columns\n"
   ]
  },
  {
   "cell_type": "code",
   "execution_count": 674,
   "metadata": {},
   "outputs": [],
   "source": [
    "#replace missing values with 'No_value'\n",
    "df_test['PropertySizeDescription'] = df_test['PropertySizeDescription'].astype('string')\n",
    "df_test['PropertySizeDescription'] = df_test['PropertySizeDescription'].fillna(\"No_value\")\n",
    "df_test['PropertySizeDescription'] = df_test['PropertySizeDescription'].astype('category')"
   ]
  },
  {
   "cell_type": "code",
   "execution_count": 675,
   "metadata": {},
   "outputs": [],
   "source": [
    "#replace missing values with 'No_value'\n",
    "df_test['PostalCode'] = df_test['PostalCode'].astype('string')\n",
    "df_test['PostalCode'] = df_test['PostalCode'].fillna(\"No_value\")\n",
    "df_test['PostalCode'] = df_test['PostalCode'].astype('category')"
   ]
  },
  {
   "cell_type": "code",
   "execution_count": 676,
   "metadata": {},
   "outputs": [
    {
     "name": "stdout",
     "output_type": "stream",
     "text": [
      "Old Shape:  (7182, 10)\n",
      "New Shape:  (6748, 10)\n"
     ]
    }
   ],
   "source": [
    "''' Detection '''\n",
    "# IQR\n",
    "Q1=df_test['Price(€)'].quantile(0.25)\n",
    "Q3=df_test['Price(€)'].quantile(0.75)\n",
    "IQR=Q3-Q1\n",
    " \n",
    "print(\"Old Shape: \", df_test.shape)\n",
    " \n",
    "test_4 = df_test[((df_test['Price(€)'] < Q1-1.5*IQR) |(df_test['Price(€)'] > Q3+1.5*IQR))]\n",
    "# ''' Removing the Outliers '''\n",
    "df_test.drop(test_4.index, inplace = True)\n",
    "print(\"New Shape: \", df_test.shape)"
   ]
  },
  {
   "cell_type": "code",
   "execution_count": 677,
   "metadata": {},
   "outputs": [
    {
     "data": {
      "text/plain": [
       "PostalCode                 0\n",
       "County                     0\n",
       "Price(€)                   0\n",
       "NotFullMarketPrice         0\n",
       "VATExclusive               0\n",
       "DescriptionofProperty      0\n",
       "PropertySizeDescription    0\n",
       "Month                      0\n",
       "Day                        0\n",
       "Date                       0\n",
       "Postal_Code_Known          0\n",
       "In_Dublin                  0\n",
       "dtype: int64"
      ]
     },
     "execution_count": 677,
     "metadata": {},
     "output_type": "execute_result"
    }
   ],
   "source": [
    "#create new feature equal to *Property Size Description*\n",
    "df_test['Postal_Code_Known']=df_test['PostalCode']\n",
    "#replace the value unknown with 0\n",
    "df_test['Postal_Code_Known'] = df_test['Postal_Code_Known'].str.replace('No_value', 'No')\n",
    "# if the value is not 0 set it to 1\n",
    "df_test['Postal_Code_Known'][df_test['Postal_Code_Known'].str.contains('No')==0] = 'Yes'\n",
    "#convert the new feature to category type\n",
    "df_test['Postal_Code_Known'] = df_test['Postal_Code_Known'].astype('category')\n",
    "\n",
    "#create new feature equal to *Property Size Description*\n",
    "df_test['In_Dublin']=df_test['County']\n",
    "# replace the value 'Dublin' with '1'\n",
    "df_test['In_Dublin'] = df_test['In_Dublin'].str.replace('Dublin', '1')\n",
    "# if the value is not 0 set it to 1\n",
    "df_test['In_Dublin'][df_test['In_Dublin'].str.contains('1')==0] = '0'\n",
    "#convert the new feature to category type\n",
    "df_test['In_Dublin'] = df_test['In_Dublin'].astype('category')\n",
    "df_test.isnull().sum()"
   ]
  },
  {
   "cell_type": "markdown",
   "metadata": {},
   "source": [
    "### 5.3.2 Test the model on the cleaned dataset"
   ]
  },
  {
   "cell_type": "code",
   "execution_count": 678,
   "metadata": {},
   "outputs": [
    {
     "data": {
      "text/plain": [
       "RandomForestRegressor(max_depth=9, n_estimators=20, oob_score=True,\n",
       "                      random_state=1)"
      ]
     },
     "execution_count": 678,
     "metadata": {},
     "output_type": "execute_result"
    }
   ],
   "source": [
    "# set up dummies features\n",
    "df_test = pd.get_dummies(df_test, drop_first=True)\n",
    "#set up x train and y train \n",
    "y = pd.DataFrame(df_test[\"Price(€)\"])\n",
    "X = df_test.drop([\"Price(€)\"],1)\n",
    "# Split the dataset into two datasets: 70% training and 30% test\n",
    "X_train, X_test, y_train, y_test = train_test_split(X, y, test_size=0.3,random_state=1)\n",
    "rfc_test = RandomForestRegressor(n_estimators=20,max_depth=9, random_state=1, max_features='auto',oob_score=True)\n",
    "rfc_test.fit(X_train, y_train)"
   ]
  },
  {
   "cell_type": "markdown",
   "metadata": {},
   "source": [
    "Next, we test the model on the new dataset using the features selected above."
   ]
  },
  {
   "cell_type": "code",
   "execution_count": 679,
   "metadata": {},
   "outputs": [],
   "source": [
    "rfc_predictions_df_test = rfc_test.predict(X_test)"
   ]
  },
  {
   "cell_type": "code",
   "execution_count": 680,
   "metadata": {},
   "outputs": [
    {
     "name": "stdout",
     "output_type": "stream",
     "text": [
      "==================== Test Data =======================\n",
      "R squared: 0.296\n",
      "Mean Absolute Error: 89239.77504774087\n",
      "Mean squared error: 13334768615.97\n",
      "RMSE: 115476.26862680339\n",
      "======================================================\n"
     ]
    }
   ],
   "source": [
    "#print evaluation measures\n",
    "print(\"==================== Test Data =======================\")\n",
    "print('R squared: %.3f' %(rfc_test.score(X_test,y_test)))\n",
    "print('Mean Absolute Error:', metrics.mean_absolute_error(y_test, rfc_predictions_df_test))\n",
    "print(\"Mean squared error: %.2f\"\n",
    "      % mean_squared_error(y_test, rfc_predictions_df_test))\n",
    "print('RMSE:', np.sqrt(metrics.mean_squared_error(y_test, rfc_predictions_df_test)))\n",
    "print(\"======================================================\")"
   ]
  },
  {
   "cell_type": "markdown",
   "metadata": {},
   "source": [
    "- We can see that our model is performing well on the test data. We are pleased with this as this is data that the model has never seen before. This shows that our model is generalising well to new data. \n",
    "- We can see that R squared is 29.6% while Mean Absolute Error is 89239 and RMSE is 115476. These are both good scores. \n",
    "- It appears that the features selected during feature selection in section 5.2.2 have trained our model well. \n",
    "- At the beginning of part 5 we discussed that our aim was to increase the R squared while maintaining low value for RMSE, Mean Absolute Error and MSE. We are pleased that we have achieved this. "
   ]
  },
  {
   "cell_type": "markdown",
   "metadata": {},
   "source": [
    "## Conclusion \n",
    "\n",
    "The aim of this assignment was to find a model which best predicts the price of a house. This was a difficult task given that lots of missing values of our dataset. We succeeded in improving our models throughout part 5 by exploring various optomisation techniques. Furthermore, we are pleased with how our logistic model has performed on a new dataset. \n",
    "\n"
   ]
  }
 ],
 "metadata": {
  "interpreter": {
   "hash": "55801d1009117463abe715e8b112098fc0a5c48795f615e121f49ca2617c6d7c"
  },
  "kernelspec": {
   "display_name": "Python 3 (ipykernel)",
   "language": "python",
   "name": "python3"
  },
  "language_info": {
   "codemirror_mode": {
    "name": "ipython",
    "version": 3
   },
   "file_extension": ".py",
   "mimetype": "text/x-python",
   "name": "python",
   "nbconvert_exporter": "python",
   "pygments_lexer": "ipython3",
   "version": "3.9.5"
  }
 },
 "nbformat": 4,
 "nbformat_minor": 2
}
